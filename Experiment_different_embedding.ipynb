{
  "cells": [
    {
      "cell_type": "markdown",
      "metadata": {
        "id": "HBCbyUm8QAO9"
      },
      "source": [
        "# INSTALL LIBRARY"
      ]
    },
    {
      "cell_type": "code",
      "execution_count": 314,
      "metadata": {
        "colab": {
          "base_uri": "https://localhost:8080/"
        },
        "id": "_ke0Bi7aWoIZ",
        "outputId": "850d67b9-509c-4ce5-fc5b-a1890ff2cc61"
      },
      "outputs": [
        {
          "name": "stdout",
          "output_type": "stream",
          "text": [
            "Drive already mounted at /content/drive; to attempt to forcibly remount, call drive.mount(\"/content/drive\", force_remount=True).\n"
          ]
        }
      ],
      "source": [
        "from google.colab import drive\n",
        "drive.mount('/content/drive')\n"
      ]
    },
    {
      "cell_type": "code",
      "execution_count": 315,
      "metadata": {
        "colab": {
          "base_uri": "https://localhost:8080/"
        },
        "id": "I6NaiF9WW2mg",
        "outputId": "0ffb3809-3200-4917-eaa0-366b6dc9cf93"
      },
      "outputs": [
        {
          "name": "stdout",
          "output_type": "stream",
          "text": [
            "Looking in indexes: https://pypi.org/simple, https://us-python.pkg.dev/colab-wheels/public/simple/\n",
            "Requirement already satisfied: underthesea in /usr/local/lib/python3.8/dist-packages (6.0.3)\n",
            "Requirement already satisfied: PyYAML in /usr/local/lib/python3.8/dist-packages (from underthesea) (6.0)\n",
            "Requirement already satisfied: nltk in /usr/local/lib/python3.8/dist-packages (from underthesea) (3.7)\n",
            "Requirement already satisfied: joblib in /usr/local/lib/python3.8/dist-packages (from underthesea) (1.2.0)\n",
            "Requirement already satisfied: underthesea-core==0.0.5a2 in /usr/local/lib/python3.8/dist-packages (from underthesea) (0.0.5a2)\n",
            "Requirement already satisfied: requests in /usr/local/lib/python3.8/dist-packages (from underthesea) (2.25.1)\n",
            "Requirement already satisfied: scikit-learn in /usr/local/lib/python3.8/dist-packages (from underthesea) (1.0.2)\n",
            "Requirement already satisfied: Click>=6.0 in /usr/local/lib/python3.8/dist-packages (from underthesea) (7.1.2)\n",
            "Requirement already satisfied: tqdm in /usr/local/lib/python3.8/dist-packages (from underthesea) (4.64.1)\n",
            "Requirement already satisfied: python-crfsuite>=0.9.6 in /usr/local/lib/python3.8/dist-packages (from underthesea) (0.9.9)\n",
            "Requirement already satisfied: regex>=2021.8.3 in /usr/local/lib/python3.8/dist-packages (from nltk->underthesea) (2022.6.2)\n",
            "Requirement already satisfied: chardet<5,>=3.0.2 in /usr/local/lib/python3.8/dist-packages (from requests->underthesea) (4.0.0)\n",
            "Requirement already satisfied: urllib3<1.27,>=1.21.1 in /usr/local/lib/python3.8/dist-packages (from requests->underthesea) (1.24.3)\n",
            "Requirement already satisfied: idna<3,>=2.5 in /usr/local/lib/python3.8/dist-packages (from requests->underthesea) (2.10)\n",
            "Requirement already satisfied: certifi>=2017.4.17 in /usr/local/lib/python3.8/dist-packages (from requests->underthesea) (2022.12.7)\n",
            "Requirement already satisfied: threadpoolctl>=2.0.0 in /usr/local/lib/python3.8/dist-packages (from scikit-learn->underthesea) (3.1.0)\n",
            "Requirement already satisfied: numpy>=1.14.6 in /usr/local/lib/python3.8/dist-packages (from scikit-learn->underthesea) (1.21.6)\n",
            "Requirement already satisfied: scipy>=1.1.0 in /usr/local/lib/python3.8/dist-packages (from scikit-learn->underthesea) (1.7.3)\n"
          ]
        }
      ],
      "source": [
        "pip install underthesea"
      ]
    },
    {
      "cell_type": "code",
      "execution_count": 316,
      "metadata": {
        "id": "TnZSU3u3WQNP"
      },
      "outputs": [],
      "source": [
        "import pandas as pd\n",
        "import numpy as np\n",
        "import re\n",
        "from underthesea import word_tokenize,pos_tag\n",
        "# from pyvi import ViTokenizer, ViPosTagger\n",
        "import seaborn as sns\n",
        "from matplotlib import pyplot as plt\n",
        "from keras.utils import to_categorical\n"
      ]
    },
    {
      "cell_type": "code",
      "execution_count": 317,
      "metadata": {
        "colab": {
          "base_uri": "https://localhost:8080/"
        },
        "id": "9A3_fD82aZZd",
        "outputId": "4a8bad77-05ad-49d4-bddc-017e962fe7fb"
      },
      "outputs": [
        {
          "name": "stdout",
          "output_type": "stream",
          "text": [
            "Looking in indexes: https://pypi.org/simple, https://us-python.pkg.dev/colab-wheels/public/simple/\n",
            "Collecting git+https://www.github.com/keras-team/keras-contrib.git\n",
            "  Cloning https://www.github.com/keras-team/keras-contrib.git to /tmp/pip-req-build-8s813mqz\n",
            "  Running command git clone --filter=blob:none --quiet https://www.github.com/keras-team/keras-contrib.git /tmp/pip-req-build-8s813mqz\n",
            "  warning: redirecting to https://github.com/keras-team/keras-contrib.git/\n",
            "  Resolved https://www.github.com/keras-team/keras-contrib.git to commit 3fc5ef709e061416f4bc8a92ca3750c824b5d2b0\n",
            "  Preparing metadata (setup.py) ... \u001b[?25l\u001b[?25hdone\n",
            "Requirement already satisfied: keras in /usr/local/lib/python3.8/dist-packages (from keras-contrib==2.0.8) (2.9.0)\n"
          ]
        }
      ],
      "source": [
        "!pip install git+https://www.github.com/keras-team/keras-contrib.git"
      ]
    },
    {
      "cell_type": "code",
      "execution_count": 318,
      "metadata": {
        "id": "MvSR0aYqWQNZ"
      },
      "outputs": [],
      "source": [
        "from keras.initializers import Constant\n",
        "from keras.layers import Dense,Input,GlobalAveragePooling1D ,concatenate,Dropout,GRU,Bidirectional,TimeDistributed, Embedding, Attention, LSTM,Convolution1D,MaxPooling1D,Flatten,SpatialDropout1D,LeakyReLU,AveragePooling1D,MultiHeadAttention,GlobalMaxPooling1D,Dropout\n",
        "from keras.models import Model\n",
        "from keras.optimizers import Adamax,Adam\n",
        "from keras.losses import CategoricalCrossentropy,BinaryCrossentropy\n",
        "from keras.regularizers import L1,L2\n",
        "# from tensorflow_addons.layers import CRF\n",
        "# from tensorflow_addons.losses import SigmoidFocalCrossEntropy\n",
        "from keras_contrib.layers import CRF\n",
        "from keras.initializers import Orthogonal\n",
        "from keras.callbacks import EarlyStopping"
      ]
    },
    {
      "cell_type": "code",
      "execution_count": 319,
      "metadata": {
        "id": "6a7Uw0v3eYwF"
      },
      "outputs": [],
      "source": [
        "from keras_contrib.losses import crf_loss"
      ]
    },
    {
      "cell_type": "code",
      "execution_count": 320,
      "metadata": {
        "id": "uRn50qQ6Qxwu"
      },
      "outputs": [],
      "source": [
        "from sklearn.metrics import classification_report,f1_score,precision_score,recall_score,classification_report\n"
      ]
    },
    {
      "cell_type": "code",
      "execution_count": 321,
      "metadata": {
        "colab": {
          "base_uri": "https://localhost:8080/"
        },
        "id": "D6RPv9Wwe2Gx",
        "outputId": "104a0a2e-839c-4e34-8f4a-0f755f652515"
      },
      "outputs": [
        {
          "name": "stdout",
          "output_type": "stream",
          "text": [
            "Looking in indexes: https://pypi.org/simple, https://us-python.pkg.dev/colab-wheels/public/simple/\n",
            "Requirement already satisfied: tensorflow-addons in /usr/local/lib/python3.8/dist-packages (0.19.0)\n",
            "Requirement already satisfied: typeguard>=2.7 in /usr/local/lib/python3.8/dist-packages (from tensorflow-addons) (2.7.1)\n",
            "Requirement already satisfied: packaging in /usr/local/lib/python3.8/dist-packages (from tensorflow-addons) (21.3)\n",
            "Requirement already satisfied: pyparsing!=3.0.5,>=2.0.2 in /usr/local/lib/python3.8/dist-packages (from packaging->tensorflow-addons) (3.0.9)\n"
          ]
        }
      ],
      "source": [
        "!pip install tensorflow-addons"
      ]
    },
    {
      "cell_type": "markdown",
      "metadata": {
        "id": "Xtv9WGHCqB6E"
      },
      "source": [
        "# LOAD DATA"
      ]
    },
    {
      "cell_type": "markdown",
      "metadata": {
        "id": "U1pBDQ41qKmc"
      },
      "source": [
        "## PREPROCESSING"
      ]
    },
    {
      "cell_type": "code",
      "execution_count": 322,
      "metadata": {
        "id": "57n408h6WQNQ"
      },
      "outputs": [],
      "source": [
        "class Preprocessing:\n",
        "    def __init__(self):\n",
        "        self.vowels_to_ids = {}\n",
        "        self.vowels_table = [\n",
        "            ['a', 'à', 'á', 'ả', 'ã', 'ạ', 'a' ],\n",
        "            ['ă', 'ằ', 'ắ', 'ẳ', 'ẵ', 'ặ', 'aw'],\n",
        "            ['â', 'ầ', 'ấ', 'ẩ', 'ẫ', 'ậ', 'aa'],\n",
        "            ['e', 'è', 'é', 'ẻ', 'ẽ', 'ẹ', 'e' ],\n",
        "            ['ê', 'ề', 'ế', 'ể', 'ễ', 'ệ', 'ee'],\n",
        "            ['i', 'ì', 'í', 'ỉ', 'ĩ', 'ị', 'i' ],\n",
        "            ['o', 'ò', 'ó', 'ỏ', 'õ', 'ọ', 'o' ],\n",
        "            ['ô', 'ồ', 'ố', 'ổ', 'ỗ', 'ộ', 'o'],\n",
        "            ['ơ', 'ờ', 'ớ', 'ở', 'ỡ', 'ợ', 'ow'],\n",
        "            ['u', 'ù', 'ú', 'ủ', 'ũ', 'ụ', 'u' ],\n",
        "            ['ư', 'ừ', 'ứ', 'ử', 'ữ', 'ự', 'uw'],\n",
        "            ['y', 'ỳ', 'ý', 'ỷ', 'ỹ', 'ỵ', 'y' ]\n",
        "        ]\n",
        "        pass\n",
        "\n",
        "    def createVowelsTable(self):\n",
        "        \"\"\"Create Vowels Table\"\"\"\n",
        "        for i in range(len(self.vowels_table)):\n",
        "            for j in range(len(self.vowels_table[i]) - 1):\n",
        "                self.vowels_to_ids[self.vowels_table[i][j]] = (i, j)\n",
        "\n",
        "    def IsValidVietnameseWord(self,word):\n",
        "        \"\"\"Nguyên âm chỉ có thể đứng chung với nguyên âm. Một từ không thể có 2 nguyên âm cách nhau bởi 1 phụ âm\"\"\"\n",
        "        chars = list(word)\n",
        "        #nguyen am\n",
        "        vowel_index = -1\n",
        "        for i in range(len(chars)):\n",
        "            idx_vowel_table = self.vowels_to_ids.get(chars[i],(-1,-1))[0]\n",
        "            if idx_vowel_table != -1:\n",
        "                if vowel_index == -1:\n",
        "                    vowel_index = i \n",
        "                else:\n",
        "                    if i - vowel_index != 1:\n",
        "                        return False\n",
        "                    vowel_index = i\n",
        "        return True\n",
        "\n",
        "    def WordStandardized(self,word):\n",
        "        \"\"\"Standardize Word\"\"\"\n",
        "        if not self.IsValidVietnameseWord(word):\n",
        "            return word\n",
        "\n",
        "        chars = list(word)\n",
        "        vowel_indexes = []\n",
        "\n",
        "        # tìm vị trí nguyên âm\n",
        "        qu_or_gi = False\n",
        "        thanh_dieu = 0\n",
        "        for i in range(len(chars)):\n",
        "            vowel_table_row, vowel_table_col = self.vowels_to_ids.get(chars[i],(-1,-1))\n",
        "            if vowel_table_row == -1 :\n",
        "                continue\n",
        "            # qu\n",
        "            if vowel_table_row == 9:\n",
        "                if i != 0 and chars[i-1] == 'q':\n",
        "                    chars[i] = 'u'\n",
        "                    qu_or_gi = True\n",
        "            # gi\n",
        "            elif vowel_table_row == 5:\n",
        "                if i != 0 and chars[i-1] == 'g':\n",
        "                    chars[i] = 'i'\n",
        "                    qu_or_gi = True\n",
        "\n",
        "            # có chứa thanh điệu\n",
        "            if vowel_table_col != 0:\n",
        "                thanh_dieu = vowel_table_col\n",
        "                chars[i] = self.vowels_table[vowel_table_row][0]\n",
        "\n",
        "            vowel_indexes.append(i)\n",
        "        # 1 nguyên âm\n",
        "        if len(vowel_indexes) == 1:\n",
        "            c = chars[vowel_indexes[0]]\n",
        "            chars[vowel_indexes[0]] = self.vowels_table[self.vowels_to_ids[c][0]][thanh_dieu]\n",
        "            return ''.join(chars)\n",
        "\n",
        "        for idx_vowel in vowel_indexes:\n",
        "            vowel_table_row, vowel_table_col = self.vowels_to_ids.get(chars[idx_vowel],(-1,-1))\n",
        "            #ê, ơ, ô\n",
        "            if vowel_table_row == 4 or vowel_table_row == 7 or vowel_table_row == 8:\n",
        "                c = chars[idx_vowel]\n",
        "                chars[idx_vowel] = self.vowels_table[self.vowels_to_ids[c][0]][thanh_dieu]\n",
        "                return ''.join(chars)\n",
        "\n",
        "            # kiểm tra qu và gi, 2-3 nguyên âm thì nguyên âm thứ 2 chứa dấu\n",
        "            if qu_or_gi:\n",
        "                if len(vowel_indexes) == 2 or len(vowel_indexes) == 3:\n",
        "                    c = chars[vowel_indexes[1]]\n",
        "                    chars[vowel_indexes[1]] = self.vowels_table[self.vowels_to_ids[c][0]][thanh_dieu]\n",
        "                return ''.join(chars)\n",
        "            \n",
        "            # 2 nguyên âm\n",
        "            if len(vowel_indexes) == 2:\n",
        "                # âm cuối là nguyên âm\n",
        "                if vowel_indexes[-1] == len(chars) - 1:\n",
        "                    c = chars[vowel_indexes[0]]\n",
        "                    chars[vowel_indexes[0]] = self.vowels_table[self.vowels_to_ids[c][0]][thanh_dieu]\n",
        "                else:\n",
        "                    c = chars[vowel_indexes[-1]]\n",
        "                    chars[vowel_indexes[-1]] = self.vowels_table[self.vowels_to_ids[c][0]][thanh_dieu]\n",
        "                return ''.join(chars)\n",
        "            \n",
        "            elif len(vowel_indexes) == 3:\n",
        "                # âm cuối là nguyên âm\n",
        "                if vowel_indexes[-1] == len(chars) - 1:\n",
        "                    c = chars[vowel_indexes[1]]\n",
        "                    chars[vowel_indexes[1]] = self.vowels_table[self.vowels_to_ids[c][0]][thanh_dieu]\n",
        "                else:\n",
        "                    c = chars[vowel_indexes[-1]]\n",
        "                    chars[vowel_indexes[-1]] = self.vowels_table[self.vowels_to_ids[c][0]][thanh_dieu]\n",
        "                return ''.join(chars)\n",
        "\n",
        "        return ''.join(chars)\n",
        "\n",
        "    def TextNormalized(self,text):\n",
        "\n",
        "        #Chuyen sang viet thuong\n",
        "        text = text.lower()\n",
        "        # Rút gọn từ kéo dài\n",
        "        text = re.sub(r'(\\w)\\1+',r'\\1',text)\n",
        "\n",
        "        # xóa các emoji dư thừa\n",
        "        emoji_pattern = re.compile(\"[\"\n",
        "            u\"\\U0001F600-\\U0001F64F\"  # emoticons\n",
        "            u\"\\U0001F300-\\U0001F5FF\"  # symbols & pictographs\n",
        "            u\"\\U0001F680-\\U0001F6FF\"  # transport & map symbols\n",
        "            u\"\\U0001F1E0-\\U0001F1FF\"  # flags (iOS)\n",
        "                            \"]+\", flags=re.UNICODE)\n",
        "        text = emoji_pattern.sub(r'',text) # no emoji\n",
        "            \n",
        "        # dấu sát từ thì cách ra\n",
        "        text = re.sub(r'([\\.\\?\\/\\\\\\-\\+~`#$%!:\\\"\\;\\'\\|\\{\\}\\[\\],])', r' \\1 ',text)\n",
        "        text = text.replace(\".\",',')\n",
        "        text = text.split()\n",
        "        # chuẩn hóa thanh điệu\n",
        "        for i in range(len(text)):\n",
        "            text[i] = self.WordStandardized(text[i])\n",
        "\n",
        "        text = ' '.join(text)\n",
        "\n",
        "        # text = word_tokenize(text,format = 'text')\n",
        "\n",
        "        # xóa kí tự thừa \n",
        "        # text = re.sub(r'[^\\s\\wáàảãạăắằẳẵặâấầẩẫậéèẻẽẹêếềểễệóòỏõọôốồổỗộơớờởỡợíìỉĩịúùủũụưứừửữựýỳỷỹỵđÁÀẢÃẠĂẮẰẲẴẶÂẤẦẨẪẬÉÈẺẼẸÊẾỀỂỄỆÓÒỎÕỌÔỐỒỔỖỘƠỚỜỞỠỢÍÌỈĨỊÚÙỦŨỤƯỨỪỬỮỰÝỲỶỸỴĐ_]', ' ', text)\n",
        "        text = text.strip('\\\"').strip()\n",
        "\n",
        "        # xóa space\n",
        "        text = re.sub(r\"( )\\1+\",r'\\1',text)\n",
        "        \n",
        "        return text"
      ]
    },
    {
      "cell_type": "code",
      "execution_count": 323,
      "metadata": {
        "id": "5vB8aZGNWQNS"
      },
      "outputs": [],
      "source": [
        "def prepare_data(data):\n",
        "    \"\"\"Return Clean text and Label\"\"\"\n",
        "    texts = data['text'].values\n",
        "    labels = data['label'].values\n",
        "\n",
        "    process = Preprocessing()\n",
        "    annotate = []\n",
        "    clean_text = []\n",
        "    pos_tags = []\n",
        "    for text,label in zip(texts,labels):\n",
        "        _len = len(label)\n",
        "\n",
        "        label = np.array(label)\n",
        "        pair_indexes = label[:,:2]\n",
        "        aspect_polarity = label[:,-1]\n",
        "        \n",
        "        start = 0 \n",
        "\n",
        "        temp = []\n",
        "        full = \"\"\n",
        "        # print(text)\n",
        "\n",
        "        for p,a in zip(pair_indexes,aspect_polarity):\n",
        "            p = np.array(p,dtype=int)\n",
        "            if start != p[0] :\n",
        "                t = text[start:p[0]] \n",
        "                t = process.TextNormalized(t).split()\n",
        "                full += ' '.join(t) + \" \"\n",
        "                temp.extend([\"O\" for i in range(len(t))])\n",
        "            \n",
        "            #\n",
        "            start = p[1] \n",
        "            t = text[p[0]:p[1]]\n",
        "            t = process.TextNormalized(t).split()\n",
        "            temp.extend([\"I-\"+a if i != 0 else \"B-\"+a for i in range(len(t))])\n",
        "            full += ' '.join(t) + \" \"\n",
        "\n",
        "        if pair_indexes[-1,-1] != len(full):\n",
        "            t = text[int(pair_indexes[-1,1]):]\n",
        "            t = process.TextNormalized(t).split()\n",
        "            temp.extend([\"O\" for i in range(len(t))])\n",
        "            full += ' '.join(t) + \" \"\n",
        "\n",
        "        annotate.append(temp)\n",
        "        clean_text.append(full)\n",
        "            \n",
        "        # ptags = []\n",
        "        # for w in full.split():\n",
        "\n",
        "        #     ptag = np.array(pos_tag(w))[0][1]\n",
        "        #     ptags.append(ptag)\n",
        "        # pos_tags.append(ptags)\n",
        "\n",
        "        # print(full)\n",
        "        # z = full.split()\n",
        "        # for k,v in zip(z,temp):\n",
        "        #     print(k,v)\n",
        "        # print(temp)\n",
        "        # print(\"JEJE\")  \n",
        "        # print(full.split(),ptags)\n",
        "        # print(np.array(pos_tag(full)))\n",
        "        # assert len(ptags) == len(full.split())\n",
        "    return clean_text,annotate"
      ]
    },
    {
      "cell_type": "markdown",
      "metadata": {
        "id": "1eqhj7MKqOal"
      },
      "source": [
        "## READ DATA"
      ]
    },
    {
      "cell_type": "code",
      "execution_count": 324,
      "metadata": {
        "id": "_mQToL2aWQNS"
      },
      "outputs": [],
      "source": [
        "train_data = pd.read_json(\"/content/drive/MyDrive/deep/data/train_data.txt\",lines=True).drop(columns=['id','Comments'])\n",
        "val_data = pd.read_json(\"/content/drive/MyDrive/deep/data/val_data.txt\",lines=True).drop(columns=['id','Comments'])\n",
        "test_data = pd.read_json(\"/content/drive/MyDrive/deep/data/test_data.txt\",lines=True).drop(columns=['id','Comments'])"
      ]
    },
    {
      "cell_type": "markdown",
      "metadata": {
        "id": "NOWMHBpVqSgE"
      },
      "source": [
        "## VISUALIZE"
      ]
    },
    {
      "cell_type": "code",
      "execution_count": 325,
      "metadata": {
        "colab": {
          "base_uri": "https://localhost:8080/"
        },
        "id": "nlvQEkxhWQNT",
        "outputId": "3085ce22-ca58-4051-de6f-045a7d912014"
      },
      "outputs": [
        {
          "data": {
            "text/plain": [
              "{'PERFORMANCE#POSITIVE': 369,\n",
              " 'FANS_COOLING#NEGATIVE': 35,\n",
              " 'MULTIMEDIA_DEVICES#POSITIVE': 56,\n",
              " 'BATTERY#POSITIVE': 67,\n",
              " 'DESIGN#NEGATIVE': 10,\n",
              " 'DISPLAY#POSITIVE': 144,\n",
              " 'KEYBOARD#POSITIVE': 42,\n",
              " 'GENERAL#POSITIVE': 294,\n",
              " 'SERVICE#POSITIVE': 137,\n",
              " 'BATTERY#NEUTRAL': 16,\n",
              " 'STORAGE#POSITIVE': 19,\n",
              " 'DESIGN#POSITIVE': 257,\n",
              " 'FEATURES#POSITIVE': 53,\n",
              " 'MULTIMEDIA_DEVICES#NEGATIVE': 24,\n",
              " 'PRICE#POSITIVE': 31,\n",
              " 'DISPLAY#NEGATIVE': 25,\n",
              " 'BATTERY#NEGATIVE': 42,\n",
              " 'CONNECTIVITY#POSITIVE': 24,\n",
              " 'SERVICE#NEGATIVE': 8,\n",
              " 'PERFORMANCE#NEUTRAL': 19,\n",
              " 'FANS_COOLING#POSITIVE': 44,\n",
              " 'FEATURES#NEGATIVE': 15,\n",
              " 'PERFORMANCE#NEGATIVE': 35,\n",
              " 'DISPLAY#NEUTRAL': 7,\n",
              " 'FANS_COOLING#NEUTRAL': 10,\n",
              " 'GENERAL#NEGATIVE': 29,\n",
              " 'GENERAL#NEUTRAL': 14,\n",
              " 'WARRATY#POSITIVE': 11,\n",
              " 'PRICE#NEGATIVE': 3,\n",
              " 'MULTIMEDIA_DEVICES#NEUTRAL': 7,\n",
              " 'KEYBOARD#NEUTRAL': 2,\n",
              " 'KEYBOARD#NEGATIVE': 7,\n",
              " 'FEATURES#NEUTRAL': 1,\n",
              " 'TOUCHPAD#NEGATIVE': 4,\n",
              " 'TOUCHPAD#POSITIVE': 4,\n",
              " 'WARRATY#NEGATIVE': 2,\n",
              " 'DESIGN#NEUTRAL': 1,\n",
              " 'SERVICE#NEUTRAL': 1,\n",
              " 'CONNECTIVITY#NEUTRAL': 1,\n",
              " 'STORAGE#NEGATIVE': 1}"
            ]
          },
          "execution_count": 325,
          "metadata": {},
          "output_type": "execute_result"
        }
      ],
      "source": [
        "dic = {}\n",
        "for l in train_data.iloc[:,1]:\n",
        "    for c in l:\n",
        "        if c[2] not in dic:\n",
        "            dic[c[2]] = 1\n",
        "            continue\n",
        "        dic[c[2]] += 1\n",
        "dic"
      ]
    },
    {
      "cell_type": "code",
      "execution_count": 326,
      "metadata": {
        "colab": {
          "base_uri": "https://localhost:8080/",
          "height": 174
        },
        "id": "CASuRtLyWQNT",
        "outputId": "0ca91209-52ff-4105-e566-0de5d90d39e6"
      },
      "outputs": [
        {
          "data": {
            "text/html": [
              "\n",
              "  <div id=\"df-6862456d-ac28-4188-8faa-59e525a44ced\">\n",
              "    <div class=\"colab-df-container\">\n",
              "      <div>\n",
              "<style scoped>\n",
              "    .dataframe tbody tr th:only-of-type {\n",
              "        vertical-align: middle;\n",
              "    }\n",
              "\n",
              "    .dataframe tbody tr th {\n",
              "        vertical-align: top;\n",
              "    }\n",
              "\n",
              "    .dataframe thead th {\n",
              "        text-align: right;\n",
              "    }\n",
              "</style>\n",
              "<table border=\"1\" class=\"dataframe\">\n",
              "  <thead>\n",
              "    <tr style=\"text-align: right;\">\n",
              "      <th></th>\n",
              "      <th>PERFORMANCE#POSITIVE</th>\n",
              "      <th>FANS_COOLING#NEGATIVE</th>\n",
              "      <th>MULTIMEDIA_DEVICES#POSITIVE</th>\n",
              "      <th>BATTERY#POSITIVE</th>\n",
              "      <th>DESIGN#NEGATIVE</th>\n",
              "      <th>DISPLAY#POSITIVE</th>\n",
              "      <th>KEYBOARD#POSITIVE</th>\n",
              "      <th>GENERAL#POSITIVE</th>\n",
              "      <th>SERVICE#POSITIVE</th>\n",
              "      <th>BATTERY#NEUTRAL</th>\n",
              "      <th>...</th>\n",
              "      <th>KEYBOARD#NEUTRAL</th>\n",
              "      <th>KEYBOARD#NEGATIVE</th>\n",
              "      <th>FEATURES#NEUTRAL</th>\n",
              "      <th>TOUCHPAD#NEGATIVE</th>\n",
              "      <th>TOUCHPAD#POSITIVE</th>\n",
              "      <th>WARRATY#NEGATIVE</th>\n",
              "      <th>DESIGN#NEUTRAL</th>\n",
              "      <th>SERVICE#NEUTRAL</th>\n",
              "      <th>CONNECTIVITY#NEUTRAL</th>\n",
              "      <th>STORAGE#NEGATIVE</th>\n",
              "    </tr>\n",
              "  </thead>\n",
              "  <tbody>\n",
              "    <tr>\n",
              "      <th>0</th>\n",
              "      <td>369</td>\n",
              "      <td>35</td>\n",
              "      <td>56</td>\n",
              "      <td>67</td>\n",
              "      <td>10</td>\n",
              "      <td>144</td>\n",
              "      <td>42</td>\n",
              "      <td>294</td>\n",
              "      <td>137</td>\n",
              "      <td>16</td>\n",
              "      <td>...</td>\n",
              "      <td>2</td>\n",
              "      <td>7</td>\n",
              "      <td>1</td>\n",
              "      <td>4</td>\n",
              "      <td>4</td>\n",
              "      <td>2</td>\n",
              "      <td>1</td>\n",
              "      <td>1</td>\n",
              "      <td>1</td>\n",
              "      <td>1</td>\n",
              "    </tr>\n",
              "  </tbody>\n",
              "</table>\n",
              "<p>1 rows × 40 columns</p>\n",
              "</div>\n",
              "      <button class=\"colab-df-convert\" onclick=\"convertToInteractive('df-6862456d-ac28-4188-8faa-59e525a44ced')\"\n",
              "              title=\"Convert this dataframe to an interactive table.\"\n",
              "              style=\"display:none;\">\n",
              "        \n",
              "  <svg xmlns=\"http://www.w3.org/2000/svg\" height=\"24px\"viewBox=\"0 0 24 24\"\n",
              "       width=\"24px\">\n",
              "    <path d=\"M0 0h24v24H0V0z\" fill=\"none\"/>\n",
              "    <path d=\"M18.56 5.44l.94 2.06.94-2.06 2.06-.94-2.06-.94-.94-2.06-.94 2.06-2.06.94zm-11 1L8.5 8.5l.94-2.06 2.06-.94-2.06-.94L8.5 2.5l-.94 2.06-2.06.94zm10 10l.94 2.06.94-2.06 2.06-.94-2.06-.94-.94-2.06-.94 2.06-2.06.94z\"/><path d=\"M17.41 7.96l-1.37-1.37c-.4-.4-.92-.59-1.43-.59-.52 0-1.04.2-1.43.59L10.3 9.45l-7.72 7.72c-.78.78-.78 2.05 0 2.83L4 21.41c.39.39.9.59 1.41.59.51 0 1.02-.2 1.41-.59l7.78-7.78 2.81-2.81c.8-.78.8-2.07 0-2.86zM5.41 20L4 18.59l7.72-7.72 1.47 1.35L5.41 20z\"/>\n",
              "  </svg>\n",
              "      </button>\n",
              "      \n",
              "  <style>\n",
              "    .colab-df-container {\n",
              "      display:flex;\n",
              "      flex-wrap:wrap;\n",
              "      gap: 12px;\n",
              "    }\n",
              "\n",
              "    .colab-df-convert {\n",
              "      background-color: #E8F0FE;\n",
              "      border: none;\n",
              "      border-radius: 50%;\n",
              "      cursor: pointer;\n",
              "      display: none;\n",
              "      fill: #1967D2;\n",
              "      height: 32px;\n",
              "      padding: 0 0 0 0;\n",
              "      width: 32px;\n",
              "    }\n",
              "\n",
              "    .colab-df-convert:hover {\n",
              "      background-color: #E2EBFA;\n",
              "      box-shadow: 0px 1px 2px rgba(60, 64, 67, 0.3), 0px 1px 3px 1px rgba(60, 64, 67, 0.15);\n",
              "      fill: #174EA6;\n",
              "    }\n",
              "\n",
              "    [theme=dark] .colab-df-convert {\n",
              "      background-color: #3B4455;\n",
              "      fill: #D2E3FC;\n",
              "    }\n",
              "\n",
              "    [theme=dark] .colab-df-convert:hover {\n",
              "      background-color: #434B5C;\n",
              "      box-shadow: 0px 1px 3px 1px rgba(0, 0, 0, 0.15);\n",
              "      filter: drop-shadow(0px 1px 2px rgba(0, 0, 0, 0.3));\n",
              "      fill: #FFFFFF;\n",
              "    }\n",
              "  </style>\n",
              "\n",
              "      <script>\n",
              "        const buttonEl =\n",
              "          document.querySelector('#df-6862456d-ac28-4188-8faa-59e525a44ced button.colab-df-convert');\n",
              "        buttonEl.style.display =\n",
              "          google.colab.kernel.accessAllowed ? 'block' : 'none';\n",
              "\n",
              "        async function convertToInteractive(key) {\n",
              "          const element = document.querySelector('#df-6862456d-ac28-4188-8faa-59e525a44ced');\n",
              "          const dataTable =\n",
              "            await google.colab.kernel.invokeFunction('convertToInteractive',\n",
              "                                                     [key], {});\n",
              "          if (!dataTable) return;\n",
              "\n",
              "          const docLinkHtml = 'Like what you see? Visit the ' +\n",
              "            '<a target=\"_blank\" href=https://colab.research.google.com/notebooks/data_table.ipynb>data table notebook</a>'\n",
              "            + ' to learn more about interactive tables.';\n",
              "          element.innerHTML = '';\n",
              "          dataTable['output_type'] = 'display_data';\n",
              "          await google.colab.output.renderOutput(dataTable, element);\n",
              "          const docLink = document.createElement('div');\n",
              "          docLink.innerHTML = docLinkHtml;\n",
              "          element.appendChild(docLink);\n",
              "        }\n",
              "      </script>\n",
              "    </div>\n",
              "  </div>\n",
              "  "
            ],
            "text/plain": [
              "   PERFORMANCE#POSITIVE  FANS_COOLING#NEGATIVE  MULTIMEDIA_DEVICES#POSITIVE  \\\n",
              "0                   369                     35                           56   \n",
              "\n",
              "   BATTERY#POSITIVE  DESIGN#NEGATIVE  DISPLAY#POSITIVE  KEYBOARD#POSITIVE  \\\n",
              "0                67               10               144                 42   \n",
              "\n",
              "   GENERAL#POSITIVE  SERVICE#POSITIVE  BATTERY#NEUTRAL  ...  KEYBOARD#NEUTRAL  \\\n",
              "0               294               137               16  ...                 2   \n",
              "\n",
              "   KEYBOARD#NEGATIVE  FEATURES#NEUTRAL  TOUCHPAD#NEGATIVE  TOUCHPAD#POSITIVE  \\\n",
              "0                  7                 1                  4                  4   \n",
              "\n",
              "   WARRATY#NEGATIVE  DESIGN#NEUTRAL  SERVICE#NEUTRAL  CONNECTIVITY#NEUTRAL  \\\n",
              "0                 2               1                1                     1   \n",
              "\n",
              "   STORAGE#NEGATIVE  \n",
              "0                 1  \n",
              "\n",
              "[1 rows x 40 columns]"
            ]
          },
          "execution_count": 326,
          "metadata": {},
          "output_type": "execute_result"
        }
      ],
      "source": [
        "bar = pd.DataFrame(dic,index=[0])\n",
        "bar"
      ]
    },
    {
      "cell_type": "code",
      "execution_count": 327,
      "metadata": {
        "colab": {
          "base_uri": "https://localhost:8080/",
          "height": 351
        },
        "id": "KPvZRiQAWQNU",
        "outputId": "114260e5-cffb-4552-a9de-a80583a2ace7"
      },
      "outputs": [
        {
          "data": {
            "text/plain": [
              "<matplotlib.axes._subplots.AxesSubplot at 0x7f8c4e471370>"
            ]
          },
          "execution_count": 327,
          "metadata": {},
          "output_type": "execute_result"
        },
        {
          "data": {
            "image/png": "[encoded data removed]",
            "text/plain": [
              "<Figure size 576x360 with 1 Axes>"
            ]
          },
          "metadata": {
            "needs_background": "light"
          },
          "output_type": "display_data"
        }
      ],
      "source": [
        "sum_bar = bar.groupby(by = bar.columns.str.extract(r\"(\\w+)\",expand=False),axis=1).sum().T.sort_values(by=0,ascending=False)\n",
        "plt.figure(figsize=(8,5))\n",
        "sns.barplot(y=sum_bar.index,x=sum_bar[0])\n"
      ]
    },
    {
      "cell_type": "code",
      "execution_count": 328,
      "metadata": {
        "colab": {
          "base_uri": "https://localhost:8080/",
          "height": 871
        },
        "id": "qhWWqsawWQNU",
        "outputId": "7c352383-4704-43b2-8bd0-094b76d334ff"
      },
      "outputs": [
        {
          "data": {
            "text/plain": [
              "<matplotlib.axes._subplots.AxesSubplot at 0x7f8c4f7d2f70>"
            ]
          },
          "execution_count": 328,
          "metadata": {},
          "output_type": "execute_result"
        },
        {
          "data": {
            "image/png": "[encoded data removed]",
            "text/plain": [
              "<Figure size 1440x1440 with 1 Axes>"
            ]
          },
          "metadata": {
            "needs_background": "light"
          },
          "output_type": "display_data"
        }
      ],
      "source": [
        "bar = pd.DataFrame(dic,index=[0]).T.sort_values(by=0,ascending=False).reset_index()\n",
        "plt.figure(figsize=(20,20))\n",
        "sns.barplot(y=bar['index'],x=bar[0])"
      ]
    },
    {
      "cell_type": "code",
      "execution_count": 329,
      "metadata": {
        "id": "0ImXmY3cWQNU"
      },
      "outputs": [],
      "source": [
        "X_train,y_train = prepare_data(train_data)\n",
        "X_val, y_val = prepare_data(val_data)\n",
        "X_test, y_test = prepare_data(test_data)"
      ]
    },
    {
      "cell_type": "code",
      "execution_count": 330,
      "metadata": {
        "colab": {
          "base_uri": "https://localhost:8080/",
          "height": 880
        },
        "id": "2W0R8kXjWQNU",
        "outputId": "dcb02221-f7cd-446e-cfc7-2119179f2af2"
      },
      "outputs": [
        {
          "data": {
            "text/plain": [
              "<matplotlib.axes._subplots.AxesSubplot at 0x7f8c4e2d3220>"
            ]
          },
          "execution_count": 330,
          "metadata": {},
          "output_type": "execute_result"
        },
        {
          "data": {
            "image/png": "[encoded data removed]",
            "text/plain": [
              "<Figure size 1080x1080 with 1 Axes>"
            ]
          },
          "metadata": {
            "needs_background": "light"
          },
          "output_type": "display_data"
        }
      ],
      "source": [
        "temp = []\n",
        "for k in X_train:\n",
        "    k = k.split()\n",
        "    temp.append(len(k))\n",
        "plt.figure(figsize = (15,15))\n",
        "sns.histplot(temp)"
      ]
    },
    {
      "cell_type": "code",
      "execution_count": 331,
      "metadata": {
        "id": "zAydlceqWQNV"
      },
      "outputs": [],
      "source": [
        "MAX_LEN = 30"
      ]
    },
    {
      "cell_type": "code",
      "execution_count": 332,
      "metadata": {
        "id": "BbztYOhdWQNV"
      },
      "outputs": [],
      "source": [
        "from keras.preprocessing.text import Tokenizer\n",
        "from keras.utils import pad_sequences"
      ]
    },
    {
      "cell_type": "markdown",
      "metadata": {
        "id": "flESI-3jx9ht"
      },
      "source": [
        "# Embedding"
      ]
    },
    {
      "cell_type": "markdown",
      "metadata": {
        "id": "QFOn7UJnqXuV"
      },
      "source": [
        "## WORD EMBEDDING"
      ]
    },
    {
      "cell_type": "code",
      "execution_count": 333,
      "metadata": {
        "id": "S4xNfYY_yA89"
      },
      "outputs": [],
      "source": [
        "f= open('/content/drive/MyDrive/deep/word2vec_vi_syllables_100dims.txt','r',encoding='utf-8')\n",
        "words = []\n",
        "embedding_words = {}\n",
        "\n",
        "i = 0\n",
        "for line in f:\n",
        "  if i == 0:\n",
        "    i+= 1\n",
        "    continue\n",
        "  value = line.split(' ')\n",
        "  word = value[0]\n",
        "  words.append(word)\n",
        "  try:\n",
        "    coefs = value[1:]\n",
        "    embedding_words[word] = np.asarray(coefs,dtype=np.float32)\n",
        "  except:\n",
        "    pass\n"
      ]
    },
    {
      "cell_type": "code",
      "execution_count": 334,
      "metadata": {
        "id": "ZpiE46G5zZmy"
      },
      "outputs": [],
      "source": [
        "embedding_dim = 100"
      ]
    },
    {
      "cell_type": "code",
      "execution_count": 335,
      "metadata": {
        "id": "55kUaj3c1zjQ"
      },
      "outputs": [],
      "source": [
        "num_word = len(words)"
      ]
    },
    {
      "cell_type": "code",
      "execution_count": 336,
      "metadata": {
        "id": "LRLn00iX2_WQ"
      },
      "outputs": [],
      "source": [
        "word2idx = {w:i for i,w in enumerate(words,start = 2)}\n",
        "word2idx['PAD'] = 0\n",
        "word2idx['UNK'] = 1"
      ]
    },
    {
      "cell_type": "code",
      "execution_count": 337,
      "metadata": {
        "id": "28zEf0u1WQNX"
      },
      "outputs": [],
      "source": [
        "idx2word = {i:w for w,i in word2idx.items()}"
      ]
    },
    {
      "cell_type": "code",
      "execution_count": 338,
      "metadata": {
        "colab": {
          "base_uri": "https://localhost:8080/"
        },
        "id": "5ydC4P-GWQNX",
        "outputId": "8ab9d0cc-3c57-4209-e54a-fd473912b339"
      },
      "outputs": [
        {
          "data": {
            "text/plain": [
              "array(['GENERAL#POSITIVE', 'GENERAL#NEUTRAL', 'GENERAL#NEGATIVE',\n",
              "       'DISPLAY#POSITIVE', 'DISPLAY#NEUTRAL', 'DISPLAY#NEGATIVE',\n",
              "       'BATTERY#POSITIVE', 'BATTERY#NEUTRAL', 'BATTERY#NEGATIVE',\n",
              "       'TOUCHPAD#POSITIVE', 'TOUCHPAD#NEUTRAL', 'TOUCHPAD#NEGATIVE',\n",
              "       'KEYBOARD#POSITIVE', 'KEYBOARD#NEUTRAL', 'KEYBOARD#NEGATIVE',\n",
              "       'SERVICE#POSITIVE', 'SERVICE#NEUTRAL', 'SERVICE#NEGATIVE',\n",
              "       'WARRATY#POSITIVE', 'WARRATY#NEUTRAL', 'WARRATY#NEGATIVE',\n",
              "       'STORAGE#POSITIVE', 'STORAGE#NEUTRAL', 'STORAGE#NEGATIVE',\n",
              "       'CONNECTIVITY#POSITIVE', 'CONNECTIVITY#NEUTRAL',\n",
              "       'CONNECTIVITY#NEGATIVE', 'MULTIMEDIA_DEVICES#POSITIVE',\n",
              "       'MULTIMEDIA_DEVICES#NEUTRAL', 'MULTIMEDIA_DEVICES#NEGATIVE',\n",
              "       'DESIGN#POSITIVE', 'DESIGN#NEUTRAL', 'DESIGN#NEGATIVE',\n",
              "       'FANS_COOLING#POSITIVE', 'FANS_COOLING#NEUTRAL',\n",
              "       'FANS_COOLING#NEGATIVE', 'PERFORMANCE#POSITIVE',\n",
              "       'PERFORMANCE#NEUTRAL', 'PERFORMANCE#NEGATIVE', 'PRICE#POSITIVE',\n",
              "       'PRICE#NEUTRAL', 'PRICE#NEGATIVE', 'FEATURES#POSITIVE',\n",
              "       'FEATURES#NEUTRAL', 'FEATURES#NEGATIVE'], dtype=object)"
            ]
          },
          "execution_count": 338,
          "metadata": {},
          "output_type": "execute_result"
        }
      ],
      "source": [
        "with open(\"/content/drive/MyDrive/deep/data/label.txt\",encoding = 'utf-8') as f:\n",
        "    la = f.readlines()\n",
        "\n",
        "for i in range(len(la)):\n",
        "   la[i] = la[i].strip(\"\\n\") \n",
        "la = np.array(la,dtype='object')\n",
        "la"
      ]
    },
    {
      "cell_type": "code",
      "execution_count": 339,
      "metadata": {
        "id": "byKtmP9MWQNX"
      },
      "outputs": [],
      "source": [
        "bi = \"B-\" + la\n",
        "ii = \"I-\" + la"
      ]
    },
    {
      "cell_type": "code",
      "execution_count": 340,
      "metadata": {
        "colab": {
          "base_uri": "https://localhost:8080/"
        },
        "id": "sXeKdjmwWQNX",
        "outputId": "e6e7441b-d394-4335-a523-56fee3f83e7a"
      },
      "outputs": [
        {
          "data": {
            "text/plain": [
              "array(['B-GENERAL#POSITIVE', 'B-GENERAL#NEUTRAL', 'B-GENERAL#NEGATIVE',\n",
              "       'B-DISPLAY#POSITIVE', 'B-DISPLAY#NEUTRAL', 'B-DISPLAY#NEGATIVE',\n",
              "       'B-BATTERY#POSITIVE', 'B-BATTERY#NEUTRAL', 'B-BATTERY#NEGATIVE',\n",
              "       'B-TOUCHPAD#POSITIVE', 'B-TOUCHPAD#NEUTRAL', 'B-TOUCHPAD#NEGATIVE',\n",
              "       'B-KEYBOARD#POSITIVE', 'B-KEYBOARD#NEUTRAL', 'B-KEYBOARD#NEGATIVE',\n",
              "       'B-SERVICE#POSITIVE', 'B-SERVICE#NEUTRAL', 'B-SERVICE#NEGATIVE',\n",
              "       'B-WARRATY#POSITIVE', 'B-WARRATY#NEUTRAL', 'B-WARRATY#NEGATIVE',\n",
              "       'B-STORAGE#POSITIVE', 'B-STORAGE#NEUTRAL', 'B-STORAGE#NEGATIVE',\n",
              "       'B-CONNECTIVITY#POSITIVE', 'B-CONNECTIVITY#NEUTRAL',\n",
              "       'B-CONNECTIVITY#NEGATIVE', 'B-MULTIMEDIA_DEVICES#POSITIVE',\n",
              "       'B-MULTIMEDIA_DEVICES#NEUTRAL', 'B-MULTIMEDIA_DEVICES#NEGATIVE',\n",
              "       'B-DESIGN#POSITIVE', 'B-DESIGN#NEUTRAL', 'B-DESIGN#NEGATIVE',\n",
              "       'B-FANS_COOLING#POSITIVE', 'B-FANS_COOLING#NEUTRAL',\n",
              "       'B-FANS_COOLING#NEGATIVE', 'B-PERFORMANCE#POSITIVE',\n",
              "       'B-PERFORMANCE#NEUTRAL', 'B-PERFORMANCE#NEGATIVE',\n",
              "       'B-PRICE#POSITIVE', 'B-PRICE#NEUTRAL', 'B-PRICE#NEGATIVE',\n",
              "       'B-FEATURES#POSITIVE', 'B-FEATURES#NEUTRAL', 'B-FEATURES#NEGATIVE'],\n",
              "      dtype=object)"
            ]
          },
          "execution_count": 340,
          "metadata": {},
          "output_type": "execute_result"
        }
      ],
      "source": [
        "bi"
      ]
    },
    {
      "cell_type": "code",
      "execution_count": 341,
      "metadata": {
        "id": "c2GU3tMnWQNY"
      },
      "outputs": [],
      "source": [
        "tags = np.append(np.append(bi,ii),\"O\")\n",
        "tag2idx = {t:i+1 for i,t in enumerate(tags)}\n",
        "tag2idx[\"PAD\"] = 0\n",
        "idx2tag = {i:t for t,i in tag2idx.items()}"
      ]
    },
    {
      "cell_type": "code",
      "execution_count": 342,
      "metadata": {
        "colab": {
          "base_uri": "https://localhost:8080/"
        },
        "id": "n3QNhtxpWQNY",
        "outputId": "b9a0d580-a53d-4ac1-eddf-bd5db0e0f5c6"
      },
      "outputs": [
        {
          "data": {
            "text/plain": [
              "array(['B-GENERAL#POSITIVE', 'B-GENERAL#NEUTRAL', 'B-GENERAL#NEGATIVE',\n",
              "       'B-DISPLAY#POSITIVE', 'B-DISPLAY#NEUTRAL', 'B-DISPLAY#NEGATIVE',\n",
              "       'B-BATTERY#POSITIVE', 'B-BATTERY#NEUTRAL', 'B-BATTERY#NEGATIVE',\n",
              "       'B-TOUCHPAD#POSITIVE', 'B-TOUCHPAD#NEUTRAL', 'B-TOUCHPAD#NEGATIVE',\n",
              "       'B-KEYBOARD#POSITIVE', 'B-KEYBOARD#NEUTRAL', 'B-KEYBOARD#NEGATIVE',\n",
              "       'B-SERVICE#POSITIVE', 'B-SERVICE#NEUTRAL', 'B-SERVICE#NEGATIVE',\n",
              "       'B-WARRATY#POSITIVE', 'B-WARRATY#NEUTRAL', 'B-WARRATY#NEGATIVE',\n",
              "       'B-STORAGE#POSITIVE', 'B-STORAGE#NEUTRAL', 'B-STORAGE#NEGATIVE',\n",
              "       'B-CONNECTIVITY#POSITIVE', 'B-CONNECTIVITY#NEUTRAL',\n",
              "       'B-CONNECTIVITY#NEGATIVE', 'B-MULTIMEDIA_DEVICES#POSITIVE',\n",
              "       'B-MULTIMEDIA_DEVICES#NEUTRAL', 'B-MULTIMEDIA_DEVICES#NEGATIVE',\n",
              "       'B-DESIGN#POSITIVE', 'B-DESIGN#NEUTRAL', 'B-DESIGN#NEGATIVE',\n",
              "       'B-FANS_COOLING#POSITIVE', 'B-FANS_COOLING#NEUTRAL',\n",
              "       'B-FANS_COOLING#NEGATIVE', 'B-PERFORMANCE#POSITIVE',\n",
              "       'B-PERFORMANCE#NEUTRAL', 'B-PERFORMANCE#NEGATIVE',\n",
              "       'B-PRICE#POSITIVE', 'B-PRICE#NEUTRAL', 'B-PRICE#NEGATIVE',\n",
              "       'B-FEATURES#POSITIVE', 'B-FEATURES#NEUTRAL', 'B-FEATURES#NEGATIVE',\n",
              "       'I-GENERAL#POSITIVE', 'I-GENERAL#NEUTRAL', 'I-GENERAL#NEGATIVE',\n",
              "       'I-DISPLAY#POSITIVE', 'I-DISPLAY#NEUTRAL', 'I-DISPLAY#NEGATIVE',\n",
              "       'I-BATTERY#POSITIVE', 'I-BATTERY#NEUTRAL', 'I-BATTERY#NEGATIVE',\n",
              "       'I-TOUCHPAD#POSITIVE', 'I-TOUCHPAD#NEUTRAL', 'I-TOUCHPAD#NEGATIVE',\n",
              "       'I-KEYBOARD#POSITIVE', 'I-KEYBOARD#NEUTRAL', 'I-KEYBOARD#NEGATIVE',\n",
              "       'I-SERVICE#POSITIVE', 'I-SERVICE#NEUTRAL', 'I-SERVICE#NEGATIVE',\n",
              "       'I-WARRATY#POSITIVE', 'I-WARRATY#NEUTRAL', 'I-WARRATY#NEGATIVE',\n",
              "       'I-STORAGE#POSITIVE', 'I-STORAGE#NEUTRAL', 'I-STORAGE#NEGATIVE',\n",
              "       'I-CONNECTIVITY#POSITIVE', 'I-CONNECTIVITY#NEUTRAL',\n",
              "       'I-CONNECTIVITY#NEGATIVE', 'I-MULTIMEDIA_DEVICES#POSITIVE',\n",
              "       'I-MULTIMEDIA_DEVICES#NEUTRAL', 'I-MULTIMEDIA_DEVICES#NEGATIVE',\n",
              "       'I-DESIGN#POSITIVE', 'I-DESIGN#NEUTRAL', 'I-DESIGN#NEGATIVE',\n",
              "       'I-FANS_COOLING#POSITIVE', 'I-FANS_COOLING#NEUTRAL',\n",
              "       'I-FANS_COOLING#NEGATIVE', 'I-PERFORMANCE#POSITIVE',\n",
              "       'I-PERFORMANCE#NEUTRAL', 'I-PERFORMANCE#NEGATIVE',\n",
              "       'I-PRICE#POSITIVE', 'I-PRICE#NEUTRAL', 'I-PRICE#NEGATIVE',\n",
              "       'I-FEATURES#POSITIVE', 'I-FEATURES#NEUTRAL', 'I-FEATURES#NEGATIVE',\n",
              "       'O'], dtype=object)"
            ]
          },
          "execution_count": 342,
          "metadata": {},
          "output_type": "execute_result"
        }
      ],
      "source": [
        "tags"
      ]
    },
    {
      "cell_type": "code",
      "execution_count": 343,
      "metadata": {
        "id": "T8cI1bjD1bsi"
      },
      "outputs": [],
      "source": [
        "embedding_matrix = np.ones((num_word,embedding_dim))"
      ]
    },
    {
      "cell_type": "code",
      "execution_count": 344,
      "metadata": {
        "id": "CUXu4VzA1brv"
      },
      "outputs": [],
      "source": [
        "for w,i in word2idx.items():\n",
        "  if i > 10000:\n",
        "    continue\n",
        "  embedding_vector = embedding_words.get(w)\n",
        "  if embedding_vector is not None:\n",
        "    embedding_matrix[i] = embedding_vector\n",
        "  else:\n",
        "    embedding_matrix[i] = np.random.randn(100)\n"
      ]
    },
    {
      "cell_type": "code",
      "execution_count": 345,
      "metadata": {
        "colab": {
          "base_uri": "https://localhost:8080/"
        },
        "id": "LBcroj08PfSe",
        "outputId": "3aeebbf8-509f-447c-fe8f-56d9e5b26c43"
      },
      "outputs": [
        {
          "data": {
            "text/plain": [
              "array([[-0.03302622,  0.05436452, -0.04827953, ..., -0.06244506,\n",
              "        -0.06585843,  0.06980351],\n",
              "       [ 0.02975786,  0.06155805, -0.0232033 , ..., -0.03034727,\n",
              "        -0.06321501, -0.041641  ],\n",
              "       [ 0.00904334, -0.18228702,  0.00215415, ..., -0.06414029,\n",
              "        -0.02119223, -0.19090103],\n",
              "       ...,\n",
              "       [ 1.        ,  1.        ,  1.        , ...,  1.        ,\n",
              "         1.        ,  1.        ],\n",
              "       [ 1.        ,  1.        ,  1.        , ...,  1.        ,\n",
              "         1.        ,  1.        ],\n",
              "       [ 1.        ,  1.        ,  1.        , ...,  1.        ,\n",
              "         1.        ,  1.        ]])"
            ]
          },
          "execution_count": 345,
          "metadata": {},
          "output_type": "execute_result"
        }
      ],
      "source": [
        "embedding_matrix"
      ]
    },
    {
      "cell_type": "code",
      "execution_count": 346,
      "metadata": {
        "id": "XJk7_p83tZD0"
      },
      "outputs": [],
      "source": [
        "def encoded(X):\n",
        "  x_new = []\n",
        "  for sent in X:\n",
        "    te = []\n",
        "    for word in sent.split():\n",
        "      try:\n",
        "        te.append(word2idx[word])\n",
        "      except:\n",
        "        te.append(word2idx[\"UNK\"])\n",
        "    x_new.append(te)\n",
        "  x_new = pad_sequences(x_new,maxlen=MAX_LEN,padding='post',truncating = 'post',value = word2idx['PAD'])\n",
        "  return x_new"
      ]
    },
    {
      "cell_type": "code",
      "execution_count": 347,
      "metadata": {
        "id": "ZUyRhjK1t2z1"
      },
      "outputs": [],
      "source": [
        "X_train_encoded = encoded(X_train)\n",
        "X_val_encoded = encoded(X_val)\n",
        "X_test_encoded = encoded(X_test)\n"
      ]
    },
    {
      "cell_type": "code",
      "execution_count": 348,
      "metadata": {
        "id": "ybuKVeDdWQNZ"
      },
      "outputs": [],
      "source": [
        "y_train_encoded = [[tag2idx[w] for w in y] for y in y_train]\n",
        "y_train_encoded = pad_sequences(y_train_encoded,maxlen=MAX_LEN,padding='post',truncating = 'post',value = tag2idx['PAD'])\n",
        "y_train_encoded = [[to_categorical(z,num_classes = len(tag2idx)) for z in a] for a in y_train_encoded]\n",
        "\n",
        "y_val_encoded = [[tag2idx[w] for w in y] for y in y_val]\n",
        "y_val_encoded = pad_sequences(y_val_encoded,maxlen=MAX_LEN,padding='post',truncating = 'post',value = tag2idx['PAD'])\n",
        "y_val_encoded = [[to_categorical(z,num_classes = len(tag2idx)) for z in a] for a in y_val_encoded]\n",
        "\n",
        "y_test_encoded = [[tag2idx[w] for w in y] for y in y_test]\n",
        "y_test_encoded = pad_sequences(y_test_encoded,maxlen=MAX_LEN,padding='post',truncating = 'post',value = tag2idx['PAD'])\n",
        "y_test_encoded = [[to_categorical(z,num_classes = len(tag2idx)) for z in a] for a in y_test_encoded]\n"
      ]
    },
    {
      "cell_type": "markdown",
      "metadata": {
        "id": "wLw1rMB57INU"
      },
      "source": [
        "## CHARACTER EMBEDDING"
      ]
    },
    {
      "cell_type": "code",
      "execution_count": 349,
      "metadata": {
        "id": "T0bdn-al7LSU"
      },
      "outputs": [],
      "source": [
        "chars = 'aàáảãạăằắẳẵặâầấẩẫậèéẻẽẹeêềếểễệiìíỉĩịoòóỏõọôồốổỗộơờớởỡợuùúủũụưừứửữựyỳýỷỹỵđbcdgsfzhwjklmnpqrtvx0123456789 .!?:,+*\\'%-\\(\\)/$|&;[]🥰🤣❤\"'"
      ]
    },
    {
      "cell_type": "code",
      "execution_count": 350,
      "metadata": {
        "id": "qniGvQ-M7MDz"
      },
      "outputs": [],
      "source": [
        "char2idx = {c:i+2 for i,c in enumerate(list(chars))}\n",
        "char2idx[\"UNK\"] = 1\n",
        "char2idx[\"PAD\"] = 0\n",
        "idx2char = {i:c for c,i in char2idx.items()}"
      ]
    },
    {
      "cell_type": "code",
      "execution_count": 351,
      "metadata": {
        "colab": {
          "base_uri": "https://localhost:8080/",
          "height": 0
        },
        "id": "5iz6yg061i_q",
        "outputId": "cbf2811a-cef0-4606-9779-893e9ce45d92"
      },
      "outputs": [
        {
          "data": {
            "text/plain": [
              "<matplotlib.axes._subplots.AxesSubplot at 0x7f8c4bc6b880>"
            ]
          },
          "execution_count": 351,
          "metadata": {},
          "output_type": "execute_result"
        },
        {
          "data": {
            "image/png": "[encoded data removed]",
            "text/plain": [
              "<Figure size 432x288 with 1 Axes>"
            ]
          },
          "metadata": {
            "needs_background": "light"
          },
          "output_type": "display_data"
        }
      ],
      "source": [
        "a = []\n",
        "for s in X_train:\n",
        "  a.extend(s.split())\n",
        "pd.DataFrame(a)[0].apply(len).hist()"
      ]
    },
    {
      "cell_type": "code",
      "execution_count": 352,
      "metadata": {
        "id": "MagEv9zb7NB6"
      },
      "outputs": [],
      "source": [
        "MAX_CHAR = 5 #So luong ki tu trong 1 tu"
      ]
    },
    {
      "cell_type": "code",
      "execution_count": 353,
      "metadata": {
        "id": "YVeRHbZcjXj0"
      },
      "outputs": [],
      "source": [
        "def charEncoded(X):\n",
        "  x = np.zeros((len(X), MAX_LEN, MAX_CHAR), dtype=np.int64) # +Pad\n",
        "\n",
        "  for i,sentence in enumerate(X):\n",
        "      sentence = sentence.split()\n",
        "      for j,word in enumerate(sentence):\n",
        "          if j > MAX_LEN-1:\n",
        "              break\n",
        "          for k,char in enumerate(word):\n",
        "              if k > MAX_CHAR - 1:\n",
        "                break\n",
        "              try:\n",
        "                  x[i,j,k] = char2idx[char]\n",
        "              except:\n",
        "                  print(char)\n",
        "                  x[i,j,k] = char2idx[\"UNK\"]\n",
        "\n",
        "  return x\n"
      ]
    },
    {
      "cell_type": "code",
      "execution_count": 354,
      "metadata": {
        "colab": {
          "base_uri": "https://localhost:8080/"
        },
        "id": "zp14Nim07OAj",
        "outputId": "1788bea0-2d6b-440a-fb3d-e71e335e6d4f"
      },
      "outputs": [
        {
          "name": "stdout",
          "output_type": "stream",
          "text": [
            "🥲\n",
            ">\n",
            "…\n",
            "…\n",
            "~\n",
            "=\n",
            ">\n",
            "́\n",
            "̉\n",
            "́\n",
            "̉\n",
            "̣\n",
            "̣\n",
            "́\n",
            "́\n",
            "🤗\n",
            "“\n",
            "”\n",
            "́\n",
            "̃\n",
            "̣\n",
            "́\n",
            "́\n",
            "̣\n",
            "“\n",
            "”\n",
            "=\n",
            "̉\n",
            "🥲\n"
          ]
        }
      ],
      "source": [
        "X_train_char_encoded = charEncoded(X_train)\n",
        "X_val_char_encoded = charEncoded(X_val)\n",
        "X_test_char_encoded = charEncoded(X_test)\n"
      ]
    },
    {
      "cell_type": "code",
      "execution_count": 355,
      "metadata": {
        "colab": {
          "base_uri": "https://localhost:8080/",
          "height": 0
        },
        "id": "yDxfO6OZ0fXG",
        "outputId": "294cc317-b990-49ef-96fe-afb9a2b71bdc"
      },
      "outputs": [
        {
          "data": {
            "application/vnd.google.colaboratory.intrinsic+json": {
              "type": "string"
            },
            "text/plain": [
              "'mỏng nhẹ , đáp ứng nhiều nhu cầu cần thiết  '"
            ]
          },
          "execution_count": 355,
          "metadata": {},
          "output_type": "execute_result"
        }
      ],
      "source": [
        "X_test[0]"
      ]
    },
    {
      "cell_type": "code",
      "execution_count": 356,
      "metadata": {
        "colab": {
          "base_uri": "https://localhost:8080/"
        },
        "id": "Yp27lODoHeqm",
        "outputId": "6c19916d-75c2-46da-958c-666728dc2ea7"
      },
      "outputs": [
        {
          "data": {
            "text/plain": [
              "['đ', 'á', 'p', 'PAD', 'PAD']"
            ]
          },
          "execution_count": 356,
          "metadata": {},
          "output_type": "execute_result"
        }
      ],
      "source": [
        "list(map(lambda x: idx2char[x],X_test_char_encoded[0][3]))"
      ]
    },
    {
      "cell_type": "markdown",
      "metadata": {
        "id": "7zBixE5NWQNZ"
      },
      "source": [
        "# MODEL"
      ]
    },
    {
      "cell_type": "markdown",
      "metadata": {
        "id": "je_2xCoSqgm0"
      },
      "source": [
        "## CRF CLASS"
      ]
    },
    {
      "cell_type": "code",
      "execution_count": 357,
      "metadata": {
        "id": "YQvuwlyGg9rO"
      },
      "outputs": [],
      "source": [
        "import tensorflow as tf\n",
        "import tensorflow.keras.backend as K\n",
        "import tensorflow.keras.layers as L\n",
        "from tensorflow_addons.text import crf_log_likelihood, crf_decode\n",
        "\n",
        "\n",
        "class CRF(L.Layer):\n",
        "    def __init__(self,\n",
        "                 output_dim,\n",
        "                 sparse_target=True,\n",
        "                 **kwargs):\n",
        "        \"\"\"    \n",
        "        Args:\n",
        "            output_dim (int): the number of labels to tag each temporal input.\n",
        "            sparse_target (bool): whether the the ground-truth label represented in one-hot.\n",
        "        Input shape:\n",
        "            (batch_size, sentence length, output_dim)\n",
        "        Output shape:\n",
        "            (batch_size, sentence length, output_dim)\n",
        "        \"\"\"\n",
        "        super(CRF, self).__init__(**kwargs)\n",
        "        self.output_dim = int(output_dim) \n",
        "        self.sparse_target = sparse_target\n",
        "        self.input_spec = L.InputSpec(min_ndim=3)\n",
        "        self.supports_masking = False\n",
        "        self.sequence_lengths = None\n",
        "        self.transitions = None\n",
        "\n",
        "    def build(self, input_shape):\n",
        "        assert len(input_shape) == 3\n",
        "        f_shape = tf.TensorShape(input_shape)\n",
        "        input_spec = L.InputSpec(min_ndim=3, axes={-1: f_shape[-1]})\n",
        "\n",
        "        if f_shape[-1] is None:\n",
        "            raise ValueError('The last dimension of the inputs to `CRF` '\n",
        "                             'should be defined. Found `None`.')\n",
        "        if f_shape[-1] != self.output_dim:\n",
        "            raise ValueError('The last dimension of the input shape must be equal to output'\n",
        "                             ' shape. Use a linear layer if needed.')\n",
        "        self.input_spec = input_spec\n",
        "        self.transitions = self.add_weight(name='transitions',\n",
        "                                           shape=[self.output_dim, self.output_dim],\n",
        "                                           initializer='glorot_uniform',\n",
        "                                           trainable=True)\n",
        "        self.built = True\n",
        "\n",
        "    def compute_mask(self, inputs, mask=None):\n",
        "        # Just pass the received mask from previous layer, to the next layer or\n",
        "        # manipulate it if this layer changes the shape of the input\n",
        "        return mask\n",
        "\n",
        "    def call(self, inputs, sequence_lengths=None, training=None, **kwargs):\n",
        "        sequences = tf.convert_to_tensor(inputs, dtype=self.dtype)\n",
        "        if sequence_lengths is not None:\n",
        "            assert len(sequence_lengths.shape) == 2\n",
        "            assert tf.convert_to_tensor(sequence_lengths).dtype == 'int32'\n",
        "            seq_len_shape = tf.convert_to_tensor(sequence_lengths).get_shape().as_list()\n",
        "            assert seq_len_shape[1] == 1\n",
        "            self.sequence_lengths = K.flatten(sequence_lengths)\n",
        "        else:\n",
        "            self.sequence_lengths = tf.ones(tf.shape(inputs)[0], dtype=tf.int32) * (\n",
        "                tf.shape(inputs)[1]\n",
        "            )\n",
        "\n",
        "        viterbi_sequence, _ = crf_decode(sequences,\n",
        "                                         self.transitions,\n",
        "                                         self.sequence_lengths)\n",
        "        output = K.one_hot(viterbi_sequence, self.output_dim)\n",
        "        return K.in_train_phase(sequences, output)\n",
        "\n",
        "    @property\n",
        "    def loss(self):\n",
        "        def crf_loss(y_true, y_pred):\n",
        "            y_pred = tf.convert_to_tensor(y_pred, dtype=self.dtype)\n",
        "            log_likelihood, self.transitions = crf_log_likelihood(\n",
        "                y_pred,\n",
        "                tf.cast(K.argmax(y_true), dtype=tf.int32) if self.sparse_target else y_true,\n",
        "                self.sequence_lengths,\n",
        "                transition_params=self.transitions,\n",
        "            )\n",
        "            return tf.reduce_mean(-log_likelihood)\n",
        "        return crf_loss\n",
        "\n",
        "    @property\n",
        "    def accuracy(self):\n",
        "        def viterbi_accuracy(y_true, y_pred):\n",
        "            # -1e10 to avoid zero at sum(mask)\n",
        "            mask = K.cast(\n",
        "                K.all(K.greater(y_pred, -1e10), axis=2), K.floatx())\n",
        "            shape = tf.shape(y_pred)\n",
        "            sequence_lengths = tf.ones(shape[0], dtype=tf.int32) * (shape[1])\n",
        "            y_pred, _ = crf_decode(y_pred, self.transitions, sequence_lengths)\n",
        "            if self.sparse_target:\n",
        "                y_true = K.argmax(y_true, 2)\n",
        "            y_pred = K.cast(y_pred, 'int32')\n",
        "            y_true = K.cast(y_true, 'int32')\n",
        "            corrects = K.cast(K.equal(y_true, y_pred), K.floatx())\n",
        "            return K.sum(corrects * mask) / K.sum(mask)\n",
        "        return viterbi_accuracy\n",
        "\n",
        "    def compute_output_shape(self, input_shape):\n",
        "        tf.TensorShape(input_shape).assert_has_rank(3)\n",
        "        return input_shape[:2] + (self.output_dim,)\n",
        "\n",
        "    def get_config(self):\n",
        "        config = {\n",
        "            'output_dim': self.output_dim,\n",
        "            'sparse_target': self.sparse_target,\n",
        "            'supports_masking': self.supports_masking,\n",
        "            'transitions': K.eval(self.transitions)\n",
        "        }\n",
        "        base_config = super(CRF, self).get_config()\n",
        "        return dict(base_config, **config)\n"
      ]
    },
    {
      "cell_type": "markdown",
      "metadata": {
        "id": "kL8DLsPBqrIm"
      },
      "source": [
        "## WORD EMBEDDING"
      ]
    },
    {
      "cell_type": "code",
      "execution_count": 358,
      "metadata": {
        "colab": {
          "base_uri": "https://localhost:8080/"
        },
        "id": "jutWc37rWQNa",
        "outputId": "5b83ec7a-616f-444a-a925-61453f3fd123"
      },
      "outputs": [
        {
          "name": "stderr",
          "output_type": "stream",
          "text": [
            "WARNING:tensorflow:Layer lstm_1 will not use cuDNN kernels since it doesn't meet the criteria. It will use a generic GPU kernel as fallback when running on GPU.\n",
            "WARNING:tensorflow:Layer lstm_1 will not use cuDNN kernels since it doesn't meet the criteria. It will use a generic GPU kernel as fallback when running on GPU.\n",
            "WARNING:tensorflow:Layer lstm_1 will not use cuDNN kernels since it doesn't meet the criteria. It will use a generic GPU kernel as fallback when running on GPU.\n"
          ]
        },
        {
          "name": "stdout",
          "output_type": "stream",
          "text": [
            "Model: \"model_1\"\n",
            "_________________________________________________________________\n",
            " Layer (type)                Output Shape              Param #   \n",
            "=================================================================\n",
            " input_2 (InputLayer)        [(None, 30)]              0         \n",
            "                                                                 \n",
            " embedding_1 (Embedding)     (None, 30, 100)           97946000  \n",
            "                                                                 \n",
            " bidirectional_1 (Bidirectio  (None, 30, 200)          160800    \n",
            " nal)                                                            \n",
            "                                                                 \n",
            " time_distributed_1 (TimeDis  (None, 30, 92)           18492     \n",
            " tributed)                                                       \n",
            "                                                                 \n",
            " crf_1 (CRF)                 (None, 30, 92)            8464      \n",
            "                                                                 \n",
            "=================================================================\n",
            "Total params: 98,133,756\n",
            "Trainable params: 98,133,756\n",
            "Non-trainable params: 0\n",
            "_________________________________________________________________\n"
          ]
        }
      ],
      "source": [
        "input = Input(shape=(MAX_LEN,))\n",
        "embedding = Embedding(input_dim= len(word2idx), output_dim=100, \n",
        "                  input_length=MAX_LEN, embeddings_initializer = Constant(embedding_matrix))(input)  \n",
        "bi_lstm = Bidirectional(LSTM(units=100, return_sequences=True,\n",
        "                           recurrent_dropout=0.1))(embedding) \n",
        "\n",
        "time = TimeDistributed(Dense(len(tag2idx), activation=\"softmax\"))(bi_lstm) \n",
        "\n",
        "crf = CRF(len(tag2idx))  \n",
        "output = crf(time)\n",
        "\n",
        "w_model = Model(input,output)\n",
        "w_model.compile(optimizer=Adamax(learning_rate = 0.005),loss = crf.loss)\n",
        "w_model.summary()\n"
      ]
    },
    {
      "cell_type": "code",
      "execution_count": 359,
      "metadata": {
        "id": "V0axzRi4idET"
      },
      "outputs": [],
      "source": [
        "callback = EarlyStopping('val_loss',patience = 10,restore_best_weights=True)"
      ]
    },
    {
      "cell_type": "code",
      "execution_count": 360,
      "metadata": {
        "id": "8gTfJ_f0S8iL"
      },
      "outputs": [],
      "source": [
        "# w_model.load_weights(\"/content/drive/MyDrive/deep/w_weights_last.h5\")"
      ]
    },
    {
      "cell_type": "code",
      "execution_count": null,
      "metadata": {},
      "outputs": [],
      "source": [
        "w_model.fit(\n",
        "    x = X_train_encoded,\n",
        "    y = np.array(y_train_encoded),\n",
        "    validation_data = (X_val_encoded,np.array(y_val_encoded)),\n",
        "    epochs = 50,\n",
        "    callbacks = [callback],\n",
        "    batch_size = 2\n",
        ")"
      ]
    },
    {
      "cell_type": "code",
      "execution_count": null,
      "metadata": {
        "id": "kZQn8hUNcVrk"
      },
      "outputs": [],
      "source": [
        "w_model.save_weights(\"/content/drive/MyDrive/deep/w_weights_last.h5\")"
      ]
    },
    {
      "cell_type": "code",
      "execution_count": 383,
      "metadata": {
        "id": "Ynak45GlotLw"
      },
      "outputs": [],
      "source": [
        "def randomSampleW(text,model,printed = False):\n",
        "  text = Preprocessing().TextNormalized(text)\n",
        "  text = text.lower()\n",
        "  text_encoded = []\n",
        "  for word in text.split():\n",
        "    try:\n",
        "      text_encoded.append(word2idx[word])\n",
        "    except:\n",
        "      text_encoded.append(word2idx[\"UNK\"])\n",
        "\n",
        "  text_encoded = pad_sequences(np.array([text_encoded]),maxlen=MAX_LEN,padding='post',truncating = 'post',value = word2idx['PAD'])\n",
        "\n",
        "  y_pred = np.argmax(model.predict([text_encoded],verbose = 0),axis = -1)\n",
        "  if printed:\n",
        "    print(text)\n",
        "    for k,v in zip(text.split(),y_pred[0]):\n",
        "      print(k,idx2tag[v])\n",
        "  return y_pred"
      ]
    },
    {
      "cell_type": "markdown",
      "metadata": {
        "id": "1Xwdijyuqjvc"
      },
      "source": [
        "## WORD + CHARACTER EMBEDDING"
      ]
    },
    {
      "cell_type": "code",
      "execution_count": 384,
      "metadata": {
        "colab": {
          "base_uri": "https://localhost:8080/"
        },
        "id": "5kToq3s_7RB0",
        "outputId": "4f6ef35c-8763-4bb1-9f8a-ed19b828c730"
      },
      "outputs": [
        {
          "name": "stderr",
          "output_type": "stream",
          "text": [
            "WARNING:tensorflow:Layer lstm_4 will not use cuDNN kernels since it doesn't meet the criteria. It will use a generic GPU kernel as fallback when running on GPU.\n",
            "WARNING:tensorflow:Layer lstm_4 will not use cuDNN kernels since it doesn't meet the criteria. It will use a generic GPU kernel as fallback when running on GPU.\n",
            "WARNING:tensorflow:Layer lstm_4 will not use cuDNN kernels since it doesn't meet the criteria. It will use a generic GPU kernel as fallback when running on GPU.\n",
            "WARNING:tensorflow:Layer lstm_5 will not use cuDNN kernels since it doesn't meet the criteria. It will use a generic GPU kernel as fallback when running on GPU.\n",
            "WARNING:tensorflow:Layer lstm_5 will not use cuDNN kernels since it doesn't meet the criteria. It will use a generic GPU kernel as fallback when running on GPU.\n",
            "WARNING:tensorflow:Layer lstm_5 will not use cuDNN kernels since it doesn't meet the criteria. It will use a generic GPU kernel as fallback when running on GPU.\n"
          ]
        },
        {
          "name": "stdout",
          "output_type": "stream",
          "text": [
            "Model: \"model_3\"\n",
            "__________________________________________________________________________________________________\n",
            " Layer (type)                   Output Shape         Param #     Connected to                     \n",
            "==================================================================================================\n",
            " char_input (InputLayer)        [(None, 30, 5)]      0           []                               \n",
            "                                                                                                  \n",
            " word_input (InputLayer)        [(None, 30)]         0           []                               \n",
            "                                                                                                  \n",
            " time_char_embedding (TimeDistr  (None, 30, 5, 5)    655         ['char_input[0][0]']             \n",
            " ibuted)                                                                                          \n",
            "                                                                                                  \n",
            " word_embedding (Embedding)     (None, 30, 100)      97946000    ['word_input[0][0]']             \n",
            "                                                                                                  \n",
            " time_distributed_4 (TimeDistri  (None, 30, 60)      8640        ['time_char_embedding[0][0]']    \n",
            " buted)                                                                                           \n",
            "                                                                                                  \n",
            " concatenate_1 (Concatenate)    (None, 30, 160)      0           ['word_embedding[0][0]',         \n",
            "                                                                  'time_distributed_4[0][0]']     \n",
            "                                                                                                  \n",
            " spatial_dropout1d_1 (SpatialDr  (None, 30, 160)     0           ['concatenate_1[0][0]']          \n",
            " opout1D)                                                                                         \n",
            "                                                                                                  \n",
            " bidirectional_5 (Bidirectional  (None, 30, 200)     208800      ['spatial_dropout1d_1[0][0]']    \n",
            " )                                                                                                \n",
            "                                                                                                  \n",
            " time_distributed_5 (TimeDistri  (None, 30, 92)      18492       ['bidirectional_5[0][0]']        \n",
            " buted)                                                                                           \n",
            "                                                                                                  \n",
            " crf_3 (CRF)                    (None, 30, 92)       8464        ['time_distributed_5[0][0]']     \n",
            "                                                                                                  \n",
            "==================================================================================================\n",
            "Total params: 98,191,051\n",
            "Trainable params: 98,191,051\n",
            "Non-trainable params: 0\n",
            "__________________________________________________________________________________________________\n"
          ]
        }
      ],
      "source": [
        "#NEW\n",
        "input = Input(shape=(MAX_LEN,),name = 'word_input')\n",
        "embedding = Embedding(input_dim= len(word2idx), output_dim=100, \n",
        "                  input_length=MAX_LEN, embeddings_initializer = Constant(embedding_matrix),trainable = True, name = 'word_embedding')(input)  \n",
        "\n",
        "char_input = Input(shape=(MAX_LEN, MAX_CHAR),name = 'char_input')\n",
        "char = TimeDistributed(\n",
        "    Embedding(input_dim=len(chars) + 2, output_dim = MAX_CHAR,\n",
        "                input_length=MAX_CHAR,name = 'char_embedding'),name = 'time_char_embedding'\n",
        ")(char_input)\n",
        "char = TimeDistributed(\n",
        "    Bidirectional(\n",
        "        LSTM(30, return_sequences=False,recurrent_dropout=0.1),\n",
        "    )\n",
        ")(char)\n",
        "# char = TimeDistributed(Flatten())(char)\n",
        "\n",
        "inputs = concatenate([embedding,char])\n",
        "inputs = SpatialDropout1D(0.2) (inputs)\n",
        "bi_lstm = Bidirectional(LSTM(units=100, return_sequences=True,\n",
        "                           recurrent_dropout=0.1))(inputs) \n",
        "\n",
        "time = TimeDistributed(Dense(len(tag2idx), activation=\"softmax\"))(bi_lstm) \n",
        "\n",
        "\n",
        "crf_layer = CRF(len(tag2idx))  \n",
        "output = crf_layer(time)\n",
        "\n",
        "wc_model = Model(inputs = [input,char_input],outputs = output)\n",
        "wc_model.compile(optimizer=Adam(learning_rate = 0.005),loss = crf_layer.loss)\n",
        "wc_model.summary()\n"
      ]
    },
    {
      "cell_type": "code",
      "execution_count": null,
      "metadata": {
        "id": "Dh-7Q7dH6ebS"
      },
      "outputs": [],
      "source": [
        "callback = EarlyStopping('val_loss',patience = 5,restore_best_weights=True)"
      ]
    },
    {
      "cell_type": "code",
      "execution_count": null,
      "metadata": {
        "id": "yWry_4EiQQyI"
      },
      "outputs": [],
      "source": [
        "wc_model.load_weights(\"/content/drive/MyDrive/deep/wc_weights.h5\")"
      ]
    },
    {
      "cell_type": "code",
      "execution_count": null,
      "metadata": {
        "id": "ngVa-SmQq0el"
      },
      "outputs": [],
      "source": [
        "wc_model.fit(\n",
        "    x = {'word_input':X_train_encoded,'char_input':X_train_char_encoded},\n",
        "    y = np.array(y_train_encoded),\n",
        "    validation_data = ([X_val_encoded,X_val_char_encoded],np.array(y_val_encoded)),\n",
        "    epochs = 50,\n",
        "    callbacks = [callback],\n",
        "    batch_size = 2\n",
        ")"
      ]
    },
    {
      "cell_type": "code",
      "execution_count": null,
      "metadata": {
        "id": "cIYOl0aPDM3x"
      },
      "outputs": [],
      "source": [
        "wc_model.save_weights(\"/content/drive/MyDrive/deep/wc_weights.h5\")"
      ]
    },
    {
      "cell_type": "code",
      "execution_count": 385,
      "metadata": {
        "id": "mfMu1DtIq4d-"
      },
      "outputs": [],
      "source": [
        "def randomSampleWC(text,model,printed = False):\n",
        "  text = Preprocessing().TextNormalized(text)\n",
        "  text = text.lower()\n",
        "  text_encoded = []\n",
        "  for word in text.split():\n",
        "    try:\n",
        "      text_encoded.append(word2idx[word])\n",
        "    except:\n",
        "      text_encoded.append(word2idx[\"UNK\"])\n",
        "\n",
        "  char_encoded = np.zeros((MAX_LEN, MAX_CHAR), dtype=np.int64) # +Pad\n",
        "  for j,word in enumerate(text.split()):\n",
        "      if j > MAX_LEN-1:\n",
        "          break\n",
        "      for k,char in enumerate(word):\n",
        "        if k > MAX_CHAR - 1:\n",
        "          break\n",
        "        try:\n",
        "            char_encoded[j,k] = char2idx[char]\n",
        "        except:\n",
        "            char_encoded[j,k] = char2idx[\"UNK\"]\n",
        "\n",
        "  text_encoded = pad_sequences(np.array([text_encoded]),maxlen=MAX_LEN,padding='post',truncating = 'post',value = word2idx['PAD'])\n",
        "  # print(text_encoded.shape,np.array([char_encoded]).shape)\n",
        "\n",
        "  y_pred = np.argmax(model.predict([text_encoded,np.array([char_encoded])],verbose = 0),axis = -1)\n",
        "  # y_pred = np.argmax(model.predict([text_encoded]),axis = -1)\n",
        "  if printed:\n",
        "    print(text)\n",
        "    for k,v in zip(text.split(),y_pred[0]):\n",
        "      print(k,idx2tag[v])\n",
        "  return y_pred"
      ]
    },
    {
      "cell_type": "code",
      "execution_count": null,
      "metadata": {
        "id": "QrguW4dbrDsf"
      },
      "outputs": [],
      "source": [
        "randomSampleWC(\"Máy tính xách tay này có màn hình lớn, kiểu dáng mỏng nhẹ. Nhân viên tư vấn nhiệt tình\",model)"
      ]
    },
    {
      "cell_type": "markdown",
      "metadata": {
        "id": "OevRcS4cqtr2"
      },
      "source": [
        "## WORD + CHARACTER + CONTEXTUAL EMBEDDING"
      ]
    },
    {
      "cell_type": "code",
      "execution_count": 362,
      "metadata": {
        "colab": {
          "base_uri": "https://localhost:8080/"
        },
        "id": "JBwseI8cplR9",
        "outputId": "ee20b504-ce46-467c-e7ae-765a5fedae9c"
      },
      "outputs": [
        {
          "name": "stdout",
          "output_type": "stream",
          "text": [
            "Looking in indexes: https://pypi.org/simple, https://us-python.pkg.dev/colab-wheels/public/simple/\n",
            "Requirement already satisfied: transformers in /usr/local/lib/python3.8/dist-packages (4.26.0)\n",
            "Requirement already satisfied: requests in /usr/local/lib/python3.8/dist-packages (from transformers) (2.25.1)\n",
            "Requirement already satisfied: tqdm>=4.27 in /usr/local/lib/python3.8/dist-packages (from transformers) (4.64.1)\n",
            "Requirement already satisfied: regex!=2019.12.17 in /usr/local/lib/python3.8/dist-packages (from transformers) (2022.6.2)\n",
            "Requirement already satisfied: huggingface-hub<1.0,>=0.11.0 in /usr/local/lib/python3.8/dist-packages (from transformers) (0.12.0)\n",
            "Requirement already satisfied: tokenizers!=0.11.3,<0.14,>=0.11.1 in /usr/local/lib/python3.8/dist-packages (from transformers) (0.13.2)\n",
            "Requirement already satisfied: numpy>=1.17 in /usr/local/lib/python3.8/dist-packages (from transformers) (1.21.6)\n",
            "Requirement already satisfied: pyyaml>=5.1 in /usr/local/lib/python3.8/dist-packages (from transformers) (6.0)\n",
            "Requirement already satisfied: filelock in /usr/local/lib/python3.8/dist-packages (from transformers) (3.9.0)\n",
            "Requirement already satisfied: packaging>=20.0 in /usr/local/lib/python3.8/dist-packages (from transformers) (21.3)\n",
            "Requirement already satisfied: typing-extensions>=3.7.4.3 in /usr/local/lib/python3.8/dist-packages (from huggingface-hub<1.0,>=0.11.0->transformers) (4.4.0)\n",
            "Requirement already satisfied: pyparsing!=3.0.5,>=2.0.2 in /usr/local/lib/python3.8/dist-packages (from packaging>=20.0->transformers) (3.0.9)\n",
            "Requirement already satisfied: urllib3<1.27,>=1.21.1 in /usr/local/lib/python3.8/dist-packages (from requests->transformers) (1.24.3)\n",
            "Requirement already satisfied: certifi>=2017.4.17 in /usr/local/lib/python3.8/dist-packages (from requests->transformers) (2022.12.7)\n",
            "Requirement already satisfied: chardet<5,>=3.0.2 in /usr/local/lib/python3.8/dist-packages (from requests->transformers) (4.0.0)\n",
            "Requirement already satisfied: idna<3,>=2.5 in /usr/local/lib/python3.8/dist-packages (from requests->transformers) (2.10)\n"
          ]
        }
      ],
      "source": [
        "!pip install transformers"
      ]
    },
    {
      "cell_type": "code",
      "execution_count": 363,
      "metadata": {
        "id": "PrMwthM5poOT"
      },
      "outputs": [],
      "source": [
        "PRETRAINED_MODEL = \"xlm-roberta-base\""
      ]
    },
    {
      "cell_type": "code",
      "execution_count": 364,
      "metadata": {
        "id": "-YpQYERZezvJ"
      },
      "outputs": [],
      "source": [
        "from transformers import AutoTokenizer,TFAutoModel\n",
        "tokenizer = AutoTokenizer.from_pretrained(PRETRAINED_MODEL)\n"
      ]
    },
    {
      "cell_type": "code",
      "execution_count": 365,
      "metadata": {
        "id": "ObiGiXC5feer"
      },
      "outputs": [],
      "source": [
        "func_token = lambda x: [tokenizer(x,truncation=True,padding='max_length',max_length=MAX_LEN)['input_ids'],tokenizer(x,truncation=True,padding='max_length',max_length=MAX_LEN)['attention_mask']]"
      ]
    },
    {
      "cell_type": "code",
      "execution_count": 366,
      "metadata": {
        "id": "zxn3z1Q3h1ux"
      },
      "outputs": [],
      "source": [
        "x_train_token = np.array(list(map(func_token,X_train)))\n",
        "x_val_token = np.array(list(map(func_token,X_val)))\n",
        "x_test_token = np.array(list(map(func_token,X_test)))\n"
      ]
    },
    {
      "cell_type": "code",
      "execution_count": null,
      "metadata": {
        "id": "60KLFmTKCR_8"
      },
      "outputs": [],
      "source": [
        "tokenizer.tokenize(\"máy rất tệ. Mua máy giữa tháng 3 sử dụng 1h thì bị lỗi cam đã được đổi 1 máy mới.\",truncation=True,padding='max_length',max_length=MAX_LEN)"
      ]
    },
    {
      "cell_type": "code",
      "execution_count": 367,
      "metadata": {
        "colab": {
          "base_uri": "https://localhost:8080/",
          "height": 190,
          "referenced_widgets": [
            "6647307fb7ea4d9bb13599af6460a3f8",
            "e1486660baae4f72b6afd2630247dd94",
            "c762a311eca34c69be7acf8fccf4d7e8",
            "84b0f2c88b414eca931c5457774176eb",
            "65be8fbf902249bdb31c4f2b3dce48d0",
            "c1aa28816427433287cfdc42a4bd7a87",
            "69b139ccf2744914ab95ede2b9e878a0",
            "0576230dd4334e52acb6f5183eb60cf0",
            "568891c5d3374c93a1e02d3ce36818ac",
            "6f8d919334b24667bf2ce0b74f1a52ae",
            "1cad4a655ac04c10a9e6fe9825224747"
          ]
        },
        "id": "vg5-hpFGpHvf",
        "outputId": "30307ced-33e2-4865-9873-55b221a5c7d2"
      },
      "outputs": [
        {
          "name": "stderr",
          "output_type": "stream",
          "text": [
            "WARNING:tensorflow:Layer lstm_2 will not use cuDNN kernels since it doesn't meet the criteria. It will use a generic GPU kernel as fallback when running on GPU.\n",
            "WARNING:tensorflow:Layer lstm_2 will not use cuDNN kernels since it doesn't meet the criteria. It will use a generic GPU kernel as fallback when running on GPU.\n",
            "WARNING:tensorflow:Layer lstm_2 will not use cuDNN kernels since it doesn't meet the criteria. It will use a generic GPU kernel as fallback when running on GPU.\n"
          ]
        },
        {
          "data": {
            "application/vnd.jupyter.widget-view+json": {
              "model_id": "6647307fb7ea4d9bb13599af6460a3f8",
              "version_major": 2,
              "version_minor": 0
            },
            "text/plain": [
              "Downloading (…)\"tf_model.h5\";:   0%|          | 0.00/1.11G [00:00<?, ?B/s]"
            ]
          },
          "metadata": {},
          "output_type": "display_data"
        },
        {
          "name": "stderr",
          "output_type": "stream",
          "text": [
            "All model checkpoint layers were used when initializing TFXLMRobertaModel.\n",
            "\n",
            "All the layers of TFXLMRobertaModel were initialized from the model checkpoint at xlm-roberta-base.\n",
            "If your task is similar to the task the model of the checkpoint was trained on, you can already use TFXLMRobertaModel for predictions without further training.\n"
          ]
        }
      ],
      "source": [
        "# WORD EMBEDDING\n",
        "input = Input(shape=(MAX_LEN,),name = 'word_input')\n",
        "embedding = Embedding(input_dim= len(word2idx), output_dim=100, \n",
        "                  input_length=MAX_LEN, embeddings_initializer = Constant(embedding_matrix),trainable = True, name = 'word_embedding')(input)  \n",
        "\n",
        "# CHAR EMBEDDING\n",
        "char_input = Input(shape=(MAX_LEN, MAX_CHAR),name = 'char_input')\n",
        "char = TimeDistributed(\n",
        "    Embedding(input_dim=len(chars) + 2, output_dim = MAX_CHAR,\n",
        "                input_length=MAX_CHAR,name = 'char_embedding'),name = 'time_char_embedding'\n",
        ")(char_input)\n",
        "char = TimeDistributed(\n",
        "    Bidirectional(\n",
        "        LSTM(30, return_sequences=False,recurrent_dropout=0.2),\n",
        "    )\n",
        ")(char)\n",
        "\n",
        "# CONTEXTUAL EMBEDDING\n",
        "input_ids = Input(shape = (MAX_LEN),name = 'input_ids',dtype = np.int32)\n",
        "attention_mask = Input(shape = (MAX_LEN),name = 'attention_mask',dtype = np.int32)\n",
        "\n",
        "inputs_pre = [input_ids,attention_mask]\n",
        "\n",
        "pre_model = TFAutoModel.from_pretrained(PRETRAINED_MODEL, output_hidden_states = 1)\n",
        "# 0: last_hidden_state, 1: pool\n",
        "pre_model_output = pre_model(inputs_pre)\n",
        "pre_model_hidden_state = pre_model_output.hidden_states\n",
        "\n",
        "\n"
      ]
    },
    {
      "cell_type": "code",
      "execution_count": 368,
      "metadata": {
        "colab": {
          "base_uri": "https://localhost:8080/"
        },
        "id": "8FYB9S76SO5S",
        "outputId": "47b346b8-2a5f-4dc3-ade4-bf3ffc2d3c48"
      },
      "outputs": [
        {
          "name": "stderr",
          "output_type": "stream",
          "text": [
            "WARNING:tensorflow:Layer lstm_3 will not use cuDNN kernels since it doesn't meet the criteria. It will use a generic GPU kernel as fallback when running on GPU.\n",
            "WARNING:tensorflow:Layer lstm_3 will not use cuDNN kernels since it doesn't meet the criteria. It will use a generic GPU kernel as fallback when running on GPU.\n",
            "WARNING:tensorflow:Layer lstm_3 will not use cuDNN kernels since it doesn't meet the criteria. It will use a generic GPU kernel as fallback when running on GPU.\n"
          ]
        },
        {
          "name": "stdout",
          "output_type": "stream",
          "text": [
            "Model: \"model_2\"\n",
            "__________________________________________________________________________________________________\n",
            " Layer (type)                   Output Shape         Param #     Connected to                     \n",
            "==================================================================================================\n",
            " char_input (InputLayer)        [(None, 30, 5)]      0           []                               \n",
            "                                                                                                  \n",
            " word_input (InputLayer)        [(None, 30)]         0           []                               \n",
            "                                                                                                  \n",
            " time_char_embedding (TimeDistr  (None, 30, 5, 5)    655         ['char_input[0][0]']             \n",
            " ibuted)                                                                                          \n",
            "                                                                                                  \n",
            " input_ids (InputLayer)         [(None, 30)]         0           []                               \n",
            "                                                                                                  \n",
            " attention_mask (InputLayer)    [(None, 30)]         0           []                               \n",
            "                                                                                                  \n",
            " word_embedding (Embedding)     (None, 30, 100)      97946000    ['word_input[0][0]']             \n",
            "                                                                                                  \n",
            " time_distributed_2 (TimeDistri  (None, 30, 60)      8640        ['time_char_embedding[0][0]']    \n",
            " buted)                                                                                           \n",
            "                                                                                                  \n",
            " tfxlm_roberta_model (TFXLMRobe  TFBaseModelOutputWi  278043648  ['input_ids[0][0]',              \n",
            " rtaModel)                      thPoolingAndCrossAt               'attention_mask[0][0]']         \n",
            "                                tentions(last_hidde                                               \n",
            "                                n_state=(None, 30,                                                \n",
            "                                768),                                                             \n",
            "                                 pooler_output=(Non                                               \n",
            "                                e, 768),                                                          \n",
            "                                 past_key_values=No                                               \n",
            "                                ne, hidden_states=(                                               \n",
            "                                (None, 30, 768),                                                  \n",
            "                                 (None, 30, 768),                                                 \n",
            "                                 (None, 30, 768),                                                 \n",
            "                                 (None, 30, 768),                                                 \n",
            "                                 (None, 30, 768),                                                 \n",
            "                                 (None, 30, 768),                                                 \n",
            "                                 (None, 30, 768),                                                 \n",
            "                                 (None, 30, 768),                                                 \n",
            "                                 (None, 30, 768),                                                 \n",
            "                                 (None, 30, 768),                                                 \n",
            "                                 (None, 30, 768),                                                 \n",
            "                                 (None, 30, 768),                                                 \n",
            "                                 (None, 30, 768)),                                                \n",
            "                                 attentions=None, c                                               \n",
            "                                ross_attentions=Non                                               \n",
            "                                e)                                                                \n",
            "                                                                                                  \n",
            " concatenate (Concatenate)      (None, 30, 928)      0           ['word_embedding[0][0]',         \n",
            "                                                                  'time_distributed_2[0][0]',     \n",
            "                                                                  'tfxlm_roberta_model[0][0]']    \n",
            "                                                                                                  \n",
            " spatial_dropout1d (SpatialDrop  (None, 30, 928)     0           ['concatenate[0][0]']            \n",
            " out1D)                                                                                           \n",
            "                                                                                                  \n",
            " bidirectional_3 (Bidirectional  (None, 30, 200)     823200      ['spatial_dropout1d[0][0]']      \n",
            " )                                                                                                \n",
            "                                                                                                  \n",
            " time_distributed_3 (TimeDistri  (None, 30, 92)      18492       ['bidirectional_3[0][0]']        \n",
            " buted)                                                                                           \n",
            "                                                                                                  \n",
            " crf_2 (CRF)                    (None, 30, 92)       8464        ['time_distributed_3[0][0]']     \n",
            "                                                                                                  \n",
            "==================================================================================================\n",
            "Total params: 376,849,099\n",
            "Trainable params: 376,849,099\n",
            "Non-trainable params: 0\n",
            "__________________________________________________________________________________________________\n"
          ]
        }
      ],
      "source": [
        "# concatenate_model_output = concatenate(\n",
        "#     tuple([pre_model_hidden_state[i] for i in range(-4,0)]), axis=-1\n",
        "#     ) \n",
        "# concatenate_model_output = Dropout1D(0.1) (concatenate_model_output)\n",
        "\n",
        "concatenate_model_output = pre_model_hidden_state[0]\n",
        "# pre_model_embedding = tf.keras.layers.AveragePooling1D (pool_size = 3, strides = 1, padding = 'same') (concatenate_model_output)\n",
        "\n",
        "inputs = concatenate([embedding,char,concatenate_model_output])\n",
        "inputs = SpatialDropout1D(0.2) (inputs)\n",
        "\n",
        "bi_lstm = Bidirectional(LSTM(units=100, return_sequences=True,\n",
        "                           recurrent_dropout=0.1))(inputs) \n",
        "\n",
        "time = TimeDistributed(Dense(len(tag2idx), activation=\"softmax\"))(bi_lstm) \n",
        "\n",
        "\n",
        "crf_layer = CRF(len(tag2idx))  \n",
        "output = crf_layer(time)\n",
        "\n",
        "wcc_model = Model(inputs = [input,char_input,[input_ids,attention_mask]],outputs = output)\n",
        "wcc_model.compile(optimizer=Adamax(0.005),loss = [crf_layer.loss])\n",
        "wcc_model.summary()\n",
        "\n"
      ]
    },
    {
      "cell_type": "code",
      "execution_count": null,
      "metadata": {
        "id": "o5yHZGPu0rIL"
      },
      "outputs": [],
      "source": [
        "from keras.callbacks import EarlyStopping"
      ]
    },
    {
      "cell_type": "code",
      "execution_count": null,
      "metadata": {
        "id": "WyYtsGEo0rIL"
      },
      "outputs": [],
      "source": [
        "callback = EarlyStopping('val_loss',patience = 15,restore_best_weights=True)"
      ]
    },
    {
      "cell_type": "code",
      "execution_count": null,
      "metadata": {
        "id": "mCgI0kwJ0Z02"
      },
      "outputs": [],
      "source": [
        "wcc_model.load_weights(\"/content/drive/MyDrive/deep/context_weights_fhidden_first.h5\")"
      ]
    },
    {
      "cell_type": "code",
      "execution_count": null,
      "metadata": {
        "id": "S3Fm4W6fmDcq"
      },
      "outputs": [],
      "source": [
        "wcc_model.fit(\n",
        "    x = [X_train_encoded,X_train_char_encoded,x_train_token[:,0],x_train_token[:,1]],\n",
        "    y = np.array(y_train_encoded),\n",
        "    validation_data = ([X_val_encoded,X_val_char_encoded,x_val_token[:,0],x_val_token[:,1]],np.array(y_val_encoded)),\n",
        "    epochs = 50,\n",
        "    callbacks = [callback],\n",
        "    batch_size = 1\n",
        ")"
      ]
    },
    {
      "cell_type": "code",
      "execution_count": null,
      "metadata": {
        "id": "YPZvH6_WrdnA"
      },
      "outputs": [],
      "source": [
        "# wcc_model.save_weights(\"/content/drive/MyDrive/deep/context_weights_fhidden_first.h5\")"
      ]
    },
    {
      "cell_type": "code",
      "execution_count": 371,
      "metadata": {
        "id": "7AZ532BTyXen"
      },
      "outputs": [],
      "source": [
        "def randomSampleWCC(text,model,tokenizer,printed = False):\n",
        "  text = Preprocessing().TextNormalized(text)\n",
        "  text = text.lower()\n",
        "\n",
        "  text_encoded = []\n",
        "  for word in text.split():\n",
        "    try:\n",
        "      text_encoded.append(word2idx[word])\n",
        "    except:\n",
        "      text_encoded.append(word2idx[\"UNK\"])\n",
        "\n",
        "  char_encoded = np.zeros((MAX_LEN, MAX_CHAR), dtype=np.int64) # +Pad\n",
        "  for j,word in enumerate(text.split()):\n",
        "      if j > MAX_LEN-1:\n",
        "          break\n",
        "      for k,char in enumerate(word):\n",
        "        if k > MAX_CHAR - 1:\n",
        "          break\n",
        "        try:\n",
        "            char_encoded[j,k] = char2idx[char]\n",
        "        except:\n",
        "            char_encoded[j,k] = char2idx[\"UNK\"]\n",
        "\n",
        "  text_encoded = pad_sequences(np.array([text_encoded]),maxlen=MAX_LEN,padding='post',truncating = 'post',value = word2idx['PAD'])\n",
        "  \n",
        "  token_1 = tokenizer(text,truncation=True,padding='max_length',max_length=MAX_LEN)['input_ids']\n",
        "  token_2 = tokenizer(text,truncation=True,padding='max_length',max_length=MAX_LEN)['attention_mask']\n",
        "  \n",
        "  # print(text_encoded.shape,np.array([char_encoded]).shape)\n",
        "  \n",
        "  y_pred = np.argmax(model.predict([text_encoded,np.array([char_encoded]),np.array([token_1]),np.array([token_2])],verbose = 0),axis = -1)\n",
        "  # y_pred = np.argmax(model.predict([text_encoded]),axis = -1)\n",
        "  if printed:\n",
        "    print(text)\n",
        "    for k,v in zip(text.split(),y_pred[0]):\n",
        "      print(k,idx2tag[v])\n",
        "  return y_pred"
      ]
    },
    {
      "cell_type": "code",
      "execution_count": null,
      "metadata": {
        "id": "VRrn9jAUy38I"
      },
      "outputs": [],
      "source": [
        "randomSampleWCC(\"Máy có cấu hình mạnh, âm thanh sống động, bảo hành chính hãng nên mọi người in tâm sử dụng\",model,tokenizer,True)"
      ]
    },
    {
      "cell_type": "markdown",
      "metadata": {
        "id": "-Ul9hIl_D_4Y"
      },
      "source": [
        "# EVALUATE"
      ]
    },
    {
      "cell_type": "code",
      "execution_count": null,
      "metadata": {
        "id": "oTJF1adlxEWz"
      },
      "outputs": [],
      "source": [
        "y_test_re = np.argmax(y_test_encoded,axis=-1)[:,np.newaxis]\n",
        "y_test_re"
      ]
    },
    {
      "cell_type": "code",
      "execution_count": null,
      "metadata": {
        "id": "2qIz1XL1CiQ_"
      },
      "outputs": [],
      "source": [
        "def convert2Aspect(y_preds,isone = False):\n",
        "  \"\"\"Input should be list indicate of tags\"\"\"\n",
        "  y_preds_w_aspect = np.array(y_preds,dtype = 'object').copy()\n",
        "  _len = len(y_preds_w_aspect)\n",
        "  for i in range(_len):\n",
        "    ea = y_preds_w_aspect[i] if _len == 1 else y_preds_w_aspect[i][0]\n",
        "    # print(\"EA\",ea)\n",
        "    y_preds_w_tags = list(map(lambda x: idx2tag[x],ea))\n",
        "    for j in range(len(y_preds_w_tags)):\n",
        "      try:\n",
        "        y_preds_w_tags[j] = y_preds_w_tags[j][2:re.search(r\"\\#\",y_preds_w_tags[j]).start()]\n",
        "      except:\n",
        "        continue\n",
        "    y_preds_w_aspect[i] = y_preds_w_tags\n",
        "  return y_preds_w_aspect"
      ]
    },
    {
      "cell_type": "code",
      "execution_count": null,
      "metadata": {
        "id": "791fk7qmCjvX"
      },
      "outputs": [],
      "source": [
        "def convert2Polarity(y_preds):\n",
        "  \"\"\"Input should be list indicate of tags\"\"\"\n",
        "  y_preds_w_pola = np.array(y_preds,dtype = 'object').copy()\n",
        "  _len = len(y_preds_w_pola)\n",
        "  for i in range(_len):\n",
        "    ea = y_preds_w_pola[i] if _len == 1 else y_preds_w_pola[i][0]\n",
        "    \n",
        "    y_preds_w_tags = list(map(lambda x: idx2tag[x],ea))\n",
        "    for j in range(len(y_preds_w_tags)):\n",
        "      try:\n",
        "        y_preds_w_tags[j] = y_preds_w_tags[j][re.search(r\"\\#\",y_preds_w_tags[j]).start()+1:]\n",
        "      except:\n",
        "        continue\n",
        "    y_preds_w_pola[i] = y_preds_w_tags\n",
        "  return y_preds_w_pola"
      ]
    },
    {
      "cell_type": "code",
      "execution_count": 414,
      "metadata": {
        "id": "ChmoeNnNqk38"
      },
      "outputs": [],
      "source": [
        "def caculateAMetrics(y_test,y_preds,print_report = False):\n",
        "  f1_scores = []\n",
        "  precision_scores = []\n",
        "  recall_scores = []\n",
        "  if print_report:\n",
        "    y_test_flatten = []\n",
        "    y_pred_flatten = []\n",
        "\n",
        "  for i in range(len(y_test)):\n",
        "    # yt = np.array(list(map(lambda x: tag2idx[x],y_test[i])))\n",
        "    yt = pad_sequences([y_test[i][0]],maxlen=MAX_LEN,padding='post',truncating = 'post',value = tag2idx['PAD'])\n",
        "    # print(yt)\n",
        "    # yt = np.array(list(map(lambda x: idx2tag[x],yt[0])))\n",
        "    # print(yt)\n",
        "    yt = convert2Aspect(yt)[0]\n",
        "    y_pred = y_preds[i][0]\n",
        "    # print(yt)\n",
        "    # print(y_pred)\n",
        "    # print(\"==================\")\n",
        "    if print_report:\n",
        "      y_test_flatten.extend(yt)\n",
        "      y_pred_flatten.extend(y_pred)\n",
        "\n",
        "    f1_scores.append(f1_score(yt,y_pred,average = 'macro',zero_division=0))\n",
        "    precision_scores.append(precision_score(yt,y_pred,average = 'macro',zero_division=0))\n",
        "    recall_scores.append(recall_score(yt,y_pred,average = 'macro',zero_division=0))\n",
        "\n",
        "  if print_report:\n",
        "    print(classification_report(y_test_flatten, y_pred_flatten,zero_division=0))\n",
        "  return np.mean(precision_scores),np.mean(recall_scores),np.mean(f1_scores)"
      ]
    },
    {
      "cell_type": "code",
      "execution_count": null,
      "metadata": {
        "id": "-s83R9k03At6"
      },
      "outputs": [],
      "source": [
        "def caculatePMetrics(y_test,y_preds,print_report = False):\n",
        "  f1_scores = []\n",
        "  precision_scores = []\n",
        "  recall_scores = []\n",
        "\n",
        "  if print_report:\n",
        "    y_test_flatten = []\n",
        "    y_pred_flatten = []\n",
        "\n",
        "  for i in range(len(y_test)):\n",
        "    # yt = np.array(list(map(lambda x: tag2idx[x],y_test[i])))\n",
        "    yt = pad_sequences([y_test[i][0]],maxlen=MAX_LEN,padding='post',truncating = 'post',value = tag2idx['PAD'])\n",
        "    # print(yt)\n",
        "    # yt = np.array(list(map(lambda x: idx2tag[x],yt[0])))\n",
        "    # print(yt)\n",
        "    yt = convert2Polarity(yt)[0]\n",
        "    y_pred = y_preds[i][0]\n",
        "    # print(yt)\n",
        "    # print(y_pred)\n",
        "    # print(\"==================\")\n",
        "    if print_report:\n",
        "      y_test_flatten.extend(yt)\n",
        "      y_pred_flatten.extend(y_pred)\n",
        "\n",
        "    f1_scores.append(f1_score(yt,y_pred,average = 'macro',zero_division=0))\n",
        "    precision_scores.append(precision_score(yt,y_pred,average = 'macro',zero_division=0))\n",
        "    recall_scores.append(recall_score(yt,y_pred,average = 'macro',zero_division=0))\n",
        "    \n",
        "  if print_report:\n",
        "    print(classification_report(y_test_flatten, y_pred_flatten,zero_division=0))\n",
        "\n",
        "  return np.mean(precision_scores),np.mean(recall_scores),np.mean(f1_scores)"
      ]
    },
    {
      "cell_type": "code",
      "execution_count": 431,
      "metadata": {
        "id": "Eln8GW3GBjDU"
      },
      "outputs": [],
      "source": [
        "def caculateAPMetrics(y_test,y_preds,print_report = False):\n",
        "  f1_scores = []\n",
        "  precision_scores = []\n",
        "  recall_scores = []\n",
        "  if print_report:\n",
        "    y_test_flatten = []\n",
        "    y_pred_flatten = []\n",
        "  for i in range(len(y_test)):\n",
        "    # yt = np.array(list(map(lambda x: tag2idx[x],y_test[i])))\n",
        "    yt = pad_sequences([y_test[i][0]],maxlen=MAX_LEN,padding='post',truncating = 'post',value = tag2idx['PAD'])[0]\n",
        "    y_pred = y_preds[i][0]\n",
        "    yt = list(map(lambda x: idx2tag[x],yt))\n",
        "    y_pred = list(map(lambda x: idx2tag[x],y_pred))\n",
        "\n",
        "    # print(yt)\n",
        "    # print(y_pred)\n",
        "    # print(\"==========\")\n",
        "    if print_report:\n",
        "      # dont get B-, I-\n",
        "      y_test_flatten.extend(list(map(lambda x:x[2:] if \"#\" in x else x,yt)))\n",
        "      y_pred_flatten.extend(list(map(lambda x:x[2:] if \"#\" in x else x,y_pred)))\n",
        "\n",
        "    f1_scores.append(f1_score(yt,y_pred,average = 'macro',zero_division=0))\n",
        "    precision_scores.append(precision_score(yt,y_pred,average = 'macro',zero_division=0))\n",
        "    recall_scores.append(recall_score(yt,y_pred,average = 'macro',zero_division=0))\n",
        "\n",
        "  if print_report:\n",
        "    print(classification_report(y_test_flatten, y_pred_flatten,zero_division=0))\n",
        "  return np.mean(precision_scores),np.mean(recall_scores),np.mean(f1_scores)"
      ]
    },
    {
      "cell_type": "markdown",
      "metadata": {
        "id": "IZcC6lKpPZlM"
      },
      "source": [
        "## WORD"
      ]
    },
    {
      "cell_type": "code",
      "execution_count": 382,
      "metadata": {
        "id": "c6_VdcsXbZdP"
      },
      "outputs": [],
      "source": [
        "w_model.load_weights(\"/content/drive/MyDrive/deep/w_weights_last.h5\")"
      ]
    },
    {
      "cell_type": "code",
      "execution_count": null,
      "metadata": {
        "id": "kwdYmY2Jbad1"
      },
      "outputs": [],
      "source": [
        "y_preds_w = np.array([randomSampleW(x,w_model) for x in X_test])"
      ]
    },
    {
      "cell_type": "markdown",
      "metadata": {
        "id": "hDUi9BvCEUGi"
      },
      "source": [
        "### ASPECT"
      ]
    },
    {
      "cell_type": "code",
      "execution_count": 386,
      "metadata": {
        "id": "gDflbg3cnZXP"
      },
      "outputs": [],
      "source": [
        "y_preds_w_aspect = convert2Aspect(y_preds_w)\n"
      ]
    },
    {
      "cell_type": "code",
      "execution_count": 387,
      "metadata": {
        "colab": {
          "base_uri": "https://localhost:8080/"
        },
        "id": "AvcsfUkgbbTq",
        "outputId": "8382acb3-8bf3-4bee-be16-15a121df0a5b"
      },
      "outputs": [
        {
          "data": {
            "text/plain": [
              "array([['DESIGN', 'DESIGN', 'O', 'O', 'O', 'O', 'O', 'O', 'O', 'O',\n",
              "        'PAD', 'PAD', 'PAD', 'PAD', 'PAD', 'PAD', 'PAD', 'PAD', 'PAD',\n",
              "        'PAD', 'PAD', 'PAD', 'PAD', 'PAD', 'PAD', 'PAD', 'PAD', 'PAD',\n",
              "        'PAD', 'PAD']], dtype=object)"
            ]
          },
          "execution_count": 387,
          "metadata": {},
          "output_type": "execute_result"
        }
      ],
      "source": [
        "y_preds_w_aspect[0]"
      ]
    },
    {
      "cell_type": "code",
      "execution_count": 388,
      "metadata": {
        "colab": {
          "base_uri": "https://localhost:8080/"
        },
        "id": "ceGU-mDXn304",
        "outputId": "c70879e7-7e82-45ff-9823-5b5d984d93b1"
      },
      "outputs": [
        {
          "name": "stdout",
          "output_type": "stream",
          "text": [
            "                    precision    recall  f1-score   support\n",
            "\n",
            "           BATTERY       0.56      0.50      0.53       267\n",
            "      CONNECTIVITY       0.90      0.52      0.66       176\n",
            "            DESIGN       0.80      0.73      0.76       742\n",
            "           DISPLAY       0.57      0.78      0.66       403\n",
            "      FANS_COOLING       0.68      0.50      0.58       186\n",
            "          FEATURES       0.53      0.45      0.49       331\n",
            "           GENERAL       0.41      0.46      0.44       827\n",
            "          KEYBOARD       0.55      0.79      0.65       169\n",
            "MULTIMEDIA_DEVICES       0.70      0.67      0.68       271\n",
            "                 O       0.55      0.52      0.53      1712\n",
            "               PAD       0.99      1.00      0.99      3744\n",
            "       PERFORMANCE       0.65      0.72      0.69      1172\n",
            "             PRICE       0.22      0.07      0.10        89\n",
            "           SERVICE       0.62      0.67      0.65       362\n",
            "           STORAGE       0.43      0.54      0.48        70\n",
            "          TOUCHPAD       0.00      0.00      0.00        59\n",
            "           WARRATY       0.00      0.00      0.00        70\n",
            "\n",
            "          accuracy                           0.73     10650\n",
            "         macro avg       0.54      0.53      0.52     10650\n",
            "      weighted avg       0.73      0.73      0.73     10650\n",
            "\n",
            "Precision score: 0.5899134140050045\n",
            "Recall score: 0.6322820859969129\n",
            "F1 score: 0.5885633399336242\n"
          ]
        }
      ],
      "source": [
        "w_a_pre,w_a_re,w_a_f1 = caculateAMetrics(y_test_re,y_preds_w_aspect,1)\n",
        "print(\"Precision score:\",w_a_pre)\n",
        "print(\"Recall score:\",w_a_re)\n",
        "print(\"F1 score:\",w_a_f1)"
      ]
    },
    {
      "cell_type": "markdown",
      "metadata": {
        "id": "USDD9fslbOBZ"
      },
      "source": [
        "### POLARITY"
      ]
    },
    {
      "cell_type": "code",
      "execution_count": 389,
      "metadata": {
        "id": "Zq9sn_sDqK-O"
      },
      "outputs": [],
      "source": [
        "y_preds_w_polarity = convert2Polarity(y_preds_w)"
      ]
    },
    {
      "cell_type": "code",
      "execution_count": 390,
      "metadata": {
        "colab": {
          "base_uri": "https://localhost:8080/"
        },
        "id": "2ZpV5NlQ3JoY",
        "outputId": "4a3b3d6a-82a3-4c8f-c704-04de48e8e767"
      },
      "outputs": [
        {
          "data": {
            "text/plain": [
              "array([['POSITIVE', 'POSITIVE', 'O', 'O', 'O', 'O', 'O', 'O', 'O', 'O',\n",
              "        'PAD', 'PAD', 'PAD', 'PAD', 'PAD', 'PAD', 'PAD', 'PAD', 'PAD',\n",
              "        'PAD', 'PAD', 'PAD', 'PAD', 'PAD', 'PAD', 'PAD', 'PAD', 'PAD',\n",
              "        'PAD', 'PAD']], dtype=object)"
            ]
          },
          "execution_count": 390,
          "metadata": {},
          "output_type": "execute_result"
        }
      ],
      "source": [
        "y_preds_w_polarity[0]"
      ]
    },
    {
      "cell_type": "code",
      "execution_count": 391,
      "metadata": {
        "colab": {
          "base_uri": "https://localhost:8080/"
        },
        "id": "z3pR6-wn3JoY",
        "outputId": "e45d4071-0b5d-41cc-f854-b35e4251c9d0"
      },
      "outputs": [
        {
          "name": "stdout",
          "output_type": "stream",
          "text": [
            "              precision    recall  f1-score   support\n",
            "\n",
            "    NEGATIVE       0.63      0.34      0.44       611\n",
            "     NEUTRAL       0.22      0.24      0.23       246\n",
            "           O       0.55      0.52      0.53      1712\n",
            "         PAD       0.99      1.00      0.99      3744\n",
            "    POSITIVE       0.80      0.86      0.83      4337\n",
            "\n",
            "    accuracy                           0.81     10650\n",
            "   macro avg       0.64      0.59      0.61     10650\n",
            "weighted avg       0.80      0.81      0.80     10650\n",
            "\n",
            "Precision score: 0.7035020805068384\n",
            "Recall score: 0.7172759971029016\n",
            "F1 score: 0.6847756311176627\n"
          ]
        }
      ],
      "source": [
        "w_p_pre,w_p_re,w_p_f1 = caculatePMetrics(y_test_re,y_preds_w_polarity,1)\n",
        "print(\"Precision score:\",w_p_pre)\n",
        "print(\"Recall score:\",w_p_re)\n",
        "print(\"F1 score:\",w_p_f1)"
      ]
    },
    {
      "cell_type": "markdown",
      "metadata": {
        "id": "wsYtCyTrbN_V"
      },
      "source": [
        "### ASPECT#POLARITY"
      ]
    },
    {
      "cell_type": "code",
      "execution_count": 432,
      "metadata": {
        "colab": {
          "base_uri": "https://localhost:8080/"
        },
        "id": "QbpcV683OuSA",
        "outputId": "450bfb08-bfcb-4765-d97e-397bf8801e1b"
      },
      "outputs": [
        {
          "name": "stdout",
          "output_type": "stream",
          "text": [
            "                             precision    recall  f1-score   support\n",
            "\n",
            "           BATTERY#NEGATIVE       0.59      0.57      0.58        69\n",
            "            BATTERY#NEUTRAL       0.55      0.85      0.67        62\n",
            "           BATTERY#POSITIVE       0.45      0.26      0.33       136\n",
            "      CONNECTIVITY#NEGATIVE       0.00      0.00      0.00        11\n",
            "       CONNECTIVITY#NEUTRAL       0.00      0.00      0.00         5\n",
            "      CONNECTIVITY#POSITIVE       0.90      0.57      0.70       160\n",
            "            DESIGN#NEGATIVE       0.00      0.00      0.00        66\n",
            "            DESIGN#POSITIVE       0.76      0.76      0.76       676\n",
            "           DISPLAY#NEGATIVE       0.40      0.39      0.40        69\n",
            "           DISPLAY#POSITIVE       0.55      0.79      0.65       334\n",
            "      FANS_COOLING#NEGATIVE       0.38      0.15      0.22        33\n",
            "       FANS_COOLING#NEUTRAL       0.00      0.00      0.00        16\n",
            "      FANS_COOLING#POSITIVE       0.95      0.61      0.75       137\n",
            "          FEATURES#NEGATIVE       0.74      0.56      0.64        87\n",
            "          FEATURES#POSITIVE       0.47      0.41      0.44       244\n",
            "           GENERAL#NEGATIVE       0.04      0.08      0.05        37\n",
            "            GENERAL#NEUTRAL       0.00      0.00      0.00        73\n",
            "           GENERAL#POSITIVE       0.44      0.49      0.46       717\n",
            "          KEYBOARD#NEGATIVE       0.00      0.00      0.00        23\n",
            "           KEYBOARD#NEUTRAL       0.00      0.00      0.00         7\n",
            "          KEYBOARD#POSITIVE       0.43      0.75      0.54       139\n",
            "MULTIMEDIA_DEVICES#NEGATIVE       0.00      0.00      0.00        64\n",
            "MULTIMEDIA_DEVICES#POSITIVE       0.72      0.87      0.79       207\n",
            "                          O       0.55      0.52      0.53      1712\n",
            "                        PAD       0.99      1.00      0.99      3744\n",
            "       PERFORMANCE#NEGATIVE       0.51      0.14      0.22       125\n",
            "        PERFORMANCE#NEUTRAL       0.06      0.07      0.06        83\n",
            "       PERFORMANCE#POSITIVE       0.60      0.73      0.66       964\n",
            "             PRICE#POSITIVE       0.22      0.07      0.10        89\n",
            "           SERVICE#NEGATIVE       0.00      0.00      0.00        24\n",
            "           SERVICE#POSITIVE       0.61      0.70      0.65       338\n",
            "           STORAGE#POSITIVE       0.43      0.54      0.48        70\n",
            "          TOUCHPAD#NEGATIVE       0.00      0.00      0.00         3\n",
            "          TOUCHPAD#POSITIVE       0.00      0.00      0.00        56\n",
            "           WARRATY#POSITIVE       0.00      0.00      0.00        70\n",
            "\n",
            "                   accuracy                           0.71     10650\n",
            "                  macro avg       0.35      0.34      0.33     10650\n",
            "               weighted avg       0.70      0.71      0.70     10650\n",
            "\n",
            "Precision score: 0.5307987935513432\n",
            "Recall score: 0.5555526654410278\n",
            "F1 score: 0.5274483599720294\n"
          ]
        }
      ],
      "source": [
        "w_ap_pre,w_ap_re,w_ap_f1 = caculateAPMetrics(y_test_re,y_preds_w,1)\n",
        "print(\"Precision score:\",w_ap_pre)\n",
        "print(\"Recall score:\",w_ap_re)\n",
        "print(\"F1 score:\",w_ap_f1)"
      ]
    },
    {
      "cell_type": "markdown",
      "metadata": {
        "id": "-uVx5IAZPd9a"
      },
      "source": [
        "## WORD + CHARACTER"
      ]
    },
    {
      "cell_type": "code",
      "execution_count": 404,
      "metadata": {
        "id": "6EUfYnPrV2Uj"
      },
      "outputs": [],
      "source": [
        "wc_model.load_weights(\"/content/drive/MyDrive/deep/wc_weights.h5\")"
      ]
    },
    {
      "cell_type": "code",
      "execution_count": 405,
      "metadata": {
        "id": "1wC0Tp5KSTqc"
      },
      "outputs": [],
      "source": [
        "y_preds_wc = [randomSampleWC(x,wc_model) for x in X_test]"
      ]
    },
    {
      "cell_type": "markdown",
      "metadata": {
        "id": "GpBgVfV6bUB2"
      },
      "source": [
        "### ASPECT"
      ]
    },
    {
      "cell_type": "code",
      "execution_count": 406,
      "metadata": {
        "id": "pHrHpDNx4DwH"
      },
      "outputs": [],
      "source": [
        "y_preds_wc_aspect = convert2Aspect(y_preds_wc)\n"
      ]
    },
    {
      "cell_type": "code",
      "execution_count": 407,
      "metadata": {
        "colab": {
          "base_uri": "https://localhost:8080/"
        },
        "id": "bNVcwoCZ4DwH",
        "outputId": "220bee83-09e5-4794-e51b-1a23ddd6e1ec"
      },
      "outputs": [
        {
          "data": {
            "text/plain": [
              "array([['DESIGN', 'DESIGN', 'O', 'O', 'O', 'O', 'O', 'O', 'O', 'O',\n",
              "        'PAD', 'PAD', 'PAD', 'PAD', 'PAD', 'PAD', 'PAD', 'PAD', 'PAD',\n",
              "        'PAD', 'PAD', 'PAD', 'PAD', 'PAD', 'PAD', 'PAD', 'PAD', 'PAD',\n",
              "        'PAD', 'PAD']], dtype=object)"
            ]
          },
          "execution_count": 407,
          "metadata": {},
          "output_type": "execute_result"
        }
      ],
      "source": [
        "y_preds_wc_aspect[0]"
      ]
    },
    {
      "cell_type": "code",
      "execution_count": 408,
      "metadata": {
        "colab": {
          "base_uri": "https://localhost:8080/"
        },
        "id": "rf0Ivrmk4DwH",
        "outputId": "bebe219f-4b94-46bc-aec1-8e90126dcb69"
      },
      "outputs": [
        {
          "name": "stdout",
          "output_type": "stream",
          "text": [
            "                    precision    recall  f1-score   support\n",
            "\n",
            "           BATTERY       0.46      0.68      0.55       267\n",
            "      CONNECTIVITY       0.78      0.73      0.76       176\n",
            "            DESIGN       0.76      0.69      0.73       742\n",
            "           DISPLAY       0.63      0.62      0.63       403\n",
            "      FANS_COOLING       0.42      0.48      0.45       186\n",
            "          FEATURES       0.52      0.59      0.56       331\n",
            "           GENERAL       0.46      0.46      0.46       827\n",
            "          KEYBOARD       0.35      0.70      0.46       169\n",
            "MULTIMEDIA_DEVICES       0.65      0.61      0.63       271\n",
            "                 O       0.56      0.45      0.50      1712\n",
            "               PAD       1.00      0.99      0.99      3744\n",
            "       PERFORMANCE       0.61      0.73      0.66      1172\n",
            "             PRICE       0.00      0.00      0.00        89\n",
            "           SERVICE       0.62      0.73      0.67       362\n",
            "           STORAGE       0.67      0.81      0.74        70\n",
            "          TOUCHPAD       0.00      0.00      0.00        59\n",
            "           WARRATY       0.00      0.00      0.00        70\n",
            "\n",
            "          accuracy                           0.72     10650\n",
            "         macro avg       0.50      0.55      0.52     10650\n",
            "      weighted avg       0.72      0.72      0.72     10650\n",
            "\n",
            "Precision score: 0.5785426975025374\n",
            "Recall score: 0.6179127687775219\n",
            "F1 score: 0.5768445210617209\n"
          ]
        }
      ],
      "source": [
        "wc_a_pre,wc_a_re,wc_a_f1 = caculateAMetrics(y_test_re,y_preds_wc_aspect,1)\n",
        "print(\"Precision score:\",wc_a_pre)\n",
        "print(\"Recall score:\",wc_a_re)\n",
        "print(\"F1 score:\",wc_a_f1)"
      ]
    },
    {
      "cell_type": "markdown",
      "metadata": {
        "id": "yLv8xIxgbUB2"
      },
      "source": [
        "### POLARITY"
      ]
    },
    {
      "cell_type": "code",
      "execution_count": 409,
      "metadata": {
        "id": "czINb1hM4XPp"
      },
      "outputs": [],
      "source": [
        "y_preds_wc_polarity = convert2Polarity(y_preds_wc)"
      ]
    },
    {
      "cell_type": "code",
      "execution_count": 410,
      "metadata": {
        "colab": {
          "base_uri": "https://localhost:8080/"
        },
        "id": "F5STBvUx4XPp",
        "outputId": "1e0b861c-c626-47ce-fc34-08c304af8529"
      },
      "outputs": [
        {
          "data": {
            "text/plain": [
              "array([['POSITIVE', 'POSITIVE', 'O', 'O', 'O', 'O', 'O', 'O', 'O', 'O',\n",
              "        'PAD', 'PAD', 'PAD', 'PAD', 'PAD', 'PAD', 'PAD', 'PAD', 'PAD',\n",
              "        'PAD', 'PAD', 'PAD', 'PAD', 'PAD', 'PAD', 'PAD', 'PAD', 'PAD',\n",
              "        'PAD', 'PAD']], dtype=object)"
            ]
          },
          "execution_count": 410,
          "metadata": {},
          "output_type": "execute_result"
        }
      ],
      "source": [
        "y_preds_wc_polarity[0]"
      ]
    },
    {
      "cell_type": "code",
      "execution_count": 411,
      "metadata": {
        "colab": {
          "base_uri": "https://localhost:8080/"
        },
        "id": "CtSamwBU4XPq",
        "outputId": "3c1be889-46a2-4d85-e958-f56fc7fb3a39"
      },
      "outputs": [
        {
          "name": "stdout",
          "output_type": "stream",
          "text": [
            "              precision    recall  f1-score   support\n",
            "\n",
            "    NEGATIVE       0.56      0.35      0.43       611\n",
            "     NEUTRAL       0.12      0.30      0.17       246\n",
            "           O       0.56      0.45      0.50      1712\n",
            "         PAD       1.00      0.99      0.99      3744\n",
            "    POSITIVE       0.82      0.86      0.84      4337\n",
            "\n",
            "    accuracy                           0.80     10650\n",
            "   macro avg       0.61      0.59      0.59     10650\n",
            "weighted avg       0.81      0.80      0.80     10650\n",
            "\n",
            "Precision score: 0.6875892918722314\n",
            "Recall score: 0.7055022448958486\n",
            "F1 score: 0.6717204748376957\n"
          ]
        }
      ],
      "source": [
        "wc_p_pre,wc_p_re,wc_p_f1 = caculatePMetrics(y_test_re,y_preds_wc_polarity,1)\n",
        "print(\"Precision score:\",wc_p_pre)\n",
        "print(\"Recall score:\",wc_p_re)\n",
        "print(\"F1 score:\",wc_p_f1)"
      ]
    },
    {
      "cell_type": "markdown",
      "metadata": {
        "id": "kqQfCfIAbUB2"
      },
      "source": [
        "### ASPECT#POLARITY"
      ]
    },
    {
      "cell_type": "code",
      "execution_count": 433,
      "metadata": {
        "colab": {
          "base_uri": "https://localhost:8080/"
        },
        "id": "tzvToGhUSTqc",
        "outputId": "933fe018-a706-43bc-c5b5-5a44155bfc8c"
      },
      "outputs": [
        {
          "name": "stdout",
          "output_type": "stream",
          "text": [
            "                             precision    recall  f1-score   support\n",
            "\n",
            "           BATTERY#NEGATIVE       0.66      0.36      0.47        69\n",
            "            BATTERY#NEUTRAL       0.24      0.95      0.39        62\n",
            "           BATTERY#POSITIVE       0.77      0.62      0.69       136\n",
            "      CONNECTIVITY#NEGATIVE       0.00      0.00      0.00        11\n",
            "       CONNECTIVITY#NEUTRAL       0.00      0.00      0.00         5\n",
            "      CONNECTIVITY#POSITIVE       0.78      0.81      0.79       160\n",
            "            DESIGN#NEGATIVE       0.00      0.00      0.00        66\n",
            "            DESIGN#POSITIVE       0.73      0.73      0.73       676\n",
            "           DISPLAY#NEGATIVE       0.67      0.48      0.56        69\n",
            "            DISPLAY#NEUTRAL       0.00      0.00      0.00         0\n",
            "           DISPLAY#POSITIVE       0.68      0.65      0.66       334\n",
            "      FANS_COOLING#NEGATIVE       1.00      0.12      0.22        33\n",
            "       FANS_COOLING#NEUTRAL       0.13      0.62      0.21        16\n",
            "      FANS_COOLING#POSITIVE       0.52      0.50      0.51       137\n",
            "          FEATURES#NEGATIVE       0.61      0.62      0.62        87\n",
            "          FEATURES#POSITIVE       0.44      0.52      0.48       244\n",
            "           GENERAL#NEGATIVE       0.08      0.11      0.09        37\n",
            "            GENERAL#NEUTRAL       0.00      0.00      0.00        73\n",
            "           GENERAL#POSITIVE       0.43      0.45      0.44       717\n",
            "          KEYBOARD#NEGATIVE       0.00      0.00      0.00        23\n",
            "           KEYBOARD#NEUTRAL       0.00      0.00      0.00         7\n",
            "          KEYBOARD#POSITIVE       0.68      0.58      0.63       139\n",
            "MULTIMEDIA_DEVICES#NEGATIVE       0.00      0.00      0.00        64\n",
            "MULTIMEDIA_DEVICES#POSITIVE       0.65      0.80      0.71       207\n",
            "                          O       0.56      0.45      0.50      1712\n",
            "                        PAD       1.00      0.99      0.99      3744\n",
            "       PERFORMANCE#NEGATIVE       0.39      0.34      0.36       125\n",
            "        PERFORMANCE#NEUTRAL       0.00      0.00      0.00        83\n",
            "       PERFORMANCE#POSITIVE       0.61      0.78      0.69       964\n",
            "             PRICE#POSITIVE       0.00      0.00      0.00        89\n",
            "           SERVICE#NEGATIVE       0.00      0.00      0.00        24\n",
            "           SERVICE#POSITIVE       0.62      0.78      0.69       338\n",
            "           STORAGE#POSITIVE       0.67      0.81      0.74        70\n",
            "          TOUCHPAD#NEGATIVE       0.00      0.00      0.00         3\n",
            "          TOUCHPAD#POSITIVE       0.00      0.00      0.00        56\n",
            "           WARRATY#POSITIVE       0.00      0.00      0.00        70\n",
            "\n",
            "                   accuracy                           0.70     10650\n",
            "                  macro avg       0.36      0.36      0.34     10650\n",
            "               weighted avg       0.70      0.70      0.70     10650\n",
            "\n",
            "Precision score: 0.5247798922582763\n",
            "Recall score: 0.5500676302364097\n",
            "F1 score: 0.5232893932925924\n"
          ]
        }
      ],
      "source": [
        "wc_ap_pre,wc_ap_re,wc_ap_f1 = caculateAPMetrics(y_test_re,y_preds_wc,1)\n",
        "print(\"Precision score:\",wc_ap_pre)\n",
        "print(\"Recall score:\",wc_ap_re)\n",
        "print(\"F1 score:\",wc_ap_f1)"
      ]
    },
    {
      "cell_type": "markdown",
      "metadata": {
        "id": "00hfH7CLPfb6"
      },
      "source": [
        "## WORD + CHARACTER + CONTEXTUAL"
      ]
    },
    {
      "cell_type": "code",
      "execution_count": 369,
      "metadata": {
        "id": "kT84YsftVnKY"
      },
      "outputs": [],
      "source": [
        "wcc_model.load_weights(\"/content/drive/MyDrive/deep/context_weights_fhidden_second.h5\")"
      ]
    },
    {
      "cell_type": "code",
      "execution_count": 372,
      "metadata": {
        "id": "KfVDr7KYTBKy"
      },
      "outputs": [],
      "source": [
        "y_preds_wcc = [randomSampleWCC(x,wcc_model,tokenizer) for x in X_test]"
      ]
    },
    {
      "cell_type": "markdown",
      "metadata": {
        "id": "kWECCPEUbUnB"
      },
      "source": [
        "### ASPECT"
      ]
    },
    {
      "cell_type": "code",
      "execution_count": 373,
      "metadata": {
        "id": "kYfNxJvJ5HtY"
      },
      "outputs": [],
      "source": [
        "y_preds_wcc_aspect = convert2Aspect(y_preds_wcc)\n"
      ]
    },
    {
      "cell_type": "code",
      "execution_count": 374,
      "metadata": {
        "colab": {
          "base_uri": "https://localhost:8080/"
        },
        "id": "UHChytOh5HtY",
        "outputId": "50162d20-5cb3-414c-e1d9-3b26da89ec97"
      },
      "outputs": [
        {
          "data": {
            "text/plain": [
              "array([['DESIGN', 'DESIGN', 'O', 'O', 'O', 'O', 'O', 'O', 'O', 'O',\n",
              "        'PAD', 'PAD', 'PAD', 'PAD', 'PAD', 'PAD', 'PAD', 'PAD', 'PAD',\n",
              "        'PAD', 'PAD', 'PAD', 'PAD', 'PAD', 'PAD', 'PAD', 'PAD', 'PAD',\n",
              "        'PAD', 'PAD']], dtype=object)"
            ]
          },
          "execution_count": 374,
          "metadata": {},
          "output_type": "execute_result"
        }
      ],
      "source": [
        "y_preds_wcc_aspect[0]"
      ]
    },
    {
      "cell_type": "code",
      "execution_count": 376,
      "metadata": {
        "colab": {
          "base_uri": "https://localhost:8080/"
        },
        "id": "jPny3Kp_5HtZ",
        "outputId": "62c4aba4-a5f5-4234-a9f7-65a4f1259148"
      },
      "outputs": [
        {
          "name": "stdout",
          "output_type": "stream",
          "text": [
            "                    precision    recall  f1-score   support\n",
            "\n",
            "           BATTERY       0.80      0.65      0.72       267\n",
            "      CONNECTIVITY       0.96      0.61      0.75       176\n",
            "            DESIGN       0.82      0.74      0.78       742\n",
            "           DISPLAY       0.58      0.73      0.65       403\n",
            "      FANS_COOLING       0.70      0.49      0.58       186\n",
            "          FEATURES       0.61      0.48      0.54       331\n",
            "           GENERAL       0.56      0.42      0.48       827\n",
            "          KEYBOARD       0.82      0.89      0.85       169\n",
            "MULTIMEDIA_DEVICES       0.77      0.63      0.69       271\n",
            "                 O       0.57      0.64      0.60      1712\n",
            "               PAD       0.99      1.00      1.00      3744\n",
            "       PERFORMANCE       0.63      0.80      0.70      1172\n",
            "             PRICE       1.00      0.07      0.13        89\n",
            "           SERVICE       0.64      0.75      0.69       362\n",
            "           STORAGE       0.46      0.81      0.59        70\n",
            "          TOUCHPAD       0.00      0.00      0.00        59\n",
            "           WARRATY       0.33      0.07      0.12        70\n",
            "\n",
            "          accuracy                           0.76     10650\n",
            "         macro avg       0.66      0.58      0.58     10650\n",
            "      weighted avg       0.77      0.76      0.76     10650\n",
            "\n",
            "Precision score: 0.6241876542572262\n",
            "Recall score: 0.6634494254125247\n",
            "F1 score: 0.6228207824007986\n"
          ]
        }
      ],
      "source": [
        "wcc_a_pre,wcc_a_re,wcc_a_f1 = caculateAMetrics(y_test_re,y_preds_wcc_aspect,1)\n",
        "print(\"Precision score:\",wcc_a_pre)\n",
        "print(\"Recall score:\",wcc_a_re)\n",
        "print(\"F1 score:\",wcc_a_f1)"
      ]
    },
    {
      "cell_type": "markdown",
      "metadata": {
        "id": "Fz2axZmIbUnC"
      },
      "source": [
        "### POLARITY"
      ]
    },
    {
      "cell_type": "code",
      "execution_count": 377,
      "metadata": {
        "id": "KZ9cKwIa5Szh"
      },
      "outputs": [],
      "source": [
        "y_preds_wcc_polarity = convert2Polarity(y_preds_wcc)"
      ]
    },
    {
      "cell_type": "code",
      "execution_count": 378,
      "metadata": {
        "colab": {
          "base_uri": "https://localhost:8080/"
        },
        "id": "6YwnL3Tm5Szh",
        "outputId": "f7c85327-20df-4327-f8fa-4b05d26c3705"
      },
      "outputs": [
        {
          "data": {
            "text/plain": [
              "array([['POSITIVE', 'POSITIVE', 'O', 'O', 'O', 'O', 'O', 'O', 'O', 'O',\n",
              "        'PAD', 'PAD', 'PAD', 'PAD', 'PAD', 'PAD', 'PAD', 'PAD', 'PAD',\n",
              "        'PAD', 'PAD', 'PAD', 'PAD', 'PAD', 'PAD', 'PAD', 'PAD', 'PAD',\n",
              "        'PAD', 'PAD']], dtype=object)"
            ]
          },
          "execution_count": 378,
          "metadata": {},
          "output_type": "execute_result"
        }
      ],
      "source": [
        "y_preds_wcc_polarity[0]"
      ]
    },
    {
      "cell_type": "code",
      "execution_count": 379,
      "metadata": {
        "colab": {
          "base_uri": "https://localhost:8080/"
        },
        "id": "qlqqXCYx5Szi",
        "outputId": "aa4b04bb-1de4-466a-8fa9-26be0afe787e"
      },
      "outputs": [
        {
          "name": "stdout",
          "output_type": "stream",
          "text": [
            "              precision    recall  f1-score   support\n",
            "\n",
            "    NEGATIVE       0.68      0.27      0.39       611\n",
            "     NEUTRAL       0.32      0.12      0.18       246\n",
            "           O       0.57      0.64      0.60      1712\n",
            "         PAD       0.99      1.00      1.00      3744\n",
            "    POSITIVE       0.81      0.86      0.83      4337\n",
            "\n",
            "    accuracy                           0.82     10650\n",
            "   macro avg       0.67      0.58      0.60     10650\n",
            "weighted avg       0.82      0.82      0.81     10650\n",
            "\n",
            "Precision score: 0.7161303109607657\n",
            "Recall score: 0.7271642353109654\n",
            "F1 score: 0.6982453168315548\n"
          ]
        }
      ],
      "source": [
        "wcc_p_pre,wcc_p_re,wcc_p_f1 = caculatePMetrics(y_test_re,y_preds_wcc_polarity,1)\n",
        "print(\"Precision score:\",wcc_p_pre)\n",
        "print(\"Recall score:\",wcc_p_re)\n",
        "print(\"F1 score:\",wcc_p_f1)"
      ]
    },
    {
      "cell_type": "markdown",
      "metadata": {
        "id": "ZfZlATz9bUnC"
      },
      "source": [
        "### ASPECT#POLARITY"
      ]
    },
    {
      "cell_type": "code",
      "execution_count": 434,
      "metadata": {
        "colab": {
          "base_uri": "https://localhost:8080/"
        },
        "id": "-Yz_IntsTBKy",
        "outputId": "b196a0f2-4182-47a0-a1ac-ceccb15f629c"
      },
      "outputs": [
        {
          "name": "stdout",
          "output_type": "stream",
          "text": [
            "                             precision    recall  f1-score   support\n",
            "\n",
            "           BATTERY#NEGATIVE       0.43      0.48      0.46        69\n",
            "            BATTERY#NEUTRAL       0.61      0.44      0.51        62\n",
            "           BATTERY#POSITIVE       0.41      0.29      0.34       136\n",
            "      CONNECTIVITY#NEGATIVE       0.00      0.00      0.00        11\n",
            "       CONNECTIVITY#NEUTRAL       0.00      0.00      0.00         5\n",
            "      CONNECTIVITY#POSITIVE       0.96      0.68      0.79       160\n",
            "            DESIGN#NEGATIVE       0.00      0.00      0.00        66\n",
            "            DESIGN#POSITIVE       0.76      0.75      0.75       676\n",
            "           DISPLAY#NEGATIVE       0.00      0.00      0.00        69\n",
            "           DISPLAY#POSITIVE       0.53      0.80      0.64       334\n",
            "      FANS_COOLING#NEGATIVE       0.00      0.00      0.00        33\n",
            "       FANS_COOLING#NEUTRAL       0.00      0.00      0.00        16\n",
            "      FANS_COOLING#POSITIVE       0.70      0.66      0.68       137\n",
            "          FEATURES#NEGATIVE       0.56      0.46      0.51        87\n",
            "          FEATURES#POSITIVE       0.57      0.45      0.50       244\n",
            "           GENERAL#NEGATIVE       0.35      0.19      0.25        37\n",
            "            GENERAL#NEUTRAL       0.14      0.04      0.06        73\n",
            "           GENERAL#POSITIVE       0.54      0.43      0.48       717\n",
            "          KEYBOARD#NEGATIVE       0.00      0.00      0.00        23\n",
            "           KEYBOARD#NEUTRAL       0.00      0.00      0.00         7\n",
            "          KEYBOARD#POSITIVE       0.65      0.87      0.75       139\n",
            "MULTIMEDIA_DEVICES#NEGATIVE       0.00      0.00      0.00        64\n",
            "MULTIMEDIA_DEVICES#POSITIVE       0.81      0.83      0.82       207\n",
            "                          O       0.57      0.64      0.60      1712\n",
            "                        PAD       0.99      1.00      1.00      3744\n",
            "       PERFORMANCE#NEGATIVE       0.69      0.33      0.45       125\n",
            "        PERFORMANCE#NEUTRAL       0.00      0.00      0.00        83\n",
            "       PERFORMANCE#POSITIVE       0.59      0.86      0.70       964\n",
            "             PRICE#POSITIVE       1.00      0.07      0.13        89\n",
            "           SERVICE#NEGATIVE       0.00      0.00      0.00        24\n",
            "           SERVICE#POSITIVE       0.62      0.78      0.69       338\n",
            "           STORAGE#POSITIVE       0.46      0.81      0.59        70\n",
            "          TOUCHPAD#NEGATIVE       0.00      0.00      0.00         3\n",
            "          TOUCHPAD#POSITIVE       0.00      0.00      0.00        56\n",
            "           WARRATY#POSITIVE       0.33      0.07      0.12        70\n",
            "\n",
            "                   accuracy                           0.74     10650\n",
            "                  macro avg       0.38      0.34      0.34     10650\n",
            "               weighted avg       0.72      0.74      0.72     10650\n",
            "\n",
            "Precision score: 0.5575753083426577\n",
            "Recall score: 0.581291432271658\n",
            "F1 score: 0.5548499197994743\n"
          ]
        }
      ],
      "source": [
        "wcc_pre,wcc_re,wcc_f1 = caculateAPMetrics(y_test_re,y_preds_wcc,1)\n",
        "print(\"Precision score:\",wcc_pre)\n",
        "print(\"Recall score:\",wcc_re)\n",
        "print(\"F1 score:\",wcc_f1)"
      ]
    }
  ],
  "metadata": {
    "accelerator": "GPU",
    "colab": {
      "collapsed_sections": [
        "Xtv9WGHCqB6E",
        "U1pBDQ41qKmc",
        "1eqhj7MKqOal",
        "NOWMHBpVqSgE",
        "flESI-3jx9ht",
        "QFOn7UJnqXuV",
        "wLw1rMB57INU",
        "je_2xCoSqgm0"
      ],
      "provenance": [],
      "toc_visible": true
    },
    "gpuClass": "standard",
    "kernelspec": {
      "display_name": "base",
      "language": "python",
      "name": "python3"
    },
    "language_info": {
      "codemirror_mode": {
        "name": "ipython",
        "version": 3
      },
      "file_extension": ".py",
      "mimetype": "text/x-python",
      "name": "python",
      "nbconvert_exporter": "python",
      "pygments_lexer": "ipython3",
      "version": "3.9.7"
    },
    "orig_nbformat": 4,
    "vscode": {
      "interpreter": {
        "hash": "6bfd7e43db9e4734bb66d5adfb403b43705154d42fa8cc6fabe3ef8413fb5b5c"
      }
    },
    "widgets": {
      "application/vnd.jupyter.widget-state+json": {
        "0576230dd4334e52acb6f5183eb60cf0": {
          "model_module": "@jupyter-widgets/base",
          "model_module_version": "1.2.0",
          "model_name": "LayoutModel",
          "state": {
            "_model_module": "@jupyter-widgets/base",
            "_model_module_version": "1.2.0",
            "_model_name": "LayoutModel",
            "_view_count": null,
            "_view_module": "@jupyter-widgets/base",
            "_view_module_version": "1.2.0",
            "_view_name": "LayoutView",
            "align_content": null,
            "align_items": null,
            "align_self": null,
            "border": null,
            "bottom": null,
            "display": null,
            "flex": null,
            "flex_flow": null,
            "grid_area": null,
            "grid_auto_columns": null,
            "grid_auto_flow": null,
            "grid_auto_rows": null,
            "grid_column": null,
            "grid_gap": null,
            "grid_row": null,
            "grid_template_areas": null,
            "grid_template_columns": null,
            "grid_template_rows": null,
            "height": null,
            "justify_content": null,
            "justify_items": null,
            "left": null,
            "margin": null,
            "max_height": null,
            "max_width": null,
            "min_height": null,
            "min_width": null,
            "object_fit": null,
            "object_position": null,
            "order": null,
            "overflow": null,
            "overflow_x": null,
            "overflow_y": null,
            "padding": null,
            "right": null,
            "top": null,
            "visibility": null,
            "width": null
          }
        },
        "1cad4a655ac04c10a9e6fe9825224747": {
          "model_module": "@jupyter-widgets/controls",
          "model_module_version": "1.5.0",
          "model_name": "DescriptionStyleModel",
          "state": {
            "_model_module": "@jupyter-widgets/controls",
            "_model_module_version": "1.5.0",
            "_model_name": "DescriptionStyleModel",
            "_view_count": null,
            "_view_module": "@jupyter-widgets/base",
            "_view_module_version": "1.2.0",
            "_view_name": "StyleView",
            "description_width": ""
          }
        },
        "568891c5d3374c93a1e02d3ce36818ac": {
          "model_module": "@jupyter-widgets/controls",
          "model_module_version": "1.5.0",
          "model_name": "ProgressStyleModel",
          "state": {
            "_model_module": "@jupyter-widgets/controls",
            "_model_module_version": "1.5.0",
            "_model_name": "ProgressStyleModel",
            "_view_count": null,
            "_view_module": "@jupyter-widgets/base",
            "_view_module_version": "1.2.0",
            "_view_name": "StyleView",
            "bar_color": null,
            "description_width": ""
          }
        },
        "65be8fbf902249bdb31c4f2b3dce48d0": {
          "model_module": "@jupyter-widgets/base",
          "model_module_version": "1.2.0",
          "model_name": "LayoutModel",
          "state": {
            "_model_module": "@jupyter-widgets/base",
            "_model_module_version": "1.2.0",
            "_model_name": "LayoutModel",
            "_view_count": null,
            "_view_module": "@jupyter-widgets/base",
            "_view_module_version": "1.2.0",
            "_view_name": "LayoutView",
            "align_content": null,
            "align_items": null,
            "align_self": null,
            "border": null,
            "bottom": null,
            "display": null,
            "flex": null,
            "flex_flow": null,
            "grid_area": null,
            "grid_auto_columns": null,
            "grid_auto_flow": null,
            "grid_auto_rows": null,
            "grid_column": null,
            "grid_gap": null,
            "grid_row": null,
            "grid_template_areas": null,
            "grid_template_columns": null,
            "grid_template_rows": null,
            "height": null,
            "justify_content": null,
            "justify_items": null,
            "left": null,
            "margin": null,
            "max_height": null,
            "max_width": null,
            "min_height": null,
            "min_width": null,
            "object_fit": null,
            "object_position": null,
            "order": null,
            "overflow": null,
            "overflow_x": null,
            "overflow_y": null,
            "padding": null,
            "right": null,
            "top": null,
            "visibility": null,
            "width": null
          }
        },
        "6647307fb7ea4d9bb13599af6460a3f8": {
          "model_module": "@jupyter-widgets/controls",
          "model_module_version": "1.5.0",
          "model_name": "HBoxModel",
          "state": {
            "_dom_classes": [],
            "_model_module": "@jupyter-widgets/controls",
            "_model_module_version": "1.5.0",
            "_model_name": "HBoxModel",
            "_view_count": null,
            "_view_module": "@jupyter-widgets/controls",
            "_view_module_version": "1.5.0",
            "_view_name": "HBoxView",
            "box_style": "",
            "children": [
              "IPY_MODEL_e1486660baae4f72b6afd2630247dd94",
              "IPY_MODEL_c762a311eca34c69be7acf8fccf4d7e8",
              "IPY_MODEL_84b0f2c88b414eca931c5457774176eb"
            ],
            "layout": "IPY_MODEL_65be8fbf902249bdb31c4f2b3dce48d0"
          }
        },
        "69b139ccf2744914ab95ede2b9e878a0": {
          "model_module": "@jupyter-widgets/controls",
          "model_module_version": "1.5.0",
          "model_name": "DescriptionStyleModel",
          "state": {
            "_model_module": "@jupyter-widgets/controls",
            "_model_module_version": "1.5.0",
            "_model_name": "DescriptionStyleModel",
            "_view_count": null,
            "_view_module": "@jupyter-widgets/base",
            "_view_module_version": "1.2.0",
            "_view_name": "StyleView",
            "description_width": ""
          }
        },
        "6f8d919334b24667bf2ce0b74f1a52ae": {
          "model_module": "@jupyter-widgets/base",
          "model_module_version": "1.2.0",
          "model_name": "LayoutModel",
          "state": {
            "_model_module": "@jupyter-widgets/base",
            "_model_module_version": "1.2.0",
            "_model_name": "LayoutModel",
            "_view_count": null,
            "_view_module": "@jupyter-widgets/base",
            "_view_module_version": "1.2.0",
            "_view_name": "LayoutView",
            "align_content": null,
            "align_items": null,
            "align_self": null,
            "border": null,
            "bottom": null,
            "display": null,
            "flex": null,
            "flex_flow": null,
            "grid_area": null,
            "grid_auto_columns": null,
            "grid_auto_flow": null,
            "grid_auto_rows": null,
            "grid_column": null,
            "grid_gap": null,
            "grid_row": null,
            "grid_template_areas": null,
            "grid_template_columns": null,
            "grid_template_rows": null,
            "height": null,
            "justify_content": null,
            "justify_items": null,
            "left": null,
            "margin": null,
            "max_height": null,
            "max_width": null,
            "min_height": null,
            "min_width": null,
            "object_fit": null,
            "object_position": null,
            "order": null,
            "overflow": null,
            "overflow_x": null,
            "overflow_y": null,
            "padding": null,
            "right": null,
            "top": null,
            "visibility": null,
            "width": null
          }
        },
        "84b0f2c88b414eca931c5457774176eb": {
          "model_module": "@jupyter-widgets/controls",
          "model_module_version": "1.5.0",
          "model_name": "HTMLModel",
          "state": {
            "_dom_classes": [],
            "_model_module": "@jupyter-widgets/controls",
            "_model_module_version": "1.5.0",
            "_model_name": "HTMLModel",
            "_view_count": null,
            "_view_module": "@jupyter-widgets/controls",
            "_view_module_version": "1.5.0",
            "_view_name": "HTMLView",
            "description": "",
            "description_tooltip": null,
            "layout": "IPY_MODEL_6f8d919334b24667bf2ce0b74f1a52ae",
            "placeholder": "​",
            "style": "IPY_MODEL_1cad4a655ac04c10a9e6fe9825224747",
            "value": " 1.11G/1.11G [00:10&lt;00:00, 68.9MB/s]"
          }
        },
        "c1aa28816427433287cfdc42a4bd7a87": {
          "model_module": "@jupyter-widgets/base",
          "model_module_version": "1.2.0",
          "model_name": "LayoutModel",
          "state": {
            "_model_module": "@jupyter-widgets/base",
            "_model_module_version": "1.2.0",
            "_model_name": "LayoutModel",
            "_view_count": null,
            "_view_module": "@jupyter-widgets/base",
            "_view_module_version": "1.2.0",
            "_view_name": "LayoutView",
            "align_content": null,
            "align_items": null,
            "align_self": null,
            "border": null,
            "bottom": null,
            "display": null,
            "flex": null,
            "flex_flow": null,
            "grid_area": null,
            "grid_auto_columns": null,
            "grid_auto_flow": null,
            "grid_auto_rows": null,
            "grid_column": null,
            "grid_gap": null,
            "grid_row": null,
            "grid_template_areas": null,
            "grid_template_columns": null,
            "grid_template_rows": null,
            "height": null,
            "justify_content": null,
            "justify_items": null,
            "left": null,
            "margin": null,
            "max_height": null,
            "max_width": null,
            "min_height": null,
            "min_width": null,
            "object_fit": null,
            "object_position": null,
            "order": null,
            "overflow": null,
            "overflow_x": null,
            "overflow_y": null,
            "padding": null,
            "right": null,
            "top": null,
            "visibility": null,
            "width": null
          }
        },
        "c762a311eca34c69be7acf8fccf4d7e8": {
          "model_module": "@jupyter-widgets/controls",
          "model_module_version": "1.5.0",
          "model_name": "FloatProgressModel",
          "state": {
            "_dom_classes": [],
            "_model_module": "@jupyter-widgets/controls",
            "_model_module_version": "1.5.0",
            "_model_name": "FloatProgressModel",
            "_view_count": null,
            "_view_module": "@jupyter-widgets/controls",
            "_view_module_version": "1.5.0",
            "_view_name": "ProgressView",
            "bar_style": "success",
            "description": "",
            "description_tooltip": null,
            "layout": "IPY_MODEL_0576230dd4334e52acb6f5183eb60cf0",
            "max": 1112441536,
            "min": 0,
            "orientation": "horizontal",
            "style": "IPY_MODEL_568891c5d3374c93a1e02d3ce36818ac",
            "value": 1112441536
          }
        },
        "e1486660baae4f72b6afd2630247dd94": {
          "model_module": "@jupyter-widgets/controls",
          "model_module_version": "1.5.0",
          "model_name": "HTMLModel",
          "state": {
            "_dom_classes": [],
            "_model_module": "@jupyter-widgets/controls",
            "_model_module_version": "1.5.0",
            "_model_name": "HTMLModel",
            "_view_count": null,
            "_view_module": "@jupyter-widgets/controls",
            "_view_module_version": "1.5.0",
            "_view_name": "HTMLView",
            "description": "",
            "description_tooltip": null,
            "layout": "IPY_MODEL_c1aa28816427433287cfdc42a4bd7a87",
            "placeholder": "​",
            "style": "IPY_MODEL_69b139ccf2744914ab95ede2b9e878a0",
            "value": "Downloading (…)&quot;tf_model.h5&quot;;: 100%"
          }
        }
      }
    }
  },
  "nbformat": 4,
  "nbformat_minor": 0
}
