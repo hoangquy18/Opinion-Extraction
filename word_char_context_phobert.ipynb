{
  "cells": [
    {
      "cell_type": "markdown",
      "metadata": {
        "id": "HBCbyUm8QAO9"
      },
      "source": [
        "# INSTALL LIBRARY"
      ]
    },
    {
      "cell_type": "code",
      "execution_count": null,
      "metadata": {
        "colab": {
          "base_uri": "https://localhost:8080/"
        },
        "id": "_ke0Bi7aWoIZ",
        "outputId": "9db87a6c-7e32-4c16-d0d0-56a552757c10"
      },
      "outputs": [
        {
          "output_type": "stream",
          "name": "stdout",
          "text": [
            "Mounted at /content/drive\n"
          ]
        }
      ],
      "source": [
        "from google.colab import drive\n",
        "drive.mount('/content/drive')\n"
      ]
    },
    {
      "cell_type": "code",
      "execution_count": null,
      "metadata": {
        "colab": {
          "base_uri": "https://localhost:8080/"
        },
        "id": "I6NaiF9WW2mg",
        "outputId": "50a0c4b8-5196-47b0-877d-8759ee91fa33"
      },
      "outputs": [
        {
          "output_type": "stream",
          "name": "stdout",
          "text": [
            "Looking in indexes: https://pypi.org/simple, https://us-python.pkg.dev/colab-wheels/public/simple/\n",
            "Collecting underthesea\n",
            "  Downloading underthesea-6.2.0-py3-none-any.whl (19.2 MB)\n",
            "\u001b[2K     \u001b[90m━━━━━━━━━━━━━━━━━━━━━━━━━━━━━━━━━━━━━━━━\u001b[0m \u001b[32m19.2/19.2 MB\u001b[0m \u001b[31m74.2 MB/s\u001b[0m eta \u001b[36m0:00:00\u001b[0m\n",
            "\u001b[?25hRequirement already satisfied: Click>=6.0 in /usr/local/lib/python3.10/dist-packages (from underthesea) (8.1.3)\n",
            "Collecting python-crfsuite>=0.9.6 (from underthesea)\n",
            "  Downloading python_crfsuite-0.9.9-cp310-cp310-manylinux_2_17_x86_64.manylinux2014_x86_64.whl (993 kB)\n",
            "\u001b[2K     \u001b[90m━━━━━━━━━━━━━━━━━━━━━━━━━━━━━━━━━━━━━━\u001b[0m \u001b[32m993.5/993.5 kB\u001b[0m \u001b[31m68.6 MB/s\u001b[0m eta \u001b[36m0:00:00\u001b[0m\n",
            "\u001b[?25hRequirement already satisfied: nltk in /usr/local/lib/python3.10/dist-packages (from underthesea) (3.8.1)\n",
            "Requirement already satisfied: tqdm in /usr/local/lib/python3.10/dist-packages (from underthesea) (4.65.0)\n",
            "Requirement already satisfied: requests in /usr/local/lib/python3.10/dist-packages (from underthesea) (2.27.1)\n",
            "Requirement already satisfied: joblib in /usr/local/lib/python3.10/dist-packages (from underthesea) (1.2.0)\n",
            "Requirement already satisfied: scikit-learn in /usr/local/lib/python3.10/dist-packages (from underthesea) (1.2.2)\n",
            "Requirement already satisfied: PyYAML in /usr/local/lib/python3.10/dist-packages (from underthesea) (6.0)\n",
            "Collecting underthesea-core==1.0.0 (from underthesea)\n",
            "  Downloading underthesea_core-1.0.0-cp310-cp310-manylinux2010_x86_64.whl (599 kB)\n",
            "\u001b[2K     \u001b[90m━━━━━━━━━━━━━━━━━━━━━━━━━━━━━━━━━━━━━━\u001b[0m \u001b[32m599.6/599.6 kB\u001b[0m \u001b[31m49.7 MB/s\u001b[0m eta \u001b[36m0:00:00\u001b[0m\n",
            "\u001b[?25hRequirement already satisfied: regex>=2021.8.3 in /usr/local/lib/python3.10/dist-packages (from nltk->underthesea) (2022.10.31)\n",
            "Requirement already satisfied: urllib3<1.27,>=1.21.1 in /usr/local/lib/python3.10/dist-packages (from requests->underthesea) (1.26.16)\n",
            "Requirement already satisfied: certifi>=2017.4.17 in /usr/local/lib/python3.10/dist-packages (from requests->underthesea) (2023.5.7)\n",
            "Requirement already satisfied: charset-normalizer~=2.0.0 in /usr/local/lib/python3.10/dist-packages (from requests->underthesea) (2.0.12)\n",
            "Requirement already satisfied: idna<4,>=2.5 in /usr/local/lib/python3.10/dist-packages (from requests->underthesea) (3.4)\n",
            "Requirement already satisfied: numpy>=1.17.3 in /usr/local/lib/python3.10/dist-packages (from scikit-learn->underthesea) (1.22.4)\n",
            "Requirement already satisfied: scipy>=1.3.2 in /usr/local/lib/python3.10/dist-packages (from scikit-learn->underthesea) (1.10.1)\n",
            "Requirement already satisfied: threadpoolctl>=2.0.0 in /usr/local/lib/python3.10/dist-packages (from scikit-learn->underthesea) (3.1.0)\n",
            "Installing collected packages: underthesea-core, python-crfsuite, underthesea\n",
            "Successfully installed python-crfsuite-0.9.9 underthesea-6.2.0 underthesea-core-1.0.0\n",
            "Looking in indexes: https://pypi.org/simple, https://us-python.pkg.dev/colab-wheels/public/simple/\n",
            "Collecting transformers\n",
            "  Downloading transformers-4.30.2-py3-none-any.whl (7.2 MB)\n",
            "\u001b[2K     \u001b[90m━━━━━━━━━━━━━━━━━━━━━━━━━━━━━━━━━━━━━━━━\u001b[0m \u001b[32m7.2/7.2 MB\u001b[0m \u001b[31m75.6 MB/s\u001b[0m eta \u001b[36m0:00:00\u001b[0m\n",
            "\u001b[?25hRequirement already satisfied: filelock in /usr/local/lib/python3.10/dist-packages (from transformers) (3.12.2)\n",
            "Collecting huggingface-hub<1.0,>=0.14.1 (from transformers)\n",
            "  Downloading huggingface_hub-0.15.1-py3-none-any.whl (236 kB)\n",
            "\u001b[2K     \u001b[90m━━━━━━━━━━━━━━━━━━━━━━━━━━━━━━━━━━━━━━\u001b[0m \u001b[32m236.8/236.8 kB\u001b[0m \u001b[31m25.1 MB/s\u001b[0m eta \u001b[36m0:00:00\u001b[0m\n",
            "\u001b[?25hRequirement already satisfied: numpy>=1.17 in /usr/local/lib/python3.10/dist-packages (from transformers) (1.22.4)\n",
            "Requirement already satisfied: packaging>=20.0 in /usr/local/lib/python3.10/dist-packages (from transformers) (23.1)\n",
            "Requirement already satisfied: pyyaml>=5.1 in /usr/local/lib/python3.10/dist-packages (from transformers) (6.0)\n",
            "Requirement already satisfied: regex!=2019.12.17 in /usr/local/lib/python3.10/dist-packages (from transformers) (2022.10.31)\n",
            "Requirement already satisfied: requests in /usr/local/lib/python3.10/dist-packages (from transformers) (2.27.1)\n",
            "Collecting tokenizers!=0.11.3,<0.14,>=0.11.1 (from transformers)\n",
            "  Downloading tokenizers-0.13.3-cp310-cp310-manylinux_2_17_x86_64.manylinux2014_x86_64.whl (7.8 MB)\n",
            "\u001b[2K     \u001b[90m━━━━━━━━━━━━━━━━━━━━━━━━━━━━━━━━━━━━━━━━\u001b[0m \u001b[32m7.8/7.8 MB\u001b[0m \u001b[31m78.3 MB/s\u001b[0m eta \u001b[36m0:00:00\u001b[0m\n",
            "\u001b[?25hCollecting safetensors>=0.3.1 (from transformers)\n",
            "  Downloading safetensors-0.3.1-cp310-cp310-manylinux_2_17_x86_64.manylinux2014_x86_64.whl (1.3 MB)\n",
            "\u001b[2K     \u001b[90m━━━━━━━━━━━━━━━━━━━━━━━━━━━━━━━━━━━━━━━━\u001b[0m \u001b[32m1.3/1.3 MB\u001b[0m \u001b[31m55.6 MB/s\u001b[0m eta \u001b[36m0:00:00\u001b[0m\n",
            "\u001b[?25hRequirement already satisfied: tqdm>=4.27 in /usr/local/lib/python3.10/dist-packages (from transformers) (4.65.0)\n",
            "Requirement already satisfied: fsspec in /usr/local/lib/python3.10/dist-packages (from huggingface-hub<1.0,>=0.14.1->transformers) (2023.6.0)\n",
            "Requirement already satisfied: typing-extensions>=3.7.4.3 in /usr/local/lib/python3.10/dist-packages (from huggingface-hub<1.0,>=0.14.1->transformers) (4.6.3)\n",
            "Requirement already satisfied: urllib3<1.27,>=1.21.1 in /usr/local/lib/python3.10/dist-packages (from requests->transformers) (1.26.16)\n",
            "Requirement already satisfied: certifi>=2017.4.17 in /usr/local/lib/python3.10/dist-packages (from requests->transformers) (2023.5.7)\n",
            "Requirement already satisfied: charset-normalizer~=2.0.0 in /usr/local/lib/python3.10/dist-packages (from requests->transformers) (2.0.12)\n",
            "Requirement already satisfied: idna<4,>=2.5 in /usr/local/lib/python3.10/dist-packages (from requests->transformers) (3.4)\n",
            "Installing collected packages: tokenizers, safetensors, huggingface-hub, transformers\n",
            "Successfully installed huggingface-hub-0.15.1 safetensors-0.3.1 tokenizers-0.13.3 transformers-4.30.2\n",
            "Looking in indexes: https://pypi.org/simple, https://us-python.pkg.dev/colab-wheels/public/simple/\n",
            "Collecting vncorenlp\n",
            "  Downloading vncorenlp-1.0.3.tar.gz (2.6 MB)\n",
            "\u001b[2K     \u001b[90m━━━━━━━━━━━━━━━━━━━━━━━━━━━━━━━━━━━━━━━━\u001b[0m \u001b[32m2.6/2.6 MB\u001b[0m \u001b[31m47.0 MB/s\u001b[0m eta \u001b[36m0:00:00\u001b[0m\n",
            "\u001b[?25h  Preparing metadata (setup.py) ... \u001b[?25l\u001b[?25hdone\n",
            "Requirement already satisfied: requests in /usr/local/lib/python3.10/dist-packages (from vncorenlp) (2.27.1)\n",
            "Requirement already satisfied: urllib3<1.27,>=1.21.1 in /usr/local/lib/python3.10/dist-packages (from requests->vncorenlp) (1.26.16)\n",
            "Requirement already satisfied: certifi>=2017.4.17 in /usr/local/lib/python3.10/dist-packages (from requests->vncorenlp) (2023.5.7)\n",
            "Requirement already satisfied: charset-normalizer~=2.0.0 in /usr/local/lib/python3.10/dist-packages (from requests->vncorenlp) (2.0.12)\n",
            "Requirement already satisfied: idna<4,>=2.5 in /usr/local/lib/python3.10/dist-packages (from requests->vncorenlp) (3.4)\n",
            "Building wheels for collected packages: vncorenlp\n",
            "  Building wheel for vncorenlp (setup.py) ... \u001b[?25l\u001b[?25hdone\n",
            "  Created wheel for vncorenlp: filename=vncorenlp-1.0.3-py3-none-any.whl size=2645933 sha256=0a3441e1ca581b5fec692da0a40162dc476099497ac581ce3631fcc125c3ea62\n",
            "  Stored in directory: /root/.cache/pip/wheels/5d/d9/b3/41f6c6b1ab758561fd4aab55dc0480b9d7a131c6aaa573a3fa\n",
            "Successfully built vncorenlp\n",
            "Installing collected packages: vncorenlp\n",
            "Successfully installed vncorenlp-1.0.3\n"
          ]
        }
      ],
      "source": [
        "!pip install underthesea\n",
        "!pip install transformers\n",
        "!pip install vncorenlp"
      ]
    },
    {
      "cell_type": "code",
      "source": [
        "!mkdir -p vncorenlp/models/wordsegmenter\n",
        "!wget https://raw.githubusercontent.com/vncorenlp/VnCoreNLP/master/VnCoreNLP-1.2.jar\n",
        "!wget https://raw.githubusercontent.com/vncorenlp/VnCoreNLP/master/models/wordsegmenter/vi-vocab\n",
        "!wget https://raw.githubusercontent.com/vncorenlp/VnCoreNLP/master/models/wordsegmenter/wordsegmenter.rdr\n",
        "!mv VnCoreNLP-1.2.jar vncorenlp/\n",
        "!mv vi-vocab vncorenlp/models/wordsegmenter/\n",
        "!mv wordsegmenter.rdr vncorenlp/models/wordsegmenter/\n"
      ],
      "metadata": {
        "colab": {
          "base_uri": "https://localhost:8080/"
        },
        "id": "8S-FhB2tsTo0",
        "outputId": "7160e554-d372-400e-d285-7ceae1e8f82b"
      },
      "execution_count": null,
      "outputs": [
        {
          "output_type": "stream",
          "name": "stdout",
          "text": [
            "--2023-06-27 10:06:40--  https://raw.githubusercontent.com/vncorenlp/VnCoreNLP/master/VnCoreNLP-1.2.jar\n",
            "Resolving raw.githubusercontent.com (raw.githubusercontent.com)... 185.199.111.133, 185.199.108.133, 185.199.109.133, ...\n",
            "Connecting to raw.githubusercontent.com (raw.githubusercontent.com)|185.199.111.133|:443... connected.\n",
            "HTTP request sent, awaiting response... 200 OK\n",
            "Length: 27412703 (26M) [application/octet-stream]\n",
            "Saving to: ‘VnCoreNLP-1.2.jar’\n",
            "\n",
            "VnCoreNLP-1.2.jar   100%[===================>]  26.14M  --.-KB/s    in 0.06s   \n",
            "\n",
            "2023-06-27 10:06:41 (419 MB/s) - ‘VnCoreNLP-1.2.jar’ saved [27412703/27412703]\n",
            "\n",
            "--2023-06-27 10:06:41--  https://raw.githubusercontent.com/vncorenlp/VnCoreNLP/master/models/wordsegmenter/vi-vocab\n",
            "Resolving raw.githubusercontent.com (raw.githubusercontent.com)... 185.199.108.133, 185.199.109.133, 185.199.110.133, ...\n",
            "Connecting to raw.githubusercontent.com (raw.githubusercontent.com)|185.199.108.133|:443... connected.\n",
            "HTTP request sent, awaiting response... 200 OK\n",
            "Length: 526544 (514K) [application/octet-stream]\n",
            "Saving to: ‘vi-vocab’\n",
            "\n",
            "vi-vocab            100%[===================>] 514.20K  --.-KB/s    in 0.01s   \n",
            "\n",
            "2023-06-27 10:06:41 (41.7 MB/s) - ‘vi-vocab’ saved [526544/526544]\n",
            "\n",
            "--2023-06-27 10:06:41--  https://raw.githubusercontent.com/vncorenlp/VnCoreNLP/master/models/wordsegmenter/wordsegmenter.rdr\n",
            "Resolving raw.githubusercontent.com (raw.githubusercontent.com)... 185.199.108.133, 185.199.109.133, 185.199.110.133, ...\n",
            "Connecting to raw.githubusercontent.com (raw.githubusercontent.com)|185.199.108.133|:443... connected.\n",
            "HTTP request sent, awaiting response... 200 OK\n",
            "Length: 128508 (125K) [text/plain]\n",
            "Saving to: ‘wordsegmenter.rdr’\n",
            "\n",
            "wordsegmenter.rdr   100%[===================>] 125.50K  --.-KB/s    in 0.004s  \n",
            "\n",
            "2023-06-27 10:06:42 (29.9 MB/s) - ‘wordsegmenter.rdr’ saved [128508/128508]\n",
            "\n"
          ]
        }
      ]
    },
    {
      "cell_type": "code",
      "execution_count": null,
      "metadata": {
        "id": "TnZSU3u3WQNP"
      },
      "outputs": [],
      "source": [
        "import pandas as pd\n",
        "import numpy as np\n",
        "import re\n",
        "from underthesea import word_tokenize,pos_tag\n",
        "# from pyvi import ViTokenizer, ViPosTagger\n",
        "import seaborn as sns\n",
        "from matplotlib import pyplot as plt\n",
        "from keras.utils import to_categorical,pad_sequences\n",
        "from vncorenlp import VnCoreNLP\n"
      ]
    },
    {
      "cell_type": "code",
      "execution_count": null,
      "metadata": {
        "id": "MvSR0aYqWQNZ"
      },
      "outputs": [],
      "source": [
        "from keras.initializers import Constant\n",
        "from keras.layers import Dense,Input,GlobalAveragePooling1D ,concatenate,Dropout,GRU,Bidirectional,TimeDistributed, Embedding, Attention, LSTM,Convolution1D,MaxPooling1D,Flatten,SpatialDropout1D,LeakyReLU,AveragePooling1D,MultiHeadAttention,GlobalMaxPooling1D,Dropout\n",
        "from keras.models import Model\n",
        "from keras.optimizers import Adamax,Adam\n",
        "from keras.losses import CategoricalCrossentropy,BinaryCrossentropy\n",
        "from keras.regularizers import L1,L2\n",
        "# from tensorflow_addons.layers import CRF\n",
        "# from tensorflow_addons.losses import SigmoidFocalCrossEntropy\n",
        "from keras.initializers import Orthogonal\n",
        "from keras.callbacks import EarlyStopping"
      ]
    },
    {
      "cell_type": "code",
      "execution_count": null,
      "metadata": {
        "id": "uRn50qQ6Qxwu"
      },
      "outputs": [],
      "source": [
        "from sklearn.metrics import classification_report,f1_score,precision_score,recall_score,classification_report\n"
      ]
    },
    {
      "cell_type": "code",
      "execution_count": null,
      "metadata": {
        "colab": {
          "base_uri": "https://localhost:8080/"
        },
        "id": "D6RPv9Wwe2Gx",
        "outputId": "0eb32e18-26ee-4e5f-9d37-e37236560f34"
      },
      "outputs": [
        {
          "output_type": "stream",
          "name": "stdout",
          "text": [
            "Looking in indexes: https://pypi.org/simple, https://us-python.pkg.dev/colab-wheels/public/simple/\n",
            "Collecting tensorflow-addons\n",
            "  Downloading tensorflow_addons-0.20.0-cp310-cp310-manylinux_2_17_x86_64.manylinux2014_x86_64.whl (591 kB)\n",
            "\u001b[2K     \u001b[90m━━━━━━━━━━━━━━━━━━━━━━━━━━━━━━━━━━━━━━\u001b[0m \u001b[32m591.0/591.0 kB\u001b[0m \u001b[31m13.4 MB/s\u001b[0m eta \u001b[36m0:00:00\u001b[0m\n",
            "\u001b[?25hRequirement already satisfied: packaging in /usr/local/lib/python3.10/dist-packages (from tensorflow-addons) (23.1)\n",
            "Collecting typeguard<3.0.0,>=2.7 (from tensorflow-addons)\n",
            "  Downloading typeguard-2.13.3-py3-none-any.whl (17 kB)\n",
            "Installing collected packages: typeguard, tensorflow-addons\n",
            "Successfully installed tensorflow-addons-0.20.0 typeguard-2.13.3\n"
          ]
        }
      ],
      "source": [
        "!pip install tensorflow-addons"
      ]
    },
    {
      "cell_type": "code",
      "source": [
        "PRETRAINED_MODEL = \"vinai/phobert-base\"\n",
        "SEP = \"</s>\"\n",
        "MAX_LEN = 256\n",
        "BATCH_SIZE = 8"
      ],
      "metadata": {
        "id": "005y5lWMvx2D"
      },
      "execution_count": null,
      "outputs": []
    },
    {
      "cell_type": "markdown",
      "metadata": {
        "id": "Xtv9WGHCqB6E"
      },
      "source": [
        "# LOAD DATA"
      ]
    },
    {
      "cell_type": "markdown",
      "metadata": {
        "id": "U1pBDQ41qKmc"
      },
      "source": [
        "## PREPROCESSING"
      ]
    },
    {
      "cell_type": "code",
      "execution_count": null,
      "metadata": {
        "id": "57n408h6WQNQ"
      },
      "outputs": [],
      "source": [
        "class TextNormalize:\n",
        "    def __init__(self):\n",
        "        self.vowels_to_ids = {}\n",
        "        self.vowels_table = [\n",
        "            ['a', 'à', 'á', 'ả', 'ã', 'ạ', 'a' ],\n",
        "            ['ă', 'ằ', 'ắ', 'ẳ', 'ẵ', 'ặ', 'aw'],\n",
        "            ['â', 'ầ', 'ấ', 'ẩ', 'ẫ', 'ậ', 'aa'],\n",
        "            ['e', 'è', 'é', 'ẻ', 'ẽ', 'ẹ', 'e' ],\n",
        "            ['ê', 'ề', 'ế', 'ể', 'ễ', 'ệ', 'ee'],\n",
        "            ['i', 'ì', 'í', 'ỉ', 'ĩ', 'ị', 'i' ],\n",
        "            ['o', 'ò', 'ó', 'ỏ', 'õ', 'ọ', 'o' ],\n",
        "            ['ô', 'ồ', 'ố', 'ổ', 'ỗ', 'ộ', 'o'],\n",
        "            ['ơ', 'ờ', 'ớ', 'ở', 'ỡ', 'ợ', 'ow'],\n",
        "            ['u', 'ù', 'ú', 'ủ', 'ũ', 'ụ', 'u' ],\n",
        "            ['ư', 'ừ', 'ứ', 'ử', 'ữ', 'ự', 'uw'],\n",
        "            ['y', 'ỳ', 'ý', 'ỷ', 'ỹ', 'ỵ', 'y' ]\n",
        "        ]\n",
        "        pass\n",
        "\n",
        "    def createVowelsTable(self):\n",
        "        \"\"\"Create Vowels Table\"\"\"\n",
        "        for i in range(len(self.vowels_table)):\n",
        "            for j in range(len(self.vowels_table[i]) - 1):\n",
        "                self.vowels_to_ids[self.vowels_table[i][j]] = (i, j)\n",
        "\n",
        "    def IsValidVietnameseWord(self,word):\n",
        "        \"\"\"Nguyên âm chỉ có thể đứng chung với nguyên âm. Một từ không thể có 2 nguyên âm cách nhau bởi 1 phụ âm\"\"\"\n",
        "        chars = list(word)\n",
        "        #nguyen am\n",
        "        vowel_index = -1\n",
        "        for i in range(len(chars)):\n",
        "            idx_vowel_table = self.vowels_to_ids.get(chars[i],(-1,-1))[0]\n",
        "            if idx_vowel_table != -1:\n",
        "                if vowel_index == -1:\n",
        "                    vowel_index = i\n",
        "                else:\n",
        "                    if i - vowel_index != 1:\n",
        "                        return False\n",
        "                    vowel_index = i\n",
        "        return True\n",
        "\n",
        "    def WordStandardized(self,word):\n",
        "        \"\"\"Standardize Word\"\"\"\n",
        "        if not self.IsValidVietnameseWord(word):\n",
        "            return word\n",
        "\n",
        "        chars = list(word)\n",
        "        vowel_indexes = []\n",
        "\n",
        "        # tìm vị trí nguyên âm\n",
        "        qu_or_gi = False\n",
        "        thanh_dieu = 0\n",
        "        for i in range(len(chars)):\n",
        "            vowel_table_row, vowel_table_col = self.vowels_to_ids.get(chars[i],(-1,-1))\n",
        "            if vowel_table_row == -1 :\n",
        "                continue\n",
        "            # qu\n",
        "            if vowel_table_row == 9:\n",
        "                if i != 0 and chars[i-1] == 'q':\n",
        "                    chars[i] = 'u'\n",
        "                    qu_or_gi = True\n",
        "            # gi\n",
        "            elif vowel_table_row == 5:\n",
        "                if i != 0 and chars[i-1] == 'g':\n",
        "                    chars[i] = 'i'\n",
        "                    qu_or_gi = True\n",
        "\n",
        "            # có chứa thanh điệu\n",
        "            if vowel_table_col != 0:\n",
        "                thanh_dieu = vowel_table_col\n",
        "                chars[i] = self.vowels_table[vowel_table_row][0]\n",
        "\n",
        "            vowel_indexes.append(i)\n",
        "        # 1 nguyên âm\n",
        "        if len(vowel_indexes) == 1:\n",
        "            c = chars[vowel_indexes[0]]\n",
        "            chars[vowel_indexes[0]] = self.vowels_table[self.vowels_to_ids[c][0]][thanh_dieu]\n",
        "            return ''.join(chars)\n",
        "\n",
        "        for idx_vowel in vowel_indexes:\n",
        "            vowel_table_row, vowel_table_col = self.vowels_to_ids.get(chars[idx_vowel],(-1,-1))\n",
        "            #ê, ơ, ô\n",
        "            if vowel_table_row == 4 or vowel_table_row == 7 or vowel_table_row == 8:\n",
        "                c = chars[idx_vowel]\n",
        "                chars[idx_vowel] = self.vowels_table[self.vowels_to_ids[c][0]][thanh_dieu]\n",
        "                return ''.join(chars)\n",
        "\n",
        "            # kiểm tra qu và gi, 2-3 nguyên âm thì nguyên âm thứ 2 chứa dấu\n",
        "            if qu_or_gi:\n",
        "                if len(vowel_indexes) == 2 or len(vowel_indexes) == 3:\n",
        "                    c = chars[vowel_indexes[1]]\n",
        "                    chars[vowel_indexes[1]] = self.vowels_table[self.vowels_to_ids[c][0]][thanh_dieu]\n",
        "                return ''.join(chars)\n",
        "\n",
        "            # 2 nguyên âm\n",
        "            if len(vowel_indexes) == 2:\n",
        "                # âm cuối là nguyên âm\n",
        "                if vowel_indexes[-1] == len(chars) - 1:\n",
        "                    c = chars[vowel_indexes[0]]\n",
        "                    chars[vowel_indexes[0]] = self.vowels_table[self.vowels_to_ids[c][0]][thanh_dieu]\n",
        "                else:\n",
        "                    c = chars[vowel_indexes[-1]]\n",
        "                    chars[vowel_indexes[-1]] = self.vowels_table[self.vowels_to_ids[c][0]][thanh_dieu]\n",
        "                return ''.join(chars)\n",
        "\n",
        "            elif len(vowel_indexes) == 3:\n",
        "                # âm cuối là nguyên âm\n",
        "                if vowel_indexes[-1] == len(chars) - 1:\n",
        "                    c = chars[vowel_indexes[1]]\n",
        "                    chars[vowel_indexes[1]] = self.vowels_table[self.vowels_to_ids[c][0]][thanh_dieu]\n",
        "                else:\n",
        "                    c = chars[vowel_indexes[-1]]\n",
        "                    chars[vowel_indexes[-1]] = self.vowels_table[self.vowels_to_ids[c][0]][thanh_dieu]\n",
        "                return ''.join(chars)\n",
        "\n",
        "        return ''.join(chars)\n",
        "\n",
        "    def normalize(self,text):\n",
        "\n",
        "        #Chuyen sang viet thuong\n",
        "        text = text.lower()\n",
        "\n",
        "        # Rút gọn từ kéo dài\n",
        "        text = re.sub(r'(\\w)\\1+',r'\\1',text)\n",
        "\n",
        "        # xóa các emoji dư thừa\n",
        "        emoji_pattern = re.compile(\"[\"\n",
        "            u\"\\U0001F600-\\U0001F64F\"  # emoticons\n",
        "            u\"\\U0001F300-\\U0001F5FF\"  # symbols & pictographs\n",
        "            u\"\\U0001F680-\\U0001F6FF\"  # transport & map symbols\n",
        "            u\"\\U0001F1E0-\\U0001F1FF\"  # flags (iOS)\n",
        "                            \"]+\", flags=re.UNICODE)\n",
        "        text = emoji_pattern.sub(r'',text) # no emoji\n",
        "\n",
        "        text = text.split()\n",
        "        # chuẩn hóa thanh điệu\n",
        "        for i in range(len(text)):\n",
        "            text[i] = self.WordStandardized(text[i])\n",
        "\n",
        "        text = ' '.join(text)\n",
        "\n",
        "        # xóa space d\n",
        "        text = re.sub(r\"( )\\1+\",r'\\1',text)\n",
        "        text = re.sub(r\"[:)^@!`~%;?(\\+\\-\\'\\\"]+\",r'',text)\n",
        "\n",
        "        # remove hastag\n",
        "        text = re.sub(\"(@[A-Za-z0-9]+)|(#[0-9A-Za-z]+)\",\" \", text)\n",
        "        return text"
      ]
    },
    {
      "cell_type": "code",
      "source": [
        "def convert_unicode(text):\n",
        "  char1252 = 'à|á|ả|ã|ạ|ầ|ấ|ẩ|ẫ|ậ|ằ|ắ|ẳ|ẵ|ặ|è|é|ẻ|ẽ|ẹ|ề|ế|ể|ễ|ệ|ì|í|ỉ|ĩ|ị|ò|ó|ỏ|õ|ọ|ồ|ố|ổ|ỗ|ộ|ờ|ớ|ở|ỡ|ợ|ù|ú|ủ|ũ|ụ|ừ|ứ|ử|ữ|ự|ỳ|ý|ỷ|ỹ|ỵ|À|Á|Ả|Ã|Ạ|Ầ|Ấ|Ẩ|Ẫ|Ậ|Ằ|Ắ|Ẳ|Ẵ|Ặ|È|É|Ẻ|Ẽ|Ẹ|Ề|Ế|Ể|Ễ|Ệ|Ì|Í|Ỉ|Ĩ|Ị|Ò|Ó|Ỏ|Õ|Ọ|Ồ|Ố|Ổ|Ỗ|Ộ|Ờ|Ớ|Ở|Ỡ|Ợ|Ù|Ú|Ủ|Ũ|Ụ|Ừ|Ứ|Ử|Ữ|Ự|Ỳ|Ý|Ỷ|Ỹ|Ỵ'\n",
        "  charutf8 = 'à|á|ả|ã|ạ|ầ|ấ|ẩ|ẫ|ậ|ằ|ắ|ẳ|ẵ|ặ|è|é|ẻ|ẽ|ẹ|ề|ế|ể|ễ|ệ|ì|í|ỉ|ĩ|ị|ò|ó|ỏ|õ|ọ|ồ|ố|ổ|ỗ|ộ|ờ|ớ|ở|ỡ|ợ|ù|ú|ủ|ũ|ụ|ừ|ứ|ử|ữ|ự|ỳ|ý|ỷ|ỹ|ỵ|À|Á|Ả|Ã|Ạ|Ầ|Ấ|Ẩ|Ẫ|Ậ|Ằ|Ắ|Ẳ|Ẵ|Ặ|È|É|Ẻ|Ẽ|Ẹ|Ề|Ế|Ể|Ễ|Ệ|Ì|Í|Ỉ|Ĩ|Ị|Ò|Ó|Ỏ|Õ|Ọ|Ồ|Ố|Ổ|Ỗ|Ộ|Ờ|Ớ|Ở|Ỡ|Ợ|Ù|Ú|Ủ|Ũ|Ụ|Ừ|Ứ|Ử|Ữ|Ự|Ỳ|Ý|Ỷ|Ỹ|Ỵ'\n",
        "  char1252 = char1252.split('|')\n",
        "  charutf8 = charutf8.split('|')\n",
        "\n",
        "  dic = {}\n",
        "  for i in range(len(char1252)): dic[char1252[i]] = charutf8[i]\n",
        "  return re.sub(\n",
        "      r'à|á|ả|ã|ạ|ầ|ấ|ẩ|ẫ|ậ|ằ|ắ|ẳ|ẵ|ặ|è|é|ẻ|ẽ|ẹ|ề|ế|ể|ễ|ệ|ì|í|ỉ|ĩ|ị|ò|ó|ỏ|õ|ọ|ồ|ố|ổ|ỗ|ộ|ờ|ớ|ở|ỡ|ợ|ù|ú|ủ|ũ|ụ|ừ|ứ|ử|ữ|ự|ỳ|ý|ỷ|ỹ|ỵ|À|Á|Ả|Ã|Ạ|Ầ|Ấ|Ẩ|Ẫ|Ậ|Ằ|Ắ|Ẳ|Ẵ|Ặ|È|É|Ẻ|Ẽ|Ẹ|Ề|Ế|Ể|Ễ|Ệ|Ì|Í|Ỉ|Ĩ|Ị|Ò|Ó|Ỏ|Õ|Ọ|Ồ|Ố|Ổ|Ỗ|Ộ|Ờ|Ớ|Ở|Ỡ|Ợ|Ù|Ú|Ủ|Ũ|Ụ|Ừ|Ứ|Ử|Ữ|Ự|Ỳ|Ý|Ỷ|Ỹ|Ỵ',\n",
        "      lambda x: dic[x.group()], text\n",
        ")\n"
      ],
      "metadata": {
        "id": "4k1gPFGvtxsY"
      },
      "execution_count": null,
      "outputs": []
    },
    {
      "cell_type": "code",
      "execution_count": null,
      "metadata": {
        "id": "5vB8aZGNWQNS"
      },
      "outputs": [],
      "source": [
        "class LoadData():\n",
        "    def __init__(self, file_path):\n",
        "        self.file_path = file_path\n",
        "\n",
        "        self.data = pd.read_json(file_path, lines = True)\n",
        "        # self.data = self.data.dropna()\n",
        "        self.X = []\n",
        "        self.y = []\n",
        "    def transform(self,x,label):\n",
        "        y = []\n",
        "        if len(label) == 0:\n",
        "          return x,np.array([\"O\" for i in range(len(x.split()))])\n",
        "\n",
        "        first_index = label[:,0].astype(int)\n",
        "        second_index = label[:,1].astype(int)\n",
        "        asp_cate_pola = label[:,2]\n",
        "        s = 0\n",
        "        a = \"\"\n",
        "        # chay tu s -> first, cap nhat s\n",
        "        for i in range(len(label)):\n",
        "\n",
        "            front = x[s:first_index[i]]\n",
        "            # print(first_index[i],second_index[i])\n",
        "            middle = x[first_index[i]:second_index[i]]\n",
        "            # print(x)\n",
        "            # print(middle)\n",
        "            s = second_index[i]\n",
        "\n",
        "            a += front + \" \" + middle + \" \"\n",
        "            y.extend([\"O\" for i in range(len(front.split()))])\n",
        "            y.extend([f\"B-{asp_cate_pola[i]}\" if j == 0 else f\"I-{asp_cate_pola[i]}\" for j in range(len(middle.split()))])\n",
        "\n",
        "        if s != len(x):\n",
        "            a+= x[s:]\n",
        "            y.extend([\"O\" for i in range(len(x[s:].split()))])\n",
        "\n",
        "        # print(a)\n",
        "        # for k, v in zip(a.split(),y):\n",
        "        #     print(k,\"=>\",v)\n",
        "        return a,np.array(y)\n",
        "\n",
        "    def ExtractAspectTermPosition(self,span_labels):\n",
        "        labels = []\n",
        "        # print(aspectTerms)\n",
        "        for ls in span_labels:\n",
        "            start = ls[0]\n",
        "            end = ls[1]\n",
        "            asp_cate_pola = ls[2]\n",
        "\n",
        "            labels.append([int(start),int(end), asp_cate_pola])\n",
        "        return np.array(sorted(labels,key = lambda x: x[0]))\n",
        "\n",
        "    def load(self,):\n",
        "        _len = len(self.data)\n",
        "        for i in range(_len):\n",
        "            x = self.data.iloc[i,1].strip() #text\n",
        "            if len(x.split(\" \")) > 273:\n",
        "              continue\n",
        "            span_labels = self.data.iloc[i,2] #label\n",
        "            span_labels = np.array(sorted(span_labels,key = lambda x: x[0]))\n",
        "\n",
        "            x,y = self.transform(x,span_labels)\n",
        "            self.X.append(convert_unicode(x))\n",
        "            self.y.append(y)\n",
        "\n",
        "        return self.X,self.y"
      ]
    },
    {
      "cell_type": "markdown",
      "metadata": {
        "id": "1eqhj7MKqOal"
      },
      "source": [
        "## READ DATA"
      ]
    },
    {
      "cell_type": "code",
      "execution_count": null,
      "metadata": {
        "id": "_mQToL2aWQNS"
      },
      "outputs": [],
      "source": [
        "X_train,y_train = LoadData(\"/content/drive/MyDrive/deep/data/train_data.txt\").load()\n",
        "X_val, y_val = LoadData(\"/content/drive/MyDrive/deep/data/val_data.txt\").load()\n",
        "X_test, y_test = LoadData(\"/content/drive/MyDrive/deep/data/test_data.txt\").load()"
      ]
    },
    {
      "cell_type": "code",
      "execution_count": null,
      "metadata": {
        "colab": {
          "base_uri": "https://localhost:8080/",
          "height": 1000
        },
        "id": "2W0R8kXjWQNU",
        "outputId": "fab0710d-9524-4521-d867-f9f310d9ae83"
      },
      "outputs": [
        {
          "output_type": "execute_result",
          "data": {
            "text/plain": [
              "<Axes: ylabel='Count'>"
            ]
          },
          "metadata": {},
          "execution_count": 13
        },
        {
          "output_type": "display_data",
          "data": {
            "text/plain": [
              "<Figure size 1500x1500 with 1 Axes>"
            ],
            "image/png": "[encoded data removed]"
          },
          "metadata": {}
        }
      ],
      "source": [
        "temp = []\n",
        "for k in X_train:\n",
        "    k = k.split()\n",
        "    temp.append(len(k))\n",
        "plt.figure(figsize = (15,15))\n",
        "sns.histplot(temp)"
      ]
    },
    {
      "cell_type": "code",
      "execution_count": null,
      "metadata": {
        "id": "BbztYOhdWQNV"
      },
      "outputs": [],
      "source": [
        "from keras.preprocessing.text import Tokenizer\n",
        "from keras.utils import pad_sequences"
      ]
    },
    {
      "cell_type": "markdown",
      "source": [
        "## Word Segmentation\n"
      ],
      "metadata": {
        "id": "-xhfc9QdvjK2"
      }
    },
    {
      "cell_type": "code",
      "source": [
        "class AlignLabel():\n",
        "  def __init__(self):\n",
        "    pass\n",
        "  def Convert2LabelPosition(self,label):\n",
        "    labels_position = []\n",
        "    lst_first_pos = np.array([i if \"B-\" in v else -1 for i,v in enumerate(label)])\n",
        "    lst_first_pos = np.argwhere(lst_first_pos != -1).reshape(1,-1)[0]\n",
        "    for i in range(len(lst_first_pos)):\n",
        "      # if i reach last pos: label range should be (i,len(label))\n",
        "      last_pos = lst_first_pos[i]\n",
        "      if i == len(lst_first_pos) - 1:\n",
        "        for j in range(lst_first_pos[i],len(label)):\n",
        "          if \"I-\" in label[j]:\n",
        "            last_pos = j\n",
        "      else:\n",
        "        for j in range(lst_first_pos[i],lst_first_pos[i+1]):\n",
        "          if \"I-\" in label[j]:\n",
        "            last_pos = j\n",
        "      labels_position.append([lst_first_pos[i],last_pos,label[lst_first_pos[i]]])\n",
        "\n",
        "    return np.array(labels_position)\n",
        "\n",
        "  def segment_and_alignLabel(self,x,y,tokenizer, SEP):\n",
        "    def segment_and_addSEP(seg,ismid):\n",
        "      seg = tokenizer.tokenize(seg)\n",
        "      seg = [\" \".join(s) for s in seg]\n",
        "      seg = \" \".join(seg)\n",
        "      return seg\n",
        "\n",
        "\n",
        "    y_new = []\n",
        "    label = self.Convert2LabelPosition(y)\n",
        "    preprocess = TextNormalize()\n",
        "\n",
        "    if len(label) == 0:\n",
        "      x_temp = preprocess.normalize(x)\n",
        "      x_temp = segment_and_addSEP(x_temp,False)\n",
        "      x_temp = \" \".join(x_temp.split())\n",
        "      y_new = [\"O\" for i in range(len(x_temp.split()))]\n",
        "      return  [x_temp,np.array(y_new)]\n",
        "\n",
        "    first_index = label[:,0].astype(int)\n",
        "    second_index = label[:,1].astype(int)\n",
        "    asp_cate_pola = label[:,2]\n",
        "    s = 0\n",
        "    a = \"\"\n",
        "    x = x.split()\n",
        "    for i in range(len(label)):\n",
        "        front = \" \".join(x[s:first_index[i]])\n",
        "        if first_index[i] == second_index[i]:\n",
        "          middle = x[first_index[i]]\n",
        "          s = second_index[i] + 1\n",
        "        else:\n",
        "          middle = \" \".join(x[first_index[i]:second_index[i]+1])\n",
        "          s = second_index[i]+1\n",
        "\n",
        "        front = preprocess.normalize(front)\n",
        "        middle = preprocess.normalize(middle)\n",
        "\n",
        "        front = segment_and_addSEP(front,False)\n",
        "        middle = segment_and_addSEP(middle,True )\n",
        "\n",
        "        a += front + \" \" + middle + \" \"\n",
        "        y_new.extend([\"O\" for i in range(len(front.split()))])\n",
        "\n",
        "        if first_index[i] == second_index[i]:\n",
        "          y_new.extend([f\"B-{asp_cate_pola[i][2:]}\"])\n",
        "        else:\n",
        "          y_new.extend([f\"B-{asp_cate_pola[i][2:]}\" if j == 0 else f\"I-{asp_cate_pola[i][2:]}\" for j in range(len(middle.split(\" \")))])\n",
        "\n",
        "    if s != len(x):\n",
        "        enc = \" \".join(x[s:])\n",
        "        enc = preprocess.normalize(enc)\n",
        "        enc = segment_and_addSEP(enc,False)\n",
        "        a+= enc\n",
        "        y_new.extend([\"O\" for i in range(len(enc.split()))])\n",
        "\n",
        "    a = \" \".join(a.split())\n",
        "    return [a,np.array(y_new)]\n",
        "\n",
        "  def tokenize_and_alignlabel(self,x,y,tag2idx,tokenizer):\n",
        "    x = x.strip().split(\" \")\n",
        "    y_position = self.Convert2LabelPosition(y)\n",
        "    if len(y_position) == 0:\n",
        "      return np.zeros(MAX_LEN)\n",
        "\n",
        "    first_index = y_position[:,0].astype(int)\n",
        "    second_index = y_position[:,1].astype(int)\n",
        "    asp_cate_pola = y_position[:,2]\n",
        "    y_new = np.zeros(MAX_LEN)\n",
        "    x_tokenize = []\n",
        "    s = 0\n",
        "    pre_len = 0\n",
        "    y_position = 1\n",
        "    for i in range(len(first_index)):\n",
        "      front_len = len(tokenizer(\" \".join(x[s:first_index[i]]),add_special_tokens = False)['input_ids'])\n",
        "      y_new[y_position:y_position + front_len] = tag2idx[\"O\"]\n",
        "      y_position += front_len\n",
        "\n",
        "      if first_index[i] == second_index[i]:\n",
        "        words = tokenizer(x[first_index[i]],add_special_tokens = False)['input_ids']\n",
        "        s = second_index[i] + 1\n",
        "        # print(x[first_index[i]])\n",
        "\n",
        "      else:\n",
        "        # print(x[first_index[i]:second_index[i]+1],)\n",
        "        words = tokenizer(\" \".join(x[first_index[i]:second_index[i]+1]),add_special_tokens = False)['input_ids']\n",
        "        s = second_index[i] + 1\n",
        "      y_new[y_position] = tag2idx[f'B-{asp_cate_pola[i][2:]}']\n",
        "      # print(words)\n",
        "      if len(words) >= 2:\n",
        "        y_new[y_position+1:y_position+1+len(words)-1] = tag2idx[f'I-{asp_cate_pola[i][2:]}'] # skip B-name position, subtract -1 because len(words) contain B-name\n",
        "\n",
        "      y_position += len(words)\n",
        "\n",
        "    tokenize_last_sents = tokenizer(\" \".join(x[s:]),add_special_tokens = False)['input_ids']\n",
        "    y_new[y_position:y_position + len(tokenize_last_sents) + 1] = tag2idx[\"O\"]\n",
        "\n",
        "    end_sep_position = y_position  + len(tokenizer(\" \".join(x[s:])))\n",
        "\n",
        "    y_new[0] = tag2idx['O']\n",
        "    y_new[end_sep_position ] = tag2idx['O']\n",
        "\n",
        "    return y_new\n",
        "\n",
        "  def transform(self,x_raw,y_raw,rdrsegmenter,SEP):\n",
        "    X = []\n",
        "    Y = []\n",
        "    for i in range(len(x_raw)):\n",
        "      x, y = self.segment_and_alignLabel(x_raw[i],y_raw[i],rdrsegmenter,SEP)\n",
        "      X.append(x)\n",
        "      Y.append(y)\n",
        "    X = np.asarray(X)\n",
        "    Y = np.asarray(Y)\n",
        "    return X,Y"
      ],
      "metadata": {
        "id": "tWxlr8OKvmjD"
      },
      "execution_count": null,
      "outputs": []
    },
    {
      "cell_type": "code",
      "source": [
        "from vncorenlp import VnCoreNLP\n",
        "rdrsegmenter = VnCoreNLP(\"vncorenlp/VnCoreNLP-1.2.jar\", annotators=\"wseg\", max_heap_size='-Xmx500m')\n"
      ],
      "metadata": {
        "id": "RvTZahQdvoNo"
      },
      "execution_count": null,
      "outputs": []
    },
    {
      "cell_type": "code",
      "source": [
        "align_label = AlignLabel()\n",
        "X_train, y_train = align_label.transform(X_train,y_train,rdrsegmenter,SEP)\n",
        "X_val, y_val = align_label.transform(X_val,y_val,rdrsegmenter,SEP)\n",
        "X_test, y_test = align_label.transform(X_test,y_test,rdrsegmenter,SEP)"
      ],
      "metadata": {
        "colab": {
          "base_uri": "https://localhost:8080/"
        },
        "id": "jKLJykJ8voLz",
        "outputId": "7efac2b5-d369-4a67-c987-2b13a5ef1e3c"
      },
      "execution_count": null,
      "outputs": [
        {
          "output_type": "stream",
          "name": "stderr",
          "text": [
            "<ipython-input-15-5b2f9248f4ed>:134: VisibleDeprecationWarning: Creating an ndarray from ragged nested sequences (which is a list-or-tuple of lists-or-tuples-or ndarrays with different lengths or shapes) is deprecated. If you meant to do this, you must specify 'dtype=object' when creating the ndarray.\n",
            "  Y = np.asarray(Y)\n"
          ]
        }
      ]
    },
    {
      "cell_type": "markdown",
      "metadata": {
        "id": "flESI-3jx9ht"
      },
      "source": [
        "# Embedding"
      ]
    },
    {
      "cell_type": "markdown",
      "metadata": {
        "id": "QFOn7UJnqXuV"
      },
      "source": [
        "## WORD EMBEDDING"
      ]
    },
    {
      "cell_type": "code",
      "execution_count": null,
      "metadata": {
        "id": "S4xNfYY_yA89"
      },
      "outputs": [],
      "source": [
        "f= open('/content/drive/MyDrive/deep/word2vec_vi_words_100dims.txt','r',encoding='utf-8')\n",
        "words = []\n",
        "embedding_words = {}\n",
        "\n",
        "i = 0\n",
        "for line in f:\n",
        "  if i == 0:\n",
        "    i+= 1\n",
        "    continue\n",
        "  value = line.split(' ')\n",
        "  word = value[0]\n",
        "  words.append(word)\n",
        "  try:\n",
        "    coefs = value[1:]\n",
        "    embedding_words[word] = np.asarray(coefs,dtype=np.float32)\n",
        "  except:\n",
        "    pass\n"
      ]
    },
    {
      "cell_type": "code",
      "execution_count": null,
      "metadata": {
        "id": "ZpiE46G5zZmy"
      },
      "outputs": [],
      "source": [
        "embedding_dim = 100"
      ]
    },
    {
      "cell_type": "code",
      "execution_count": null,
      "metadata": {
        "id": "55kUaj3c1zjQ"
      },
      "outputs": [],
      "source": [
        "num_word = len(words)"
      ]
    },
    {
      "cell_type": "code",
      "execution_count": null,
      "metadata": {
        "id": "LRLn00iX2_WQ"
      },
      "outputs": [],
      "source": [
        "word2idx = {w:i for i,w in enumerate(words,start = 2)}\n",
        "word2idx['PAD'] = 0\n",
        "word2idx['UNK'] = 1"
      ]
    },
    {
      "cell_type": "code",
      "execution_count": null,
      "metadata": {
        "id": "28zEf0u1WQNX"
      },
      "outputs": [],
      "source": [
        "idx2word = {i:w for w,i in word2idx.items()}"
      ]
    },
    {
      "cell_type": "code",
      "execution_count": null,
      "metadata": {
        "colab": {
          "base_uri": "https://localhost:8080/"
        },
        "id": "5ydC4P-GWQNX",
        "outputId": "d2c39947-c095-4c30-bf4e-8dc3c559f9a7"
      },
      "outputs": [
        {
          "output_type": "execute_result",
          "data": {
            "text/plain": [
              "array(['GENERAL#POSITIVE', 'GENERAL#NEUTRAL', 'GENERAL#NEGATIVE',\n",
              "       'DISPLAY#POSITIVE', 'DISPLAY#NEUTRAL', 'DISPLAY#NEGATIVE',\n",
              "       'BATTERY#POSITIVE', 'BATTERY#NEUTRAL', 'BATTERY#NEGATIVE',\n",
              "       'TOUCHPAD#POSITIVE', 'TOUCHPAD#NEUTRAL', 'TOUCHPAD#NEGATIVE',\n",
              "       'KEYBOARD#POSITIVE', 'KEYBOARD#NEUTRAL', 'KEYBOARD#NEGATIVE',\n",
              "       'SERVICE#POSITIVE', 'SERVICE#NEUTRAL', 'SERVICE#NEGATIVE',\n",
              "       'WARRATY#POSITIVE', 'WARRATY#NEUTRAL', 'WARRATY#NEGATIVE',\n",
              "       'STORAGE#POSITIVE', 'STORAGE#NEUTRAL', 'STORAGE#NEGATIVE',\n",
              "       'CONNECTIVITY#POSITIVE', 'CONNECTIVITY#NEUTRAL',\n",
              "       'CONNECTIVITY#NEGATIVE', 'MULTIMEDIA_DEVICES#POSITIVE',\n",
              "       'MULTIMEDIA_DEVICES#NEUTRAL', 'MULTIMEDIA_DEVICES#NEGATIVE',\n",
              "       'DESIGN#POSITIVE', 'DESIGN#NEUTRAL', 'DESIGN#NEGATIVE',\n",
              "       'FANS_COOLING#POSITIVE', 'FANS_COOLING#NEUTRAL',\n",
              "       'FANS_COOLING#NEGATIVE', 'PERFORMANCE#POSITIVE',\n",
              "       'PERFORMANCE#NEUTRAL', 'PERFORMANCE#NEGATIVE', 'PRICE#POSITIVE',\n",
              "       'PRICE#NEUTRAL', 'PRICE#NEGATIVE', 'FEATURES#POSITIVE',\n",
              "       'FEATURES#NEUTRAL', 'FEATURES#NEGATIVE'], dtype=object)"
            ]
          },
          "metadata": {},
          "execution_count": 23
        }
      ],
      "source": [
        "with open(\"/content/drive/MyDrive/deep/data/label.txt\",encoding = 'utf-8') as f:\n",
        "    la = f.readlines()\n",
        "\n",
        "for i in range(len(la)):\n",
        "   la[i] = la[i].strip(\"\\n\")\n",
        "la = np.array(la,dtype='object')\n",
        "la"
      ]
    },
    {
      "cell_type": "code",
      "execution_count": null,
      "metadata": {
        "id": "byKtmP9MWQNX"
      },
      "outputs": [],
      "source": [
        "bi = \"B-\" + la\n",
        "ii = \"I-\" + la"
      ]
    },
    {
      "cell_type": "code",
      "execution_count": null,
      "metadata": {
        "colab": {
          "base_uri": "https://localhost:8080/"
        },
        "id": "sXeKdjmwWQNX",
        "outputId": "0dd5a352-91f1-4ba3-93ff-c8c7db88b830"
      },
      "outputs": [
        {
          "output_type": "execute_result",
          "data": {
            "text/plain": [
              "array(['B-GENERAL#POSITIVE', 'B-GENERAL#NEUTRAL', 'B-GENERAL#NEGATIVE',\n",
              "       'B-DISPLAY#POSITIVE', 'B-DISPLAY#NEUTRAL', 'B-DISPLAY#NEGATIVE',\n",
              "       'B-BATTERY#POSITIVE', 'B-BATTERY#NEUTRAL', 'B-BATTERY#NEGATIVE',\n",
              "       'B-TOUCHPAD#POSITIVE', 'B-TOUCHPAD#NEUTRAL', 'B-TOUCHPAD#NEGATIVE',\n",
              "       'B-KEYBOARD#POSITIVE', 'B-KEYBOARD#NEUTRAL', 'B-KEYBOARD#NEGATIVE',\n",
              "       'B-SERVICE#POSITIVE', 'B-SERVICE#NEUTRAL', 'B-SERVICE#NEGATIVE',\n",
              "       'B-WARRATY#POSITIVE', 'B-WARRATY#NEUTRAL', 'B-WARRATY#NEGATIVE',\n",
              "       'B-STORAGE#POSITIVE', 'B-STORAGE#NEUTRAL', 'B-STORAGE#NEGATIVE',\n",
              "       'B-CONNECTIVITY#POSITIVE', 'B-CONNECTIVITY#NEUTRAL',\n",
              "       'B-CONNECTIVITY#NEGATIVE', 'B-MULTIMEDIA_DEVICES#POSITIVE',\n",
              "       'B-MULTIMEDIA_DEVICES#NEUTRAL', 'B-MULTIMEDIA_DEVICES#NEGATIVE',\n",
              "       'B-DESIGN#POSITIVE', 'B-DESIGN#NEUTRAL', 'B-DESIGN#NEGATIVE',\n",
              "       'B-FANS_COOLING#POSITIVE', 'B-FANS_COOLING#NEUTRAL',\n",
              "       'B-FANS_COOLING#NEGATIVE', 'B-PERFORMANCE#POSITIVE',\n",
              "       'B-PERFORMANCE#NEUTRAL', 'B-PERFORMANCE#NEGATIVE',\n",
              "       'B-PRICE#POSITIVE', 'B-PRICE#NEUTRAL', 'B-PRICE#NEGATIVE',\n",
              "       'B-FEATURES#POSITIVE', 'B-FEATURES#NEUTRAL', 'B-FEATURES#NEGATIVE'],\n",
              "      dtype=object)"
            ]
          },
          "metadata": {},
          "execution_count": 25
        }
      ],
      "source": [
        "bi"
      ]
    },
    {
      "cell_type": "code",
      "execution_count": null,
      "metadata": {
        "id": "c2GU3tMnWQNY"
      },
      "outputs": [],
      "source": [
        "tags = np.append(np.append(bi,ii),\"O\")\n",
        "tag2idx = {t:i+1 for i,t in enumerate(tags)}\n",
        "tag2idx[\"PAD\"] = 0\n",
        "idx2tag = {i:t for t,i in tag2idx.items()}"
      ]
    },
    {
      "cell_type": "code",
      "execution_count": null,
      "metadata": {
        "colab": {
          "base_uri": "https://localhost:8080/"
        },
        "id": "n3QNhtxpWQNY",
        "outputId": "c39c6b0f-513f-4cc0-92df-c0d6d27b8d84"
      },
      "outputs": [
        {
          "output_type": "execute_result",
          "data": {
            "text/plain": [
              "array(['B-GENERAL#POSITIVE', 'B-GENERAL#NEUTRAL', 'B-GENERAL#NEGATIVE',\n",
              "       'B-DISPLAY#POSITIVE', 'B-DISPLAY#NEUTRAL', 'B-DISPLAY#NEGATIVE',\n",
              "       'B-BATTERY#POSITIVE', 'B-BATTERY#NEUTRAL', 'B-BATTERY#NEGATIVE',\n",
              "       'B-TOUCHPAD#POSITIVE', 'B-TOUCHPAD#NEUTRAL', 'B-TOUCHPAD#NEGATIVE',\n",
              "       'B-KEYBOARD#POSITIVE', 'B-KEYBOARD#NEUTRAL', 'B-KEYBOARD#NEGATIVE',\n",
              "       'B-SERVICE#POSITIVE', 'B-SERVICE#NEUTRAL', 'B-SERVICE#NEGATIVE',\n",
              "       'B-WARRATY#POSITIVE', 'B-WARRATY#NEUTRAL', 'B-WARRATY#NEGATIVE',\n",
              "       'B-STORAGE#POSITIVE', 'B-STORAGE#NEUTRAL', 'B-STORAGE#NEGATIVE',\n",
              "       'B-CONNECTIVITY#POSITIVE', 'B-CONNECTIVITY#NEUTRAL',\n",
              "       'B-CONNECTIVITY#NEGATIVE', 'B-MULTIMEDIA_DEVICES#POSITIVE',\n",
              "       'B-MULTIMEDIA_DEVICES#NEUTRAL', 'B-MULTIMEDIA_DEVICES#NEGATIVE',\n",
              "       'B-DESIGN#POSITIVE', 'B-DESIGN#NEUTRAL', 'B-DESIGN#NEGATIVE',\n",
              "       'B-FANS_COOLING#POSITIVE', 'B-FANS_COOLING#NEUTRAL',\n",
              "       'B-FANS_COOLING#NEGATIVE', 'B-PERFORMANCE#POSITIVE',\n",
              "       'B-PERFORMANCE#NEUTRAL', 'B-PERFORMANCE#NEGATIVE',\n",
              "       'B-PRICE#POSITIVE', 'B-PRICE#NEUTRAL', 'B-PRICE#NEGATIVE',\n",
              "       'B-FEATURES#POSITIVE', 'B-FEATURES#NEUTRAL', 'B-FEATURES#NEGATIVE',\n",
              "       'I-GENERAL#POSITIVE', 'I-GENERAL#NEUTRAL', 'I-GENERAL#NEGATIVE',\n",
              "       'I-DISPLAY#POSITIVE', 'I-DISPLAY#NEUTRAL', 'I-DISPLAY#NEGATIVE',\n",
              "       'I-BATTERY#POSITIVE', 'I-BATTERY#NEUTRAL', 'I-BATTERY#NEGATIVE',\n",
              "       'I-TOUCHPAD#POSITIVE', 'I-TOUCHPAD#NEUTRAL', 'I-TOUCHPAD#NEGATIVE',\n",
              "       'I-KEYBOARD#POSITIVE', 'I-KEYBOARD#NEUTRAL', 'I-KEYBOARD#NEGATIVE',\n",
              "       'I-SERVICE#POSITIVE', 'I-SERVICE#NEUTRAL', 'I-SERVICE#NEGATIVE',\n",
              "       'I-WARRATY#POSITIVE', 'I-WARRATY#NEUTRAL', 'I-WARRATY#NEGATIVE',\n",
              "       'I-STORAGE#POSITIVE', 'I-STORAGE#NEUTRAL', 'I-STORAGE#NEGATIVE',\n",
              "       'I-CONNECTIVITY#POSITIVE', 'I-CONNECTIVITY#NEUTRAL',\n",
              "       'I-CONNECTIVITY#NEGATIVE', 'I-MULTIMEDIA_DEVICES#POSITIVE',\n",
              "       'I-MULTIMEDIA_DEVICES#NEUTRAL', 'I-MULTIMEDIA_DEVICES#NEGATIVE',\n",
              "       'I-DESIGN#POSITIVE', 'I-DESIGN#NEUTRAL', 'I-DESIGN#NEGATIVE',\n",
              "       'I-FANS_COOLING#POSITIVE', 'I-FANS_COOLING#NEUTRAL',\n",
              "       'I-FANS_COOLING#NEGATIVE', 'I-PERFORMANCE#POSITIVE',\n",
              "       'I-PERFORMANCE#NEUTRAL', 'I-PERFORMANCE#NEGATIVE',\n",
              "       'I-PRICE#POSITIVE', 'I-PRICE#NEUTRAL', 'I-PRICE#NEGATIVE',\n",
              "       'I-FEATURES#POSITIVE', 'I-FEATURES#NEUTRAL', 'I-FEATURES#NEGATIVE',\n",
              "       'O'], dtype=object)"
            ]
          },
          "metadata": {},
          "execution_count": 27
        }
      ],
      "source": [
        "tags"
      ]
    },
    {
      "cell_type": "code",
      "execution_count": null,
      "metadata": {
        "id": "T8cI1bjD1bsi"
      },
      "outputs": [],
      "source": [
        "embedding_matrix = np.ones((num_word,embedding_dim))"
      ]
    },
    {
      "cell_type": "code",
      "execution_count": null,
      "metadata": {
        "id": "CUXu4VzA1brv"
      },
      "outputs": [],
      "source": [
        "for w,i in word2idx.items():\n",
        "  if i > 10000:\n",
        "    continue\n",
        "  embedding_vector = embedding_words.get(w)\n",
        "  if embedding_vector is not None:\n",
        "    embedding_matrix[i] = embedding_vector\n",
        "  else:\n",
        "    embedding_matrix[i] = np.random.randn(100)\n"
      ]
    },
    {
      "cell_type": "code",
      "execution_count": null,
      "metadata": {
        "colab": {
          "base_uri": "https://localhost:8080/"
        },
        "id": "LBcroj08PfSe",
        "outputId": "b4b353b8-b996-496c-c434-7edebf761a95"
      },
      "outputs": [
        {
          "output_type": "execute_result",
          "data": {
            "text/plain": [
              "array([[ 5.74881658e-02, -8.54510441e-02,  7.12853372e-02, ...,\n",
              "        -1.55041525e-02, -9.15896967e-02, -4.40163277e-02],\n",
              "       [-1.33968771e-01,  7.32150301e-02,  9.38539568e-04, ...,\n",
              "        -5.94867505e-02,  9.17428359e-02, -6.27832860e-02],\n",
              "       [-1.34450188e-02,  8.29119608e-02,  9.51128900e-02, ...,\n",
              "        -1.38094872e-01,  7.76888207e-02, -2.10761756e-01],\n",
              "       ...,\n",
              "       [ 1.00000000e+00,  1.00000000e+00,  1.00000000e+00, ...,\n",
              "         1.00000000e+00,  1.00000000e+00,  1.00000000e+00],\n",
              "       [ 1.00000000e+00,  1.00000000e+00,  1.00000000e+00, ...,\n",
              "         1.00000000e+00,  1.00000000e+00,  1.00000000e+00],\n",
              "       [ 1.00000000e+00,  1.00000000e+00,  1.00000000e+00, ...,\n",
              "         1.00000000e+00,  1.00000000e+00,  1.00000000e+00]])"
            ]
          },
          "metadata": {},
          "execution_count": 30
        }
      ],
      "source": [
        "embedding_matrix"
      ]
    },
    {
      "cell_type": "code",
      "execution_count": null,
      "metadata": {
        "id": "XJk7_p83tZD0"
      },
      "outputs": [],
      "source": [
        "def encoded(X):\n",
        "  x_new = []\n",
        "  for sent in X:\n",
        "    te = []\n",
        "    for word in sent.split():\n",
        "      try:\n",
        "        te.append(word2idx[word])\n",
        "      except:\n",
        "        te.append(word2idx[\"UNK\"])\n",
        "    x_new.append(te)\n",
        "  x_new = pad_sequences(x_new,maxlen=MAX_LEN,padding='post',truncating = 'post',value = word2idx['PAD'])\n",
        "  return x_new"
      ]
    },
    {
      "cell_type": "code",
      "execution_count": null,
      "metadata": {
        "id": "ZUyRhjK1t2z1"
      },
      "outputs": [],
      "source": [
        "X_train_encoded = encoded(X_train)\n",
        "X_val_encoded = encoded(X_val)\n",
        "X_test_encoded = encoded(X_test)\n"
      ]
    },
    {
      "cell_type": "code",
      "execution_count": null,
      "metadata": {
        "id": "ybuKVeDdWQNZ"
      },
      "outputs": [],
      "source": [
        "y_train_encoded = [[tag2idx[w] for w in y] for y in y_train]\n",
        "y_train_encoded = pad_sequences(y_train_encoded,maxlen=MAX_LEN,padding='post',truncating = 'post',value = tag2idx['PAD'])\n",
        "y_train_encoded = [[to_categorical(z,num_classes = len(tag2idx)) for z in a] for a in y_train_encoded]\n",
        "\n",
        "y_val_encoded = [[tag2idx[w] for w in y] for y in y_val]\n",
        "y_val_encoded = pad_sequences(y_val_encoded,maxlen=MAX_LEN,padding='post',truncating = 'post',value = tag2idx['PAD'])\n",
        "y_val_encoded = [[to_categorical(z,num_classes = len(tag2idx)) for z in a] for a in y_val_encoded]\n",
        "\n",
        "y_test_encoded = [[tag2idx[w] for w in y] for y in y_test]\n",
        "y_test_encoded = pad_sequences(y_test_encoded,maxlen=MAX_LEN,padding='post',truncating = 'post',value = tag2idx['PAD'])\n",
        "y_test_encoded = [[to_categorical(z,num_classes = len(tag2idx)) for z in a] for a in y_test_encoded]\n"
      ]
    },
    {
      "cell_type": "markdown",
      "metadata": {
        "id": "wLw1rMB57INU"
      },
      "source": [
        "## CHARACTER EMBEDDING"
      ]
    },
    {
      "cell_type": "code",
      "execution_count": null,
      "metadata": {
        "id": "T0bdn-al7LSU"
      },
      "outputs": [],
      "source": [
        "chars = 'aàáảãạăằắẳẵặâầấẩẫậèéẻẽẹeêềếểễệiìíỉĩịoòóỏõọôồốổỗộơờớởỡợuùúủũụưừứửữựyỳýỷỹỵđbcdgsfzhwjklmnpqrtvx0123456789 .!?:,+*\\'%-__\\(\\)/$|&;[]🥰🤣❤\"'"
      ]
    },
    {
      "cell_type": "code",
      "execution_count": null,
      "metadata": {
        "id": "qniGvQ-M7MDz"
      },
      "outputs": [],
      "source": [
        "char2idx = {c:i+2 for i,c in enumerate(list(chars))}\n",
        "char2idx[\"UNK\"] = 1\n",
        "char2idx[\"PAD\"] = 0\n",
        "idx2char = {i:c for c,i in char2idx.items()}"
      ]
    },
    {
      "cell_type": "code",
      "execution_count": null,
      "metadata": {
        "colab": {
          "base_uri": "https://localhost:8080/",
          "height": 447
        },
        "id": "5iz6yg061i_q",
        "outputId": "216e54a2-0b40-4480-d703-9fb38a9095c8"
      },
      "outputs": [
        {
          "output_type": "execute_result",
          "data": {
            "text/plain": [
              "<Axes: >"
            ]
          },
          "metadata": {},
          "execution_count": 36
        },
        {
          "output_type": "display_data",
          "data": {
            "text/plain": [
              "<Figure size 640x480 with 1 Axes>"
            ],
            "image/png": "[encoded data removed]"
          },
          "metadata": {}
        }
      ],
      "source": [
        "a = []\n",
        "for s in X_train:\n",
        "  a.extend(s.split())\n",
        "pd.DataFrame(a)[0].apply(len).hist()"
      ]
    },
    {
      "cell_type": "code",
      "execution_count": null,
      "metadata": {
        "id": "MagEv9zb7NB6"
      },
      "outputs": [],
      "source": [
        "MAX_CHAR = 4 #So luong ki tu trong 1 tu"
      ]
    },
    {
      "cell_type": "code",
      "execution_count": null,
      "metadata": {
        "id": "YVeRHbZcjXj0"
      },
      "outputs": [],
      "source": [
        "def charEncoded(X):\n",
        "  x = np.zeros((len(X), MAX_LEN, MAX_CHAR), dtype=np.int64) # +Pad\n",
        "\n",
        "  for i,sentence in enumerate(X):\n",
        "      sentence = sentence.replace(\"_\", \" \")\n",
        "      sentence = sentence.split()\n",
        "      for j,word in enumerate(sentence):\n",
        "          if j > MAX_LEN-1:\n",
        "              break\n",
        "          for k,char in enumerate(word):\n",
        "              if k > MAX_CHAR - 1:\n",
        "                break\n",
        "              try:\n",
        "                  x[i,j,k] = char2idx[char]\n",
        "              except:\n",
        "                  print(char)\n",
        "                  x[i,j,k] = char2idx[\"UNK\"]\n",
        "\n",
        "  return x\n"
      ]
    },
    {
      "cell_type": "code",
      "execution_count": null,
      "metadata": {
        "colab": {
          "base_uri": "https://localhost:8080/"
        },
        "id": "zp14Nim07OAj",
        "outputId": "747936e3-ca39-417b-9aab-59111b23dd67"
      },
      "outputs": [
        {
          "output_type": "stream",
          "name": "stdout",
          "text": [
            "🥲\n",
            ">\n",
            "…\n",
            "…\n",
            "=\n",
            "⭕\n",
            ">\n",
            ">\n",
            ">\n",
            "🤗\n",
            "“\n",
            "”\n",
            "“\n",
            "”\n",
            "=\n",
            "🥲\n"
          ]
        }
      ],
      "source": [
        "X_train_char_encoded = charEncoded(X_train)\n",
        "X_val_char_encoded = charEncoded(X_val)\n",
        "X_test_char_encoded = charEncoded(X_test)\n"
      ]
    },
    {
      "cell_type": "code",
      "source": [
        "X_train_char_encoded"
      ],
      "metadata": {
        "colab": {
          "base_uri": "https://localhost:8080/"
        },
        "id": "jBNcWidEx-p5",
        "outputId": "daa97f9f-63cd-41be-fc55-d6a1d98c5a59"
      },
      "execution_count": null,
      "outputs": [
        {
          "output_type": "execute_result",
          "data": {
            "text/plain": [
              "array([[[ 86,   2,  89,  92],\n",
              "        [ 78,   2,  87,  32],\n",
              "        [ 82,  48,   0,   0],\n",
              "        ...,\n",
              "        [  0,   0,   0,   0],\n",
              "        [  0,   0,   0,   0],\n",
              "        [  0,   0,   0,   0]],\n",
              "\n",
              "       [[ 86,   2,  89,  92],\n",
              "        [ 76,  82,   7,  68],\n",
              "        [ 94,  65,   0,   0],\n",
              "        ...,\n",
              "        [  0,   0,   0,   0],\n",
              "        [  0,   0,   0,   0],\n",
              "        [  0,   0,   0,   0]],\n",
              "\n",
              "       [[ 87,   4,  68,   0],\n",
              "        [ 77,  57,  88,  78],\n",
              "        [ 76,  60,  88,  78],\n",
              "        ...,\n",
              "        [  0,   0,   0,   0],\n",
              "        [  0,   0,   0,   0],\n",
              "        [  0,   0,   0,   0]],\n",
              "\n",
              "       ...,\n",
              "\n",
              "       [[ 86,  38,   2,   0],\n",
              "        [ 75,  21,   0,   0],\n",
              "        [110,   0,   0,   0],\n",
              "        ...,\n",
              "        [  0,   0,   0,   0],\n",
              "        [  0,   0,   0,   0],\n",
              "        [  0,   0,   0,   0]],\n",
              "\n",
              "       [[ 79,   5,  88,   0],\n",
              "        [ 89,  82,  17,  87],\n",
              "        [ 91,  16,  92,   0],\n",
              "        ...,\n",
              "        [  0,   0,   0,   0],\n",
              "        [  0,   0,   0,   0],\n",
              "        [  0,   0,   0,   0]],\n",
              "\n",
              "       [[ 88,  82,  14,  88],\n",
              "        [ 93,  32,  26,  88],\n",
              "        [ 92,  62,   0,   0],\n",
              "        ...,\n",
              "        [  0,   0,   0,   0],\n",
              "        [  0,   0,   0,   0],\n",
              "        [  0,   0,   0,   0]]])"
            ]
          },
          "metadata": {},
          "execution_count": 40
        }
      ]
    },
    {
      "cell_type": "code",
      "execution_count": null,
      "metadata": {
        "colab": {
          "base_uri": "https://localhost:8080/",
          "height": 36
        },
        "id": "yDxfO6OZ0fXG",
        "outputId": "66285ac1-54dc-46bc-c282-1db513168b1d"
      },
      "outputs": [
        {
          "output_type": "execute_result",
          "data": {
            "text/plain": [
              "'mỏng nhẹ , đáp_ứng nhiều nhu_cầu cần_thiết'"
            ],
            "application/vnd.google.colaboratory.intrinsic+json": {
              "type": "string"
            }
          },
          "metadata": {},
          "execution_count": 41
        }
      ],
      "source": [
        "X_test[0]"
      ]
    },
    {
      "cell_type": "code",
      "execution_count": null,
      "metadata": {
        "colab": {
          "base_uri": "https://localhost:8080/"
        },
        "id": "Yp27lODoHeqm",
        "outputId": "098b94ea-1d35-4bba-dc2c-a6c20ab152a4"
      },
      "outputs": [
        {
          "output_type": "execute_result",
          "data": {
            "text/plain": [
              "['đ', 'á', 'p', 'PAD']"
            ]
          },
          "metadata": {},
          "execution_count": 42
        }
      ],
      "source": [
        "list(map(lambda x: idx2char[x],X_test_char_encoded[0][3]))"
      ]
    },
    {
      "cell_type": "markdown",
      "metadata": {
        "id": "7zBixE5NWQNZ"
      },
      "source": [
        "# MODEL"
      ]
    },
    {
      "cell_type": "markdown",
      "metadata": {
        "id": "je_2xCoSqgm0"
      },
      "source": [
        "## CRF CLASS"
      ]
    },
    {
      "cell_type": "code",
      "execution_count": null,
      "metadata": {
        "id": "YQvuwlyGg9rO",
        "colab": {
          "base_uri": "https://localhost:8080/"
        },
        "outputId": "3c3f3a80-a337-4719-948d-d640972d1fc7"
      },
      "outputs": [
        {
          "output_type": "stream",
          "name": "stderr",
          "text": [
            "/usr/local/lib/python3.10/dist-packages/tensorflow_addons/utils/tfa_eol_msg.py:23: UserWarning: \n",
            "\n",
            "TensorFlow Addons (TFA) has ended development and introduction of new features.\n",
            "TFA has entered a minimal maintenance and release mode until a planned end of life in May 2024.\n",
            "Please modify downstream libraries to take dependencies from other repositories in our TensorFlow community (e.g. Keras, Keras-CV, and Keras-NLP). \n",
            "\n",
            "For more information see: https://github.com/tensorflow/addons/issues/2807 \n",
            "\n",
            "  warnings.warn(\n"
          ]
        }
      ],
      "source": [
        "import tensorflow as tf\n",
        "import tensorflow.keras.backend as K\n",
        "import tensorflow.keras.layers as L\n",
        "from tensorflow_addons.text import crf_log_likelihood, crf_decode\n",
        "\n",
        "\n",
        "class CRF(L.Layer):\n",
        "    def __init__(self,\n",
        "                 output_dim,\n",
        "                 sparse_target=True,\n",
        "                 **kwargs):\n",
        "        \"\"\"\n",
        "        Args:\n",
        "            output_dim (int): the number of labels to tag each temporal input.\n",
        "            sparse_target (bool): whether the the ground-truth label represented in one-hot.\n",
        "        Input shape:\n",
        "            (batch_size, sentence length, output_dim)\n",
        "        Output shape:\n",
        "            (batch_size, sentence length, output_dim)\n",
        "        \"\"\"\n",
        "        super(CRF, self).__init__(**kwargs)\n",
        "        self.output_dim = int(output_dim)\n",
        "        self.sparse_target = sparse_target\n",
        "        self.input_spec = L.InputSpec(min_ndim=3)\n",
        "        self.supports_masking = False\n",
        "        self.sequence_lengths = None\n",
        "        self.transitions = None\n",
        "\n",
        "    def build(self, input_shape):\n",
        "        assert len(input_shape) == 3\n",
        "        f_shape = tf.TensorShape(input_shape)\n",
        "        input_spec = L.InputSpec(min_ndim=3, axes={-1: f_shape[-1]})\n",
        "\n",
        "        if f_shape[-1] is None:\n",
        "            raise ValueError('The last dimension of the inputs to `CRF` '\n",
        "                             'should be defined. Found `None`.')\n",
        "        if f_shape[-1] != self.output_dim:\n",
        "            raise ValueError('The last dimension of the input shape must be equal to output'\n",
        "                             ' shape. Use a linear layer if needed.')\n",
        "        self.input_spec = input_spec\n",
        "        self.transitions = self.add_weight(name='transitions',\n",
        "                                           shape=[self.output_dim, self.output_dim],\n",
        "                                           initializer='glorot_uniform',\n",
        "                                           trainable=True)\n",
        "        self.built = True\n",
        "\n",
        "    def compute_mask(self, inputs, mask=None):\n",
        "        # Just pass the received mask from previous layer, to the next layer or\n",
        "        # manipulate it if this layer changes the shape of the input\n",
        "        return mask\n",
        "\n",
        "    def call(self, inputs, sequence_lengths=None, training=None, **kwargs):\n",
        "        sequences = tf.convert_to_tensor(inputs, dtype=self.dtype)\n",
        "        if sequence_lengths is not None:\n",
        "            assert len(sequence_lengths.shape) == 2\n",
        "            assert tf.convert_to_tensor(sequence_lengths).dtype == 'int32'\n",
        "            seq_len_shape = tf.convert_to_tensor(sequence_lengths).get_shape().as_list()\n",
        "            assert seq_len_shape[1] == 1\n",
        "            self.sequence_lengths = K.flatten(sequence_lengths)\n",
        "        else:\n",
        "            self.sequence_lengths = tf.ones(tf.shape(inputs)[0], dtype=tf.int32) * (\n",
        "                tf.shape(inputs)[1]\n",
        "            )\n",
        "\n",
        "        viterbi_sequence, _ = crf_decode(sequences,\n",
        "                                         self.transitions,\n",
        "                                         self.sequence_lengths)\n",
        "        output = K.one_hot(viterbi_sequence, self.output_dim)\n",
        "        return K.in_train_phase(sequences, output)\n",
        "\n",
        "    @property\n",
        "    def loss(self):\n",
        "        def crf_loss(y_true, y_pred):\n",
        "            y_pred = tf.convert_to_tensor(y_pred, dtype=self.dtype)\n",
        "            log_likelihood, self.transitions = crf_log_likelihood(\n",
        "                y_pred,\n",
        "                tf.cast(K.argmax(y_true), dtype=tf.int32) if self.sparse_target else y_true,\n",
        "                self.sequence_lengths,\n",
        "                transition_params=self.transitions,\n",
        "            )\n",
        "            return tf.reduce_mean(-log_likelihood)\n",
        "        return crf_loss\n",
        "\n",
        "    @property\n",
        "    def accuracy(self):\n",
        "        def viterbi_accuracy(y_true, y_pred):\n",
        "            # -1e10 to avoid zero at sum(mask)\n",
        "            mask = K.cast(\n",
        "                K.all(K.greater(y_pred, -1e10), axis=2), K.floatx())\n",
        "            shape = tf.shape(y_pred)\n",
        "            sequence_lengths = tf.ones(shape[0], dtype=tf.int32) * (shape[1])\n",
        "            y_pred, _ = crf_decode(y_pred, self.transitions, sequence_lengths)\n",
        "            if self.sparse_target:\n",
        "                y_true = K.argmax(y_true, 2)\n",
        "            y_pred = K.cast(y_pred, 'int32')\n",
        "            y_true = K.cast(y_true, 'int32')\n",
        "            corrects = K.cast(K.equal(y_true, y_pred), K.floatx())\n",
        "            return K.sum(corrects * mask) / K.sum(mask)\n",
        "        return viterbi_accuracy\n",
        "\n",
        "    def compute_output_shape(self, input_shape):\n",
        "        tf.TensorShape(input_shape).assert_has_rank(3)\n",
        "        return input_shape[:2] + (self.output_dim,)\n",
        "\n",
        "    def get_config(self):\n",
        "        config = {\n",
        "            'output_dim': self.output_dim,\n",
        "            'sparse_target': self.sparse_target,\n",
        "            'supports_masking': self.supports_masking,\n",
        "            'transitions': K.eval(self.transitions)\n",
        "        }\n",
        "        base_config = super(CRF, self).get_config()\n",
        "        return dict(base_config, **config)\n"
      ]
    },
    {
      "cell_type": "markdown",
      "metadata": {
        "id": "OevRcS4cqtr2"
      },
      "source": [
        "## WORD + CHARACTER + CONTEXTUAL EMBEDDING"
      ]
    },
    {
      "cell_type": "code",
      "execution_count": null,
      "metadata": {
        "id": "-YpQYERZezvJ",
        "colab": {
          "base_uri": "https://localhost:8080/",
          "height": 130,
          "referenced_widgets": [
            "fd4e0ad0e8034918a7444688144f7f7f",
            "e0a510cdbd204160b630882d25724057",
            "e9e7ecda40774a6587283e9ab11acd0a",
            "a323b030904b438783457872c8be8aa8",
            "ce2d8e0a2bf84bb6b7dbd2b286d5f5bb",
            "5c2f9b1015c44c7e88dcb94a5289427c",
            "ac36bf4285e54bad99d73aa00b659e8f",
            "67040317b9a940edad22aac610956a23",
            "60a430ff7ed646909abdf7868ad6451e",
            "79b9e37cceae4eaaacc721136cf131f7",
            "cfa29020b7504ec0816b3dfa8067b93f",
            "0c529b7df93a427095076019dcba0099",
            "aee516d3fb1341e9bec83d49e333abd3",
            "bf7e1ce3ba96433ab026ba3d92a6ff87",
            "c6be26cf40974a2b886d63248bd379be",
            "0f33f9d2932b443bb4323e17dedeb48a",
            "3e0c01c606654d87b1d72da37b5e8a3a",
            "cf3d3836f63840ebb91cd04244fa9d03",
            "b1b5651c570747f3b1a5a8ef8a02191a",
            "0e96bfdddeb6460b967f62765517418c",
            "db53a3844e70426f81d1d34088a25792",
            "a0fdc60660e14c3a9c40ac3cc7e70bb9",
            "74575fa309804964b5ddc20c864057d8",
            "c6adaa4d0b4e465bab06748b703b5a9d",
            "72e30a59d96e46379ecfa8005297b6e0",
            "01dbca54d42648d99507707273e9a096",
            "90e4ed7df5334ee4aa577b4377bcab3e",
            "e8ec6ac44c7048b7b2a93d4e223c65e2",
            "f1bbf4b651834905a24aa0edfb7e424c",
            "4c6105d391554ad7bf70dc46eb03436f",
            "e0c75a91810348f98ca5252bb95a41b3",
            "a7a13ebf92754ba2880d0e51b446df76",
            "2ba2523a03004d9d8ce33723a649dc3d"
          ]
        },
        "outputId": "45d8c551-bc6c-4f3a-b430-c11bc21971fc"
      },
      "outputs": [
        {
          "output_type": "display_data",
          "data": {
            "text/plain": [
              "Downloading (…)lve/main/config.json:   0%|          | 0.00/557 [00:00<?, ?B/s]"
            ],
            "application/vnd.jupyter.widget-view+json": {
              "version_major": 2,
              "version_minor": 0,
              "model_id": "fd4e0ad0e8034918a7444688144f7f7f"
            }
          },
          "metadata": {}
        },
        {
          "output_type": "display_data",
          "data": {
            "text/plain": [
              "Downloading (…)solve/main/vocab.txt:   0%|          | 0.00/895k [00:00<?, ?B/s]"
            ],
            "application/vnd.jupyter.widget-view+json": {
              "version_major": 2,
              "version_minor": 0,
              "model_id": "0c529b7df93a427095076019dcba0099"
            }
          },
          "metadata": {}
        },
        {
          "output_type": "display_data",
          "data": {
            "text/plain": [
              "Downloading (…)solve/main/bpe.codes:   0%|          | 0.00/1.14M [00:00<?, ?B/s]"
            ],
            "application/vnd.jupyter.widget-view+json": {
              "version_major": 2,
              "version_minor": 0,
              "model_id": "74575fa309804964b5ddc20c864057d8"
            }
          },
          "metadata": {}
        },
        {
          "output_type": "stream",
          "name": "stderr",
          "text": [
            "Special tokens have been added in the vocabulary, make sure the associated word embeddings are fine-tuned or trained.\n"
          ]
        }
      ],
      "source": [
        "from transformers import AutoTokenizer,TFAutoModelForTokenClassification\n",
        "tokenizer = AutoTokenizer.from_pretrained(PRETRAINED_MODEL)\n"
      ]
    },
    {
      "cell_type": "code",
      "source": [
        "def ConcatToPretrainFormat(x, y, X_encoded, X_char_encoded, tokenizer, batch_size,is_shuffle = False):\n",
        "  features = {k:[] for k in tokenizer.model_input_names}\n",
        "  for i in range(len(x)):\n",
        "\n",
        "    token = tokenizer(x[i],padding = 'max_length',max_length = MAX_LEN,truncation=True)\n",
        "    for name in tokenizer.model_input_names:\n",
        "      temp = np.asarray(token[name]).astype('float')\n",
        "      features[name].append(temp)\n",
        "\n",
        "  for k,v in features.items():\n",
        "    features[k] = np.asarray(features[k])\n",
        "\n",
        "  y_new = np.zeros((len(y),MAX_LEN)) # [CLS] token\n",
        "  for i in range(len(y)):\n",
        "      y_new[i] = AlignLabel().tokenize_and_alignlabel(x[i],y[i],tag2idx,tokenizer)\n",
        "\n",
        "  y_new = [to_categorical(y_new[i],num_classes = len(tag2idx)) for i in range(len(y_new))]\n",
        "\n",
        "  dataset = tf.data.Dataset.from_tensor_slices(\n",
        "      (\n",
        "      {\"word_input\":X_encoded,\"char_input\":X_char_encoded,\n",
        "       \"input_ids\":features['input_ids'],\"token_type_ids\":features['token_type_ids'], \"attention_mask\":features['attention_mask']}\n",
        "      ,y_new)\n",
        "      )\n",
        "  if is_shuffle:\n",
        "    dataset = dataset.shuffle(buffer_size = len(y_new))\n",
        "  dataset = dataset.batch(batch_size).cache().prefetch(buffer_size=tf.data.AUTOTUNE)\n",
        "\n",
        "  return dataset\n"
      ],
      "metadata": {
        "id": "9mnAispZ2BJu"
      },
      "execution_count": null,
      "outputs": []
    },
    {
      "cell_type": "code",
      "source": [
        "train = ConcatToPretrainFormat(X_train,y_train,X_train_encoded, X_train_char_encoded, tokenizer,BATCH_SIZE,is_shuffle = True)\n",
        "val = ConcatToPretrainFormat(X_val,y_val,X_val_encoded, X_val_char_encoded,tokenizer,BATCH_SIZE)\n",
        "test = ConcatToPretrainFormat(X_test,y_test,X_test_encoded, X_test_char_encoded,tokenizer,BATCH_SIZE)\n",
        "train"
      ],
      "metadata": {
        "colab": {
          "base_uri": "https://localhost:8080/"
        },
        "id": "rHW_PYZF2C81",
        "outputId": "2e972766-e9ff-426a-a24b-014f4c1c697e"
      },
      "execution_count": null,
      "outputs": [
        {
          "output_type": "execute_result",
          "data": {
            "text/plain": [
              "<_PrefetchDataset element_spec=({'word_input': TensorSpec(shape=(None, 256), dtype=tf.int32, name=None), 'char_input': TensorSpec(shape=(None, 256, 4), dtype=tf.int64, name=None), 'input_ids': TensorSpec(shape=(None, 256), dtype=tf.float64, name=None), 'token_type_ids': TensorSpec(shape=(None, 256), dtype=tf.float64, name=None), 'attention_mask': TensorSpec(shape=(None, 256), dtype=tf.float64, name=None)}, TensorSpec(shape=(None, 256, 92), dtype=tf.float32, name=None))>"
            ]
          },
          "metadata": {},
          "execution_count": 47
        }
      ]
    },
    {
      "cell_type": "code",
      "execution_count": null,
      "metadata": {
        "colab": {
          "base_uri": "https://localhost:8080/",
          "height": 190,
          "referenced_widgets": [
            "b688de64b1744779bbf7edf338a19d60",
            "2378903042a34d2b8bfc5b1711ba016b",
            "2f0bb8a10c5346da83a16c19d3f041e6",
            "dec64629bc9b40f880173f16dd3acaab",
            "bc1c6a983c6e425ba30689044da46afc",
            "28209ac9e0f54e14891b09e6f46324b2",
            "c11d3fcee835485cb262e5df71f3e26c",
            "ae2ebdaf26714034bf3668ea72e62ef4",
            "5a5a24ee0ce04d6fb528419c2a914ec2",
            "4dfd6b27d56741898daf451de59a9dd5",
            "6261754164b240cca40109706b41a29c"
          ]
        },
        "id": "vg5-hpFGpHvf",
        "outputId": "11ee2956-df5e-41c3-8e63-feece100708a"
      },
      "outputs": [
        {
          "output_type": "stream",
          "name": "stderr",
          "text": [
            "WARNING:tensorflow:Layer lstm will not use cuDNN kernels since it doesn't meet the criteria. It will use a generic GPU kernel as fallback when running on GPU.\n",
            "WARNING:tensorflow:Layer lstm will not use cuDNN kernels since it doesn't meet the criteria. It will use a generic GPU kernel as fallback when running on GPU.\n",
            "WARNING:tensorflow:Layer lstm will not use cuDNN kernels since it doesn't meet the criteria. It will use a generic GPU kernel as fallback when running on GPU.\n"
          ]
        },
        {
          "output_type": "display_data",
          "data": {
            "text/plain": [
              "Downloading tf_model.h5:   0%|          | 0.00/740M [00:00<?, ?B/s]"
            ],
            "application/vnd.jupyter.widget-view+json": {
              "version_major": 2,
              "version_minor": 0,
              "model_id": "b688de64b1744779bbf7edf338a19d60"
            }
          },
          "metadata": {}
        },
        {
          "output_type": "stream",
          "name": "stderr",
          "text": [
            "All model checkpoint layers were used when initializing TFRobertaForTokenClassification.\n",
            "\n",
            "Some layers of TFRobertaForTokenClassification were not initialized from the model checkpoint at vinai/phobert-base and are newly initialized: ['classifier']\n",
            "You should probably TRAIN this model on a down-stream task to be able to use it for predictions and inference.\n"
          ]
        }
      ],
      "source": [
        "# WORD EMBEDDING\n",
        "input = Input(shape=(MAX_LEN,),name = 'word_input')\n",
        "embedding = Embedding(input_dim= len(word2idx), output_dim=100,\n",
        "                  input_length=MAX_LEN, embeddings_initializer = Constant(embedding_matrix),trainable = True, name = 'word_embedding')(input)\n",
        "\n",
        "# CHAR EMBEDDING\n",
        "char_input = Input(shape=(MAX_LEN, MAX_CHAR),name = 'char_input')\n",
        "char = TimeDistributed(\n",
        "    Embedding(input_dim=len(chars) + 2, output_dim = MAX_CHAR,\n",
        "                input_length=MAX_CHAR,name = 'char_embedding'),name = 'time_char_embedding'\n",
        ")(char_input)\n",
        "char = TimeDistributed(\n",
        "    Bidirectional(\n",
        "        LSTM(MAX_CHAR, return_sequences=False,recurrent_dropout=0.1),\n",
        "    )\n",
        ")(char)\n",
        "\n",
        "# CONTEXTUAL EMBEDDING\n",
        "inputs_pretrained = {\n",
        "    \"input_ids\" : Input(shape = (MAX_LEN),dtype = 'int32', name = 'input_ids'),\n",
        "    \"token_type_ids\": Input(shape = (MAX_LEN),dtype = 'int32', name = 'token_type_ids'),\n",
        "    \"attention_mask\": Input(shape = (MAX_LEN),dtype = 'int32', name = 'attention_mask')\n",
        "}\n",
        "\n",
        "pre_model = TFAutoModelForTokenClassification.from_pretrained(PRETRAINED_MODEL, output_hidden_states = True)\n",
        "features = pre_model(inputs_pretrained)[-1]\n"
      ]
    },
    {
      "cell_type": "code",
      "execution_count": null,
      "metadata": {
        "colab": {
          "base_uri": "https://localhost:8080/"
        },
        "id": "8FYB9S76SO5S",
        "outputId": "f6586659-6ad5-4cb2-d0df-a1d3c09ffee9"
      },
      "outputs": [
        {
          "output_type": "stream",
          "name": "stdout",
          "text": [
            "Model: \"model\"\n",
            "__________________________________________________________________________________________________\n",
            " Layer (type)                   Output Shape         Param #     Connected to                     \n",
            "==================================================================================================\n",
            " char_input (InputLayer)        [(None, 256, 4)]     0           []                               \n",
            "                                                                                                  \n",
            " attention_mask (InputLayer)    [(None, 256)]        0           []                               \n",
            "                                                                                                  \n",
            " input_ids (InputLayer)         [(None, 256)]        0           []                               \n",
            "                                                                                                  \n",
            " token_type_ids (InputLayer)    [(None, 256)]        0           []                               \n",
            "                                                                                                  \n",
            " word_input (InputLayer)        [(None, 256)]        0           []                               \n",
            "                                                                                                  \n",
            " time_char_embedding (TimeDistr  (None, 256, 4, 4)   532         ['char_input[0][0]']             \n",
            " ibuted)                                                                                          \n",
            "                                                                                                  \n",
            " tf_roberta_for_token_classific  TFTokenClassifierOu  134409218  ['attention_mask[0][0]',         \n",
            " ation (TFRobertaForTokenClassi  tput(loss=None, log              'input_ids[0][0]',              \n",
            " fication)                      its=(None, 256, 2),               'token_type_ids[0][0]']         \n",
            "                                 hidden_states=((No                                               \n",
            "                                ne, 256, 768),                                                    \n",
            "                                 (None, 256, 768),                                                \n",
            "                                 (None, 256, 768),                                                \n",
            "                                 (None, 256, 768),                                                \n",
            "                                 (None, 256, 768),                                                \n",
            "                                 (None, 256, 768),                                                \n",
            "                                 (None, 256, 768),                                                \n",
            "                                 (None, 256, 768),                                                \n",
            "                                 (None, 256, 768),                                                \n",
            "                                 (None, 256, 768),                                                \n",
            "                                 (None, 256, 768),                                                \n",
            "                                 (None, 256, 768),                                                \n",
            "                                 (None, 256, 768)),                                               \n",
            "                                 attentions=None)                                                 \n",
            "                                                                                                  \n",
            " word_embedding (Embedding)     (None, 256, 100)     158750700   ['word_input[0][0]']             \n",
            "                                                                                                  \n",
            " time_distributed (TimeDistribu  (None, 256, 8)      288         ['time_char_embedding[0][0]']    \n",
            " ted)                                                                                             \n",
            "                                                                                                  \n",
            " dropout_38 (Dropout)           (None, 256, 768)     0           ['tf_roberta_for_token_classifica\n",
            "                                                                 tion[0][12]']                    \n",
            "                                                                                                  \n",
            " concatenate (Concatenate)      (None, 256, 876)     0           ['word_embedding[0][0]',         \n",
            "                                                                  'time_distributed[0][0]',       \n",
            "                                                                  'dropout_38[0][0]']             \n",
            "                                                                                                  \n",
            " bidirectional_1 (Bidirectional  (None, 256, 876)    12285024    ['concatenate[0][0]']            \n",
            " )                                                                                                \n",
            "                                                                                                  \n",
            " time_distributed_1 (TimeDistri  (None, 256, 92)     80684       ['bidirectional_1[0][0]']        \n",
            " buted)                                                                                           \n",
            "                                                                                                  \n",
            " crf (CRF)                      (None, 256, 92)      8464        ['time_distributed_1[0][0]']     \n",
            "                                                                                                  \n",
            "==================================================================================================\n",
            "Total params: 305,534,910\n",
            "Trainable params: 305,534,910\n",
            "Non-trainable params: 0\n",
            "__________________________________________________________________________________________________\n"
          ]
        }
      ],
      "source": [
        "dropout = Dropout(0.1) (features[-1])\n",
        "\n",
        "inputs = concatenate([embedding,char,dropout])\n",
        "\n",
        "bi_lstm = Bidirectional(LSTM((768+100+8),return_sequences=True),merge_mode='sum') (inputs)\n",
        "\n",
        "time = TimeDistributed(Dense(len(tag2idx),activation = 'relu')) (bi_lstm)\n",
        "\n",
        "crf_layer = CRF(len(tag2idx))\n",
        "output = crf_layer(time)\n",
        "\n",
        "wcc_model = Model(inputs = [input,char_input,inputs_pretrained],outputs = output)\n",
        "wcc_model.summary()\n",
        "\n"
      ]
    },
    {
      "cell_type": "code",
      "source": [
        "tf.keras.utils.plot_model(wcc_model,show_shapes=True)"
      ],
      "metadata": {
        "colab": {
          "base_uri": "https://localhost:8080/",
          "height": 774
        },
        "id": "1xf6jN6XEcZ7",
        "outputId": "cb1f47fa-96ff-4bf6-f278-2324a77965f4"
      },
      "execution_count": null,
      "outputs": [
        {
          "output_type": "execute_result",
          "data": {
            "image/png": "[encoded data removed]",
            "text/plain": [
              "<IPython.core.display.Image object>"
            ]
          },
          "metadata": {},
          "execution_count": 50
        }
      ]
    },
    {
      "cell_type": "code",
      "execution_count": null,
      "metadata": {
        "id": "WyYtsGEo0rIL"
      },
      "outputs": [],
      "source": [
        "from tensorflow.keras.callbacks import EarlyStopping\n",
        "\n",
        "early_stop = EarlyStopping(\n",
        "    monitor = 'viterbi_accuracy',\n",
        "    patience = 4,\n",
        "    restore_best_weights = True\n",
        "    )\n"
      ]
    },
    {
      "cell_type": "code",
      "source": [],
      "metadata": {
        "id": "Xpoa4IsKYRoX"
      },
      "execution_count": null,
      "outputs": []
    },
    {
      "cell_type": "code",
      "execution_count": null,
      "metadata": {
        "colab": {
          "base_uri": "https://localhost:8080/"
        },
        "outputId": "82920b19-9cce-4ec9-ac39-8b4ace282b73",
        "id": "3a60Z2emYR4L"
      },
      "outputs": [
        {
          "output_type": "stream",
          "name": "stdout",
          "text": [
            "Epoch 1/30\n"
          ]
        },
        {
          "output_type": "stream",
          "name": "stderr",
          "text": [
            "WARNING:tensorflow:Gradients do not exist for variables ['tf_roberta_for_token_classification_3/classifier/kernel:0', 'tf_roberta_for_token_classification_3/classifier/bias:0'] when minimizing the loss. If you're using `model.compile()`, did you forget to provide a `loss` argument?\n",
            "WARNING:tensorflow:Gradients do not exist for variables ['tf_roberta_for_token_classification_3/classifier/kernel:0', 'tf_roberta_for_token_classification_3/classifier/bias:0'] when minimizing the loss. If you're using `model.compile()`, did you forget to provide a `loss` argument?\n",
            "WARNING:tensorflow:Gradients do not exist for variables ['tf_roberta_for_token_classification_3/classifier/kernel:0', 'tf_roberta_for_token_classification_3/classifier/bias:0'] when minimizing the loss. If you're using `model.compile()`, did you forget to provide a `loss` argument?\n",
            "WARNING:tensorflow:Gradients do not exist for variables ['tf_roberta_for_token_classification_3/classifier/kernel:0', 'tf_roberta_for_token_classification_3/classifier/bias:0'] when minimizing the loss. If you're using `model.compile()`, did you forget to provide a `loss` argument?\n"
          ]
        },
        {
          "output_type": "stream",
          "name": "stdout",
          "text": [
            "134/134 [==============================] - 343s 2s/step - loss: 195.0700 - viterbi_accuracy: 0.8423 - val_loss: 885.0767 - val_viterbi_accuracy: 0.9563\n",
            "Epoch 2/30\n",
            "134/134 [==============================] - 246s 2s/step - loss: 47.9702 - viterbi_accuracy: 0.9564 - val_loss: 884.6483 - val_viterbi_accuracy: 0.9573\n",
            "Epoch 3/30\n",
            "134/134 [==============================] - 245s 2s/step - loss: 39.2997 - viterbi_accuracy: 0.9626 - val_loss: 882.4637 - val_viterbi_accuracy: 0.9651\n",
            "Epoch 4/30\n",
            "134/134 [==============================] - 251s 2s/step - loss: 31.1769 - viterbi_accuracy: 0.9705 - val_loss: 881.4779 - val_viterbi_accuracy: 0.9683\n",
            "Epoch 5/30\n",
            "134/134 [==============================] - 245s 2s/step - loss: 26.3053 - viterbi_accuracy: 0.9751 - val_loss: 881.5579 - val_viterbi_accuracy: 0.9673\n",
            "Epoch 6/30\n",
            "134/134 [==============================] - 250s 2s/step - loss: 22.6377 - viterbi_accuracy: 0.9784 - val_loss: 880.9111 - val_viterbi_accuracy: 0.9692\n",
            "Epoch 7/30\n",
            "134/134 [==============================] - 243s 2s/step - loss: 19.4607 - viterbi_accuracy: 0.9813 - val_loss: 880.0903 - val_viterbi_accuracy: 0.9718\n",
            "Epoch 8/30\n",
            "134/134 [==============================] - 242s 2s/step - loss: 17.6861 - viterbi_accuracy: 0.9827 - val_loss: 880.3937 - val_viterbi_accuracy: 0.9700\n",
            "Epoch 9/30\n",
            "134/134 [==============================] - 244s 2s/step - loss: 15.1814 - viterbi_accuracy: 0.9857 - val_loss: 879.5877 - val_viterbi_accuracy: 0.9725\n",
            "Epoch 10/30\n",
            "134/134 [==============================] - 241s 2s/step - loss: 13.3528 - viterbi_accuracy: 0.9879 - val_loss: 879.6326 - val_viterbi_accuracy: 0.9718\n",
            "Epoch 11/30\n",
            "134/134 [==============================] - 245s 2s/step - loss: 12.0141 - viterbi_accuracy: 0.9893 - val_loss: 878.9153 - val_viterbi_accuracy: 0.9741\n",
            "Epoch 12/30\n",
            "134/134 [==============================] - 245s 2s/step - loss: 12.5468 - viterbi_accuracy: 0.9891 - val_loss: 878.7727 - val_viterbi_accuracy: 0.9741\n",
            "Epoch 13/30\n",
            "134/134 [==============================] - 243s 2s/step - loss: 10.0949 - viterbi_accuracy: 0.9913 - val_loss: 878.7456 - val_viterbi_accuracy: 0.9736\n"
          ]
        },
        {
          "output_type": "execute_result",
          "data": {
            "text/plain": [
              "<keras.callbacks.History at 0x7f84f04d6950>"
            ]
          },
          "metadata": {},
          "execution_count": 56
        }
      ],
      "source": [
        "wcc_model.compile(optimizer=tf.keras.optimizers.AdamW(5e-5),loss = crf_layer.loss,metrics = crf_layer.accuracy)\n",
        "\n",
        "wcc_model.fit(\n",
        "    train,\n",
        "    validation_data = val,\n",
        "    epochs = 30,\n",
        "    verbose = 1,\n",
        "    callbacks = early_stop\n",
        ")"
      ]
    },
    {
      "cell_type": "markdown",
      "metadata": {
        "id": "-Ul9hIl_D_4Y"
      },
      "source": [
        "# EVALUATE"
      ]
    },
    {
      "cell_type": "code",
      "execution_count": null,
      "metadata": {
        "id": "oTJF1adlxEWz",
        "colab": {
          "base_uri": "https://localhost:8080/"
        },
        "outputId": "44a93093-a129-470b-b246-bbd6fe4d9ffb"
      },
      "outputs": [
        {
          "output_type": "execute_result",
          "data": {
            "text/plain": [
              "array([[[31, 76, 91, ...,  0,  0,  0]],\n",
              "\n",
              "       [[37, 82, 82, ...,  0,  0,  0]],\n",
              "\n",
              "       [[ 1, 46, 46, ...,  0,  0,  0]],\n",
              "\n",
              "       ...,\n",
              "\n",
              "       [[ 6, 51, 51, ...,  0,  0,  0]],\n",
              "\n",
              "       [[16, 61, 61, ...,  0,  0,  0]],\n",
              "\n",
              "       [[37, 82,  0, ...,  0,  0,  0]]])"
            ]
          },
          "metadata": {},
          "execution_count": 60
        }
      ],
      "source": [
        "y_temp = []\n",
        "for i in range(len(y_test)):\n",
        "  y_t = AlignLabel().tokenize_and_alignlabel(X_test[i],y_test[i],tag2idx,tokenizer)\n",
        "  y_temp.append(y_t)\n",
        "y_temp = np.asarray(y_temp)[:,np.newaxis]\n",
        "y_temp"
      ]
    },
    {
      "cell_type": "code",
      "execution_count": null,
      "metadata": {
        "id": "Eln8GW3GBjDU"
      },
      "outputs": [],
      "source": [
        "def caculateAPMetrics(y_test,y_preds,print_report = False):\n",
        "  f1_scores = []\n",
        "  precision_scores = []\n",
        "  recall_scores = []\n",
        "  if print_report:\n",
        "    y_test_flatten = []\n",
        "    y_pred_flatten = []\n",
        "  for i in range(len(y_test)):\n",
        "    # yt = np.array(list(map(lambda x: tag2idx[x],y_test[i])))\n",
        "    yt = pad_sequences([y_test[i][0]],maxlen=MAX_LEN,padding='post',truncating = 'post',value = tag2idx['PAD'])[0]\n",
        "    y_pred = y_preds[i][0]\n",
        "    yt = list(map(lambda x: idx2tag[x],yt))\n",
        "    y_pred = list(map(lambda x: idx2tag[x],y_pred))\n",
        "\n",
        "    # print(yt)\n",
        "    # print(y_pred)\n",
        "    # print(\"==========\")\n",
        "    if print_report:\n",
        "      # dont get B-, I-\n",
        "      y_test_flatten.extend(list(map(lambda x:x[2:] if \"#\" in x else x,yt)))\n",
        "      y_pred_flatten.extend(list(map(lambda x:x[2:] if \"#\" in x else x,y_pred)))\n",
        "\n",
        "    f1_scores.append(f1_score(yt,y_pred,average = 'macro',zero_division=0))\n",
        "    precision_scores.append(precision_score(yt,y_pred,average = 'macro',zero_division=0))\n",
        "    recall_scores.append(recall_score(yt,y_pred,average = 'macro',zero_division=0))\n",
        "\n",
        "  if print_report:\n",
        "    print(classification_report(y_test_flatten, y_pred_flatten,zero_division=0))\n",
        "  return np.mean(precision_scores),np.mean(recall_scores),np.mean(f1_scores)"
      ]
    },
    {
      "cell_type": "markdown",
      "metadata": {
        "id": "00hfH7CLPfb6"
      },
      "source": [
        "## WORD + CHARACTER + CONTEXTUAL"
      ]
    },
    {
      "cell_type": "code",
      "source": [
        "y_preds_wcc = np.argmax(wcc_model.predict(test),axis=-1)"
      ],
      "metadata": {
        "colab": {
          "base_uri": "https://localhost:8080/"
        },
        "id": "k_qYuGVYHeR6",
        "outputId": "068c75a6-a346-4e8a-b00e-750919227f89"
      },
      "execution_count": null,
      "outputs": [
        {
          "output_type": "stream",
          "name": "stdout",
          "text": [
            "45/45 [==============================] - 17s 226ms/step\n"
          ]
        }
      ]
    },
    {
      "cell_type": "code",
      "source": [
        "y_preds_wcc[3]"
      ],
      "metadata": {
        "colab": {
          "base_uri": "https://localhost:8080/"
        },
        "id": "da9JlogeK-Tq",
        "outputId": "f1e89f13-afb6-4de2-81af-60d79cea5914"
      },
      "execution_count": null,
      "outputs": [
        {
          "output_type": "execute_result",
          "data": {
            "text/plain": [
              "array([91, 91, 91, 91, 91, 91, 91, 91, 91, 91, 91, 91, 91, 91, 91, 91, 91,\n",
              "       91, 91, 91, 91, 91, 91, 91, 91, 91, 91,  0,  0,  0,  0,  0,  0,  0,\n",
              "        0,  0,  0,  0,  0,  0,  0,  0,  0,  0,  0,  0,  0,  0,  0,  0,  0,\n",
              "        0,  0,  0,  0,  0,  0,  0,  0,  0,  0,  0,  0,  0,  0,  0,  0,  0,\n",
              "        0,  0,  0,  0,  0,  0,  0,  0,  0,  0,  0,  0,  0,  0,  0,  0,  0,\n",
              "        0,  0,  0,  0,  0,  0,  0,  0,  0,  0,  0,  0,  0,  0,  0,  0,  0,\n",
              "        0,  0,  0,  0,  0,  0,  0,  0,  0,  0,  0,  0,  0,  0,  0,  0,  0,\n",
              "        0,  0,  0,  0,  0,  0,  0,  0,  0,  0,  0,  0,  0,  0,  0,  0,  0,\n",
              "        0,  0,  0,  0,  0,  0,  0,  0,  0,  0,  0,  0,  0,  0,  0,  0,  0,\n",
              "        0,  0,  0,  0,  0,  0,  0,  0,  0,  0,  0,  0,  0,  0,  0,  0,  0,\n",
              "        0,  0,  0,  0,  0,  0,  0,  0,  0,  0,  0,  0,  0,  0,  0,  0,  0,\n",
              "        0,  0,  0,  0,  0,  0,  0,  0,  0,  0,  0,  0,  0,  0,  0,  0,  0,\n",
              "        0,  0,  0,  0,  0,  0,  0,  0,  0,  0,  0,  0,  0,  0,  0,  0,  0,\n",
              "        0,  0,  0,  0,  0,  0,  0,  0,  0,  0,  0,  0,  0,  0,  0,  0,  0,\n",
              "        0,  0,  0,  0,  0,  0,  0,  0,  0,  0,  0,  0,  0,  0,  0,  0,  0,\n",
              "        0])"
            ]
          },
          "metadata": {},
          "execution_count": 57
        }
      ]
    },
    {
      "cell_type": "markdown",
      "metadata": {
        "id": "ZfZlATz9bUnC"
      },
      "source": [
        "### ASPECT#POLARITY"
      ]
    },
    {
      "cell_type": "code",
      "execution_count": null,
      "metadata": {
        "colab": {
          "base_uri": "https://localhost:8080/"
        },
        "outputId": "bdc92003-1000-4e7f-fce4-951334a93b9b",
        "id": "UXbZ0Ss3X_Xz"
      },
      "outputs": [
        {
          "output_type": "stream",
          "name": "stdout",
          "text": [
            "Precision score: 0.6264840182088627\n",
            "Recall score: 0.636809101825688\n",
            "F1 score: 0.6180187626835315\n"
          ]
        }
      ],
      "source": [
        "wcc_pre,wcc_re,wcc_f1 = caculateAPMetrics(y_temp,y_preds_wcc[:,np.newaxis],0)\n",
        "print(\"Precision score:\",wcc_pre)\n",
        "print(\"Recall score:\",wcc_re)\n",
        "print(\"F1 score:\",wcc_f1)"
      ]
    },
    {
      "cell_type": "code",
      "source": [],
      "metadata": {
        "id": "bR8My2UAagwZ"
      },
      "execution_count": null,
      "outputs": []
    }
  ],
  "metadata": {
    "accelerator": "GPU",
    "colab": {
      "provenance": [],
      "toc_visible": true
    },
    "gpuClass": "standard",
    "kernelspec": {
      "display_name": "base",
      "language": "python",
      "name": "python3"
    },
    "language_info": {
      "codemirror_mode": {
        "name": "ipython",
        "version": 3
      },
      "file_extension": ".py",
      "mimetype": "text/x-python",
      "name": "python",
      "nbconvert_exporter": "python",
      "pygments_lexer": "ipython3",
      "version": "3.9.7"
    },
    "orig_nbformat": 4,
    "vscode": {
      "interpreter": {
        "hash": "6bfd7e43db9e4734bb66d5adfb403b43705154d42fa8cc6fabe3ef8413fb5b5c"
      }
    },
    "widgets": {
      "application/vnd.jupyter.widget-state+json": {
        "fd4e0ad0e8034918a7444688144f7f7f": {
          "model_module": "@jupyter-widgets/controls",
          "model_name": "HBoxModel",
          "model_module_version": "1.5.0",
          "state": {
            "_dom_classes": [],
            "_model_module": "@jupyter-widgets/controls",
            "_model_module_version": "1.5.0",
            "_model_name": "HBoxModel",
            "_view_count": null,
            "_view_module": "@jupyter-widgets/controls",
            "_view_module_version": "1.5.0",
            "_view_name": "HBoxView",
            "box_style": "",
            "children": [
              "IPY_MODEL_e0a510cdbd204160b630882d25724057",
              "IPY_MODEL_e9e7ecda40774a6587283e9ab11acd0a",
              "IPY_MODEL_a323b030904b438783457872c8be8aa8"
            ],
            "layout": "IPY_MODEL_ce2d8e0a2bf84bb6b7dbd2b286d5f5bb"
          }
        },
        "e0a510cdbd204160b630882d25724057": {
          "model_module": "@jupyter-widgets/controls",
          "model_name": "HTMLModel",
          "model_module_version": "1.5.0",
          "state": {
            "_dom_classes": [],
            "_model_module": "@jupyter-widgets/controls",
            "_model_module_version": "1.5.0",
            "_model_name": "HTMLModel",
            "_view_count": null,
            "_view_module": "@jupyter-widgets/controls",
            "_view_module_version": "1.5.0",
            "_view_name": "HTMLView",
            "description": "",
            "description_tooltip": null,
            "layout": "IPY_MODEL_5c2f9b1015c44c7e88dcb94a5289427c",
            "placeholder": "​",
            "style": "IPY_MODEL_ac36bf4285e54bad99d73aa00b659e8f",
            "value": "Downloading (…)lve/main/config.json: 100%"
          }
        },
        "e9e7ecda40774a6587283e9ab11acd0a": {
          "model_module": "@jupyter-widgets/controls",
          "model_name": "FloatProgressModel",
          "model_module_version": "1.5.0",
          "state": {
            "_dom_classes": [],
            "_model_module": "@jupyter-widgets/controls",
            "_model_module_version": "1.5.0",
            "_model_name": "FloatProgressModel",
            "_view_count": null,
            "_view_module": "@jupyter-widgets/controls",
            "_view_module_version": "1.5.0",
            "_view_name": "ProgressView",
            "bar_style": "success",
            "description": "",
            "description_tooltip": null,
            "layout": "IPY_MODEL_67040317b9a940edad22aac610956a23",
            "max": 557,
            "min": 0,
            "orientation": "horizontal",
            "style": "IPY_MODEL_60a430ff7ed646909abdf7868ad6451e",
            "value": 557
          }
        },
        "a323b030904b438783457872c8be8aa8": {
          "model_module": "@jupyter-widgets/controls",
          "model_name": "HTMLModel",
          "model_module_version": "1.5.0",
          "state": {
            "_dom_classes": [],
            "_model_module": "@jupyter-widgets/controls",
            "_model_module_version": "1.5.0",
            "_model_name": "HTMLModel",
            "_view_count": null,
            "_view_module": "@jupyter-widgets/controls",
            "_view_module_version": "1.5.0",
            "_view_name": "HTMLView",
            "description": "",
            "description_tooltip": null,
            "layout": "IPY_MODEL_79b9e37cceae4eaaacc721136cf131f7",
            "placeholder": "​",
            "style": "IPY_MODEL_cfa29020b7504ec0816b3dfa8067b93f",
            "value": " 557/557 [00:00&lt;00:00, 28.0kB/s]"
          }
        },
        "ce2d8e0a2bf84bb6b7dbd2b286d5f5bb": {
          "model_module": "@jupyter-widgets/base",
          "model_name": "LayoutModel",
          "model_module_version": "1.2.0",
          "state": {
            "_model_module": "@jupyter-widgets/base",
            "_model_module_version": "1.2.0",
            "_model_name": "LayoutModel",
            "_view_count": null,
            "_view_module": "@jupyter-widgets/base",
            "_view_module_version": "1.2.0",
            "_view_name": "LayoutView",
            "align_content": null,
            "align_items": null,
            "align_self": null,
            "border": null,
            "bottom": null,
            "display": null,
            "flex": null,
            "flex_flow": null,
            "grid_area": null,
            "grid_auto_columns": null,
            "grid_auto_flow": null,
            "grid_auto_rows": null,
            "grid_column": null,
            "grid_gap": null,
            "grid_row": null,
            "grid_template_areas": null,
            "grid_template_columns": null,
            "grid_template_rows": null,
            "height": null,
            "justify_content": null,
            "justify_items": null,
            "left": null,
            "margin": null,
            "max_height": null,
            "max_width": null,
            "min_height": null,
            "min_width": null,
            "object_fit": null,
            "object_position": null,
            "order": null,
            "overflow": null,
            "overflow_x": null,
            "overflow_y": null,
            "padding": null,
            "right": null,
            "top": null,
            "visibility": null,
            "width": null
          }
        },
        "5c2f9b1015c44c7e88dcb94a5289427c": {
          "model_module": "@jupyter-widgets/base",
          "model_name": "LayoutModel",
          "model_module_version": "1.2.0",
          "state": {
            "_model_module": "@jupyter-widgets/base",
            "_model_module_version": "1.2.0",
            "_model_name": "LayoutModel",
            "_view_count": null,
            "_view_module": "@jupyter-widgets/base",
            "_view_module_version": "1.2.0",
            "_view_name": "LayoutView",
            "align_content": null,
            "align_items": null,
            "align_self": null,
            "border": null,
            "bottom": null,
            "display": null,
            "flex": null,
            "flex_flow": null,
            "grid_area": null,
            "grid_auto_columns": null,
            "grid_auto_flow": null,
            "grid_auto_rows": null,
            "grid_column": null,
            "grid_gap": null,
            "grid_row": null,
            "grid_template_areas": null,
            "grid_template_columns": null,
            "grid_template_rows": null,
            "height": null,
            "justify_content": null,
            "justify_items": null,
            "left": null,
            "margin": null,
            "max_height": null,
            "max_width": null,
            "min_height": null,
            "min_width": null,
            "object_fit": null,
            "object_position": null,
            "order": null,
            "overflow": null,
            "overflow_x": null,
            "overflow_y": null,
            "padding": null,
            "right": null,
            "top": null,
            "visibility": null,
            "width": null
          }
        },
        "ac36bf4285e54bad99d73aa00b659e8f": {
          "model_module": "@jupyter-widgets/controls",
          "model_name": "DescriptionStyleModel",
          "model_module_version": "1.5.0",
          "state": {
            "_model_module": "@jupyter-widgets/controls",
            "_model_module_version": "1.5.0",
            "_model_name": "DescriptionStyleModel",
            "_view_count": null,
            "_view_module": "@jupyter-widgets/base",
            "_view_module_version": "1.2.0",
            "_view_name": "StyleView",
            "description_width": ""
          }
        },
        "67040317b9a940edad22aac610956a23": {
          "model_module": "@jupyter-widgets/base",
          "model_name": "LayoutModel",
          "model_module_version": "1.2.0",
          "state": {
            "_model_module": "@jupyter-widgets/base",
            "_model_module_version": "1.2.0",
            "_model_name": "LayoutModel",
            "_view_count": null,
            "_view_module": "@jupyter-widgets/base",
            "_view_module_version": "1.2.0",
            "_view_name": "LayoutView",
            "align_content": null,
            "align_items": null,
            "align_self": null,
            "border": null,
            "bottom": null,
            "display": null,
            "flex": null,
            "flex_flow": null,
            "grid_area": null,
            "grid_auto_columns": null,
            "grid_auto_flow": null,
            "grid_auto_rows": null,
            "grid_column": null,
            "grid_gap": null,
            "grid_row": null,
            "grid_template_areas": null,
            "grid_template_columns": null,
            "grid_template_rows": null,
            "height": null,
            "justify_content": null,
            "justify_items": null,
            "left": null,
            "margin": null,
            "max_height": null,
            "max_width": null,
            "min_height": null,
            "min_width": null,
            "object_fit": null,
            "object_position": null,
            "order": null,
            "overflow": null,
            "overflow_x": null,
            "overflow_y": null,
            "padding": null,
            "right": null,
            "top": null,
            "visibility": null,
            "width": null
          }
        },
        "60a430ff7ed646909abdf7868ad6451e": {
          "model_module": "@jupyter-widgets/controls",
          "model_name": "ProgressStyleModel",
          "model_module_version": "1.5.0",
          "state": {
            "_model_module": "@jupyter-widgets/controls",
            "_model_module_version": "1.5.0",
            "_model_name": "ProgressStyleModel",
            "_view_count": null,
            "_view_module": "@jupyter-widgets/base",
            "_view_module_version": "1.2.0",
            "_view_name": "StyleView",
            "bar_color": null,
            "description_width": ""
          }
        },
        "79b9e37cceae4eaaacc721136cf131f7": {
          "model_module": "@jupyter-widgets/base",
          "model_name": "LayoutModel",
          "model_module_version": "1.2.0",
          "state": {
            "_model_module": "@jupyter-widgets/base",
            "_model_module_version": "1.2.0",
            "_model_name": "LayoutModel",
            "_view_count": null,
            "_view_module": "@jupyter-widgets/base",
            "_view_module_version": "1.2.0",
            "_view_name": "LayoutView",
            "align_content": null,
            "align_items": null,
            "align_self": null,
            "border": null,
            "bottom": null,
            "display": null,
            "flex": null,
            "flex_flow": null,
            "grid_area": null,
            "grid_auto_columns": null,
            "grid_auto_flow": null,
            "grid_auto_rows": null,
            "grid_column": null,
            "grid_gap": null,
            "grid_row": null,
            "grid_template_areas": null,
            "grid_template_columns": null,
            "grid_template_rows": null,
            "height": null,
            "justify_content": null,
            "justify_items": null,
            "left": null,
            "margin": null,
            "max_height": null,
            "max_width": null,
            "min_height": null,
            "min_width": null,
            "object_fit": null,
            "object_position": null,
            "order": null,
            "overflow": null,
            "overflow_x": null,
            "overflow_y": null,
            "padding": null,
            "right": null,
            "top": null,
            "visibility": null,
            "width": null
          }
        },
        "cfa29020b7504ec0816b3dfa8067b93f": {
          "model_module": "@jupyter-widgets/controls",
          "model_name": "DescriptionStyleModel",
          "model_module_version": "1.5.0",
          "state": {
            "_model_module": "@jupyter-widgets/controls",
            "_model_module_version": "1.5.0",
            "_model_name": "DescriptionStyleModel",
            "_view_count": null,
            "_view_module": "@jupyter-widgets/base",
            "_view_module_version": "1.2.0",
            "_view_name": "StyleView",
            "description_width": ""
          }
        },
        "0c529b7df93a427095076019dcba0099": {
          "model_module": "@jupyter-widgets/controls",
          "model_name": "HBoxModel",
          "model_module_version": "1.5.0",
          "state": {
            "_dom_classes": [],
            "_model_module": "@jupyter-widgets/controls",
            "_model_module_version": "1.5.0",
            "_model_name": "HBoxModel",
            "_view_count": null,
            "_view_module": "@jupyter-widgets/controls",
            "_view_module_version": "1.5.0",
            "_view_name": "HBoxView",
            "box_style": "",
            "children": [
              "IPY_MODEL_aee516d3fb1341e9bec83d49e333abd3",
              "IPY_MODEL_bf7e1ce3ba96433ab026ba3d92a6ff87",
              "IPY_MODEL_c6be26cf40974a2b886d63248bd379be"
            ],
            "layout": "IPY_MODEL_0f33f9d2932b443bb4323e17dedeb48a"
          }
        },
        "aee516d3fb1341e9bec83d49e333abd3": {
          "model_module": "@jupyter-widgets/controls",
          "model_name": "HTMLModel",
          "model_module_version": "1.5.0",
          "state": {
            "_dom_classes": [],
            "_model_module": "@jupyter-widgets/controls",
            "_model_module_version": "1.5.0",
            "_model_name": "HTMLModel",
            "_view_count": null,
            "_view_module": "@jupyter-widgets/controls",
            "_view_module_version": "1.5.0",
            "_view_name": "HTMLView",
            "description": "",
            "description_tooltip": null,
            "layout": "IPY_MODEL_3e0c01c606654d87b1d72da37b5e8a3a",
            "placeholder": "​",
            "style": "IPY_MODEL_cf3d3836f63840ebb91cd04244fa9d03",
            "value": "Downloading (…)solve/main/vocab.txt: 100%"
          }
        },
        "bf7e1ce3ba96433ab026ba3d92a6ff87": {
          "model_module": "@jupyter-widgets/controls",
          "model_name": "FloatProgressModel",
          "model_module_version": "1.5.0",
          "state": {
            "_dom_classes": [],
            "_model_module": "@jupyter-widgets/controls",
            "_model_module_version": "1.5.0",
            "_model_name": "FloatProgressModel",
            "_view_count": null,
            "_view_module": "@jupyter-widgets/controls",
            "_view_module_version": "1.5.0",
            "_view_name": "ProgressView",
            "bar_style": "success",
            "description": "",
            "description_tooltip": null,
            "layout": "IPY_MODEL_b1b5651c570747f3b1a5a8ef8a02191a",
            "max": 895321,
            "min": 0,
            "orientation": "horizontal",
            "style": "IPY_MODEL_0e96bfdddeb6460b967f62765517418c",
            "value": 895321
          }
        },
        "c6be26cf40974a2b886d63248bd379be": {
          "model_module": "@jupyter-widgets/controls",
          "model_name": "HTMLModel",
          "model_module_version": "1.5.0",
          "state": {
            "_dom_classes": [],
            "_model_module": "@jupyter-widgets/controls",
            "_model_module_version": "1.5.0",
            "_model_name": "HTMLModel",
            "_view_count": null,
            "_view_module": "@jupyter-widgets/controls",
            "_view_module_version": "1.5.0",
            "_view_name": "HTMLView",
            "description": "",
            "description_tooltip": null,
            "layout": "IPY_MODEL_db53a3844e70426f81d1d34088a25792",
            "placeholder": "​",
            "style": "IPY_MODEL_a0fdc60660e14c3a9c40ac3cc7e70bb9",
            "value": " 895k/895k [00:00&lt;00:00, 25.7MB/s]"
          }
        },
        "0f33f9d2932b443bb4323e17dedeb48a": {
          "model_module": "@jupyter-widgets/base",
          "model_name": "LayoutModel",
          "model_module_version": "1.2.0",
          "state": {
            "_model_module": "@jupyter-widgets/base",
            "_model_module_version": "1.2.0",
            "_model_name": "LayoutModel",
            "_view_count": null,
            "_view_module": "@jupyter-widgets/base",
            "_view_module_version": "1.2.0",
            "_view_name": "LayoutView",
            "align_content": null,
            "align_items": null,
            "align_self": null,
            "border": null,
            "bottom": null,
            "display": null,
            "flex": null,
            "flex_flow": null,
            "grid_area": null,
            "grid_auto_columns": null,
            "grid_auto_flow": null,
            "grid_auto_rows": null,
            "grid_column": null,
            "grid_gap": null,
            "grid_row": null,
            "grid_template_areas": null,
            "grid_template_columns": null,
            "grid_template_rows": null,
            "height": null,
            "justify_content": null,
            "justify_items": null,
            "left": null,
            "margin": null,
            "max_height": null,
            "max_width": null,
            "min_height": null,
            "min_width": null,
            "object_fit": null,
            "object_position": null,
            "order": null,
            "overflow": null,
            "overflow_x": null,
            "overflow_y": null,
            "padding": null,
            "right": null,
            "top": null,
            "visibility": null,
            "width": null
          }
        },
        "3e0c01c606654d87b1d72da37b5e8a3a": {
          "model_module": "@jupyter-widgets/base",
          "model_name": "LayoutModel",
          "model_module_version": "1.2.0",
          "state": {
            "_model_module": "@jupyter-widgets/base",
            "_model_module_version": "1.2.0",
            "_model_name": "LayoutModel",
            "_view_count": null,
            "_view_module": "@jupyter-widgets/base",
            "_view_module_version": "1.2.0",
            "_view_name": "LayoutView",
            "align_content": null,
            "align_items": null,
            "align_self": null,
            "border": null,
            "bottom": null,
            "display": null,
            "flex": null,
            "flex_flow": null,
            "grid_area": null,
            "grid_auto_columns": null,
            "grid_auto_flow": null,
            "grid_auto_rows": null,
            "grid_column": null,
            "grid_gap": null,
            "grid_row": null,
            "grid_template_areas": null,
            "grid_template_columns": null,
            "grid_template_rows": null,
            "height": null,
            "justify_content": null,
            "justify_items": null,
            "left": null,
            "margin": null,
            "max_height": null,
            "max_width": null,
            "min_height": null,
            "min_width": null,
            "object_fit": null,
            "object_position": null,
            "order": null,
            "overflow": null,
            "overflow_x": null,
            "overflow_y": null,
            "padding": null,
            "right": null,
            "top": null,
            "visibility": null,
            "width": null
          }
        },
        "cf3d3836f63840ebb91cd04244fa9d03": {
          "model_module": "@jupyter-widgets/controls",
          "model_name": "DescriptionStyleModel",
          "model_module_version": "1.5.0",
          "state": {
            "_model_module": "@jupyter-widgets/controls",
            "_model_module_version": "1.5.0",
            "_model_name": "DescriptionStyleModel",
            "_view_count": null,
            "_view_module": "@jupyter-widgets/base",
            "_view_module_version": "1.2.0",
            "_view_name": "StyleView",
            "description_width": ""
          }
        },
        "b1b5651c570747f3b1a5a8ef8a02191a": {
          "model_module": "@jupyter-widgets/base",
          "model_name": "LayoutModel",
          "model_module_version": "1.2.0",
          "state": {
            "_model_module": "@jupyter-widgets/base",
            "_model_module_version": "1.2.0",
            "_model_name": "LayoutModel",
            "_view_count": null,
            "_view_module": "@jupyter-widgets/base",
            "_view_module_version": "1.2.0",
            "_view_name": "LayoutView",
            "align_content": null,
            "align_items": null,
            "align_self": null,
            "border": null,
            "bottom": null,
            "display": null,
            "flex": null,
            "flex_flow": null,
            "grid_area": null,
            "grid_auto_columns": null,
            "grid_auto_flow": null,
            "grid_auto_rows": null,
            "grid_column": null,
            "grid_gap": null,
            "grid_row": null,
            "grid_template_areas": null,
            "grid_template_columns": null,
            "grid_template_rows": null,
            "height": null,
            "justify_content": null,
            "justify_items": null,
            "left": null,
            "margin": null,
            "max_height": null,
            "max_width": null,
            "min_height": null,
            "min_width": null,
            "object_fit": null,
            "object_position": null,
            "order": null,
            "overflow": null,
            "overflow_x": null,
            "overflow_y": null,
            "padding": null,
            "right": null,
            "top": null,
            "visibility": null,
            "width": null
          }
        },
        "0e96bfdddeb6460b967f62765517418c": {
          "model_module": "@jupyter-widgets/controls",
          "model_name": "ProgressStyleModel",
          "model_module_version": "1.5.0",
          "state": {
            "_model_module": "@jupyter-widgets/controls",
            "_model_module_version": "1.5.0",
            "_model_name": "ProgressStyleModel",
            "_view_count": null,
            "_view_module": "@jupyter-widgets/base",
            "_view_module_version": "1.2.0",
            "_view_name": "StyleView",
            "bar_color": null,
            "description_width": ""
          }
        },
        "db53a3844e70426f81d1d34088a25792": {
          "model_module": "@jupyter-widgets/base",
          "model_name": "LayoutModel",
          "model_module_version": "1.2.0",
          "state": {
            "_model_module": "@jupyter-widgets/base",
            "_model_module_version": "1.2.0",
            "_model_name": "LayoutModel",
            "_view_count": null,
            "_view_module": "@jupyter-widgets/base",
            "_view_module_version": "1.2.0",
            "_view_name": "LayoutView",
            "align_content": null,
            "align_items": null,
            "align_self": null,
            "border": null,
            "bottom": null,
            "display": null,
            "flex": null,
            "flex_flow": null,
            "grid_area": null,
            "grid_auto_columns": null,
            "grid_auto_flow": null,
            "grid_auto_rows": null,
            "grid_column": null,
            "grid_gap": null,
            "grid_row": null,
            "grid_template_areas": null,
            "grid_template_columns": null,
            "grid_template_rows": null,
            "height": null,
            "justify_content": null,
            "justify_items": null,
            "left": null,
            "margin": null,
            "max_height": null,
            "max_width": null,
            "min_height": null,
            "min_width": null,
            "object_fit": null,
            "object_position": null,
            "order": null,
            "overflow": null,
            "overflow_x": null,
            "overflow_y": null,
            "padding": null,
            "right": null,
            "top": null,
            "visibility": null,
            "width": null
          }
        },
        "a0fdc60660e14c3a9c40ac3cc7e70bb9": {
          "model_module": "@jupyter-widgets/controls",
          "model_name": "DescriptionStyleModel",
          "model_module_version": "1.5.0",
          "state": {
            "_model_module": "@jupyter-widgets/controls",
            "_model_module_version": "1.5.0",
            "_model_name": "DescriptionStyleModel",
            "_view_count": null,
            "_view_module": "@jupyter-widgets/base",
            "_view_module_version": "1.2.0",
            "_view_name": "StyleView",
            "description_width": ""
          }
        },
        "74575fa309804964b5ddc20c864057d8": {
          "model_module": "@jupyter-widgets/controls",
          "model_name": "HBoxModel",
          "model_module_version": "1.5.0",
          "state": {
            "_dom_classes": [],
            "_model_module": "@jupyter-widgets/controls",
            "_model_module_version": "1.5.0",
            "_model_name": "HBoxModel",
            "_view_count": null,
            "_view_module": "@jupyter-widgets/controls",
            "_view_module_version": "1.5.0",
            "_view_name": "HBoxView",
            "box_style": "",
            "children": [
              "IPY_MODEL_c6adaa4d0b4e465bab06748b703b5a9d",
              "IPY_MODEL_72e30a59d96e46379ecfa8005297b6e0",
              "IPY_MODEL_01dbca54d42648d99507707273e9a096"
            ],
            "layout": "IPY_MODEL_90e4ed7df5334ee4aa577b4377bcab3e"
          }
        },
        "c6adaa4d0b4e465bab06748b703b5a9d": {
          "model_module": "@jupyter-widgets/controls",
          "model_name": "HTMLModel",
          "model_module_version": "1.5.0",
          "state": {
            "_dom_classes": [],
            "_model_module": "@jupyter-widgets/controls",
            "_model_module_version": "1.5.0",
            "_model_name": "HTMLModel",
            "_view_count": null,
            "_view_module": "@jupyter-widgets/controls",
            "_view_module_version": "1.5.0",
            "_view_name": "HTMLView",
            "description": "",
            "description_tooltip": null,
            "layout": "IPY_MODEL_e8ec6ac44c7048b7b2a93d4e223c65e2",
            "placeholder": "​",
            "style": "IPY_MODEL_f1bbf4b651834905a24aa0edfb7e424c",
            "value": "Downloading (…)solve/main/bpe.codes: 100%"
          }
        },
        "72e30a59d96e46379ecfa8005297b6e0": {
          "model_module": "@jupyter-widgets/controls",
          "model_name": "FloatProgressModel",
          "model_module_version": "1.5.0",
          "state": {
            "_dom_classes": [],
            "_model_module": "@jupyter-widgets/controls",
            "_model_module_version": "1.5.0",
            "_model_name": "FloatProgressModel",
            "_view_count": null,
            "_view_module": "@jupyter-widgets/controls",
            "_view_module_version": "1.5.0",
            "_view_name": "ProgressView",
            "bar_style": "success",
            "description": "",
            "description_tooltip": null,
            "layout": "IPY_MODEL_4c6105d391554ad7bf70dc46eb03436f",
            "max": 1135173,
            "min": 0,
            "orientation": "horizontal",
            "style": "IPY_MODEL_e0c75a91810348f98ca5252bb95a41b3",
            "value": 1135173
          }
        },
        "01dbca54d42648d99507707273e9a096": {
          "model_module": "@jupyter-widgets/controls",
          "model_name": "HTMLModel",
          "model_module_version": "1.5.0",
          "state": {
            "_dom_classes": [],
            "_model_module": "@jupyter-widgets/controls",
            "_model_module_version": "1.5.0",
            "_model_name": "HTMLModel",
            "_view_count": null,
            "_view_module": "@jupyter-widgets/controls",
            "_view_module_version": "1.5.0",
            "_view_name": "HTMLView",
            "description": "",
            "description_tooltip": null,
            "layout": "IPY_MODEL_a7a13ebf92754ba2880d0e51b446df76",
            "placeholder": "​",
            "style": "IPY_MODEL_2ba2523a03004d9d8ce33723a649dc3d",
            "value": " 1.14M/1.14M [00:00&lt;00:00, 5.37MB/s]"
          }
        },
        "90e4ed7df5334ee4aa577b4377bcab3e": {
          "model_module": "@jupyter-widgets/base",
          "model_name": "LayoutModel",
          "model_module_version": "1.2.0",
          "state": {
            "_model_module": "@jupyter-widgets/base",
            "_model_module_version": "1.2.0",
            "_model_name": "LayoutModel",
            "_view_count": null,
            "_view_module": "@jupyter-widgets/base",
            "_view_module_version": "1.2.0",
            "_view_name": "LayoutView",
            "align_content": null,
            "align_items": null,
            "align_self": null,
            "border": null,
            "bottom": null,
            "display": null,
            "flex": null,
            "flex_flow": null,
            "grid_area": null,
            "grid_auto_columns": null,
            "grid_auto_flow": null,
            "grid_auto_rows": null,
            "grid_column": null,
            "grid_gap": null,
            "grid_row": null,
            "grid_template_areas": null,
            "grid_template_columns": null,
            "grid_template_rows": null,
            "height": null,
            "justify_content": null,
            "justify_items": null,
            "left": null,
            "margin": null,
            "max_height": null,
            "max_width": null,
            "min_height": null,
            "min_width": null,
            "object_fit": null,
            "object_position": null,
            "order": null,
            "overflow": null,
            "overflow_x": null,
            "overflow_y": null,
            "padding": null,
            "right": null,
            "top": null,
            "visibility": null,
            "width": null
          }
        },
        "e8ec6ac44c7048b7b2a93d4e223c65e2": {
          "model_module": "@jupyter-widgets/base",
          "model_name": "LayoutModel",
          "model_module_version": "1.2.0",
          "state": {
            "_model_module": "@jupyter-widgets/base",
            "_model_module_version": "1.2.0",
            "_model_name": "LayoutModel",
            "_view_count": null,
            "_view_module": "@jupyter-widgets/base",
            "_view_module_version": "1.2.0",
            "_view_name": "LayoutView",
            "align_content": null,
            "align_items": null,
            "align_self": null,
            "border": null,
            "bottom": null,
            "display": null,
            "flex": null,
            "flex_flow": null,
            "grid_area": null,
            "grid_auto_columns": null,
            "grid_auto_flow": null,
            "grid_auto_rows": null,
            "grid_column": null,
            "grid_gap": null,
            "grid_row": null,
            "grid_template_areas": null,
            "grid_template_columns": null,
            "grid_template_rows": null,
            "height": null,
            "justify_content": null,
            "justify_items": null,
            "left": null,
            "margin": null,
            "max_height": null,
            "max_width": null,
            "min_height": null,
            "min_width": null,
            "object_fit": null,
            "object_position": null,
            "order": null,
            "overflow": null,
            "overflow_x": null,
            "overflow_y": null,
            "padding": null,
            "right": null,
            "top": null,
            "visibility": null,
            "width": null
          }
        },
        "f1bbf4b651834905a24aa0edfb7e424c": {
          "model_module": "@jupyter-widgets/controls",
          "model_name": "DescriptionStyleModel",
          "model_module_version": "1.5.0",
          "state": {
            "_model_module": "@jupyter-widgets/controls",
            "_model_module_version": "1.5.0",
            "_model_name": "DescriptionStyleModel",
            "_view_count": null,
            "_view_module": "@jupyter-widgets/base",
            "_view_module_version": "1.2.0",
            "_view_name": "StyleView",
            "description_width": ""
          }
        },
        "4c6105d391554ad7bf70dc46eb03436f": {
          "model_module": "@jupyter-widgets/base",
          "model_name": "LayoutModel",
          "model_module_version": "1.2.0",
          "state": {
            "_model_module": "@jupyter-widgets/base",
            "_model_module_version": "1.2.0",
            "_model_name": "LayoutModel",
            "_view_count": null,
            "_view_module": "@jupyter-widgets/base",
            "_view_module_version": "1.2.0",
            "_view_name": "LayoutView",
            "align_content": null,
            "align_items": null,
            "align_self": null,
            "border": null,
            "bottom": null,
            "display": null,
            "flex": null,
            "flex_flow": null,
            "grid_area": null,
            "grid_auto_columns": null,
            "grid_auto_flow": null,
            "grid_auto_rows": null,
            "grid_column": null,
            "grid_gap": null,
            "grid_row": null,
            "grid_template_areas": null,
            "grid_template_columns": null,
            "grid_template_rows": null,
            "height": null,
            "justify_content": null,
            "justify_items": null,
            "left": null,
            "margin": null,
            "max_height": null,
            "max_width": null,
            "min_height": null,
            "min_width": null,
            "object_fit": null,
            "object_position": null,
            "order": null,
            "overflow": null,
            "overflow_x": null,
            "overflow_y": null,
            "padding": null,
            "right": null,
            "top": null,
            "visibility": null,
            "width": null
          }
        },
        "e0c75a91810348f98ca5252bb95a41b3": {
          "model_module": "@jupyter-widgets/controls",
          "model_name": "ProgressStyleModel",
          "model_module_version": "1.5.0",
          "state": {
            "_model_module": "@jupyter-widgets/controls",
            "_model_module_version": "1.5.0",
            "_model_name": "ProgressStyleModel",
            "_view_count": null,
            "_view_module": "@jupyter-widgets/base",
            "_view_module_version": "1.2.0",
            "_view_name": "StyleView",
            "bar_color": null,
            "description_width": ""
          }
        },
        "a7a13ebf92754ba2880d0e51b446df76": {
          "model_module": "@jupyter-widgets/base",
          "model_name": "LayoutModel",
          "model_module_version": "1.2.0",
          "state": {
            "_model_module": "@jupyter-widgets/base",
            "_model_module_version": "1.2.0",
            "_model_name": "LayoutModel",
            "_view_count": null,
            "_view_module": "@jupyter-widgets/base",
            "_view_module_version": "1.2.0",
            "_view_name": "LayoutView",
            "align_content": null,
            "align_items": null,
            "align_self": null,
            "border": null,
            "bottom": null,
            "display": null,
            "flex": null,
            "flex_flow": null,
            "grid_area": null,
            "grid_auto_columns": null,
            "grid_auto_flow": null,
            "grid_auto_rows": null,
            "grid_column": null,
            "grid_gap": null,
            "grid_row": null,
            "grid_template_areas": null,
            "grid_template_columns": null,
            "grid_template_rows": null,
            "height": null,
            "justify_content": null,
            "justify_items": null,
            "left": null,
            "margin": null,
            "max_height": null,
            "max_width": null,
            "min_height": null,
            "min_width": null,
            "object_fit": null,
            "object_position": null,
            "order": null,
            "overflow": null,
            "overflow_x": null,
            "overflow_y": null,
            "padding": null,
            "right": null,
            "top": null,
            "visibility": null,
            "width": null
          }
        },
        "2ba2523a03004d9d8ce33723a649dc3d": {
          "model_module": "@jupyter-widgets/controls",
          "model_name": "DescriptionStyleModel",
          "model_module_version": "1.5.0",
          "state": {
            "_model_module": "@jupyter-widgets/controls",
            "_model_module_version": "1.5.0",
            "_model_name": "DescriptionStyleModel",
            "_view_count": null,
            "_view_module": "@jupyter-widgets/base",
            "_view_module_version": "1.2.0",
            "_view_name": "StyleView",
            "description_width": ""
          }
        },
        "b688de64b1744779bbf7edf338a19d60": {
          "model_module": "@jupyter-widgets/controls",
          "model_name": "HBoxModel",
          "model_module_version": "1.5.0",
          "state": {
            "_dom_classes": [],
            "_model_module": "@jupyter-widgets/controls",
            "_model_module_version": "1.5.0",
            "_model_name": "HBoxModel",
            "_view_count": null,
            "_view_module": "@jupyter-widgets/controls",
            "_view_module_version": "1.5.0",
            "_view_name": "HBoxView",
            "box_style": "",
            "children": [
              "IPY_MODEL_2378903042a34d2b8bfc5b1711ba016b",
              "IPY_MODEL_2f0bb8a10c5346da83a16c19d3f041e6",
              "IPY_MODEL_dec64629bc9b40f880173f16dd3acaab"
            ],
            "layout": "IPY_MODEL_bc1c6a983c6e425ba30689044da46afc"
          }
        },
        "2378903042a34d2b8bfc5b1711ba016b": {
          "model_module": "@jupyter-widgets/controls",
          "model_name": "HTMLModel",
          "model_module_version": "1.5.0",
          "state": {
            "_dom_classes": [],
            "_model_module": "@jupyter-widgets/controls",
            "_model_module_version": "1.5.0",
            "_model_name": "HTMLModel",
            "_view_count": null,
            "_view_module": "@jupyter-widgets/controls",
            "_view_module_version": "1.5.0",
            "_view_name": "HTMLView",
            "description": "",
            "description_tooltip": null,
            "layout": "IPY_MODEL_28209ac9e0f54e14891b09e6f46324b2",
            "placeholder": "​",
            "style": "IPY_MODEL_c11d3fcee835485cb262e5df71f3e26c",
            "value": "Downloading tf_model.h5: 100%"
          }
        },
        "2f0bb8a10c5346da83a16c19d3f041e6": {
          "model_module": "@jupyter-widgets/controls",
          "model_name": "FloatProgressModel",
          "model_module_version": "1.5.0",
          "state": {
            "_dom_classes": [],
            "_model_module": "@jupyter-widgets/controls",
            "_model_module_version": "1.5.0",
            "_model_name": "FloatProgressModel",
            "_view_count": null,
            "_view_module": "@jupyter-widgets/controls",
            "_view_module_version": "1.5.0",
            "_view_name": "ProgressView",
            "bar_style": "success",
            "description": "",
            "description_tooltip": null,
            "layout": "IPY_MODEL_ae2ebdaf26714034bf3668ea72e62ef4",
            "max": 740310212,
            "min": 0,
            "orientation": "horizontal",
            "style": "IPY_MODEL_5a5a24ee0ce04d6fb528419c2a914ec2",
            "value": 740310212
          }
        },
        "dec64629bc9b40f880173f16dd3acaab": {
          "model_module": "@jupyter-widgets/controls",
          "model_name": "HTMLModel",
          "model_module_version": "1.5.0",
          "state": {
            "_dom_classes": [],
            "_model_module": "@jupyter-widgets/controls",
            "_model_module_version": "1.5.0",
            "_model_name": "HTMLModel",
            "_view_count": null,
            "_view_module": "@jupyter-widgets/controls",
            "_view_module_version": "1.5.0",
            "_view_name": "HTMLView",
            "description": "",
            "description_tooltip": null,
            "layout": "IPY_MODEL_4dfd6b27d56741898daf451de59a9dd5",
            "placeholder": "​",
            "style": "IPY_MODEL_6261754164b240cca40109706b41a29c",
            "value": " 740M/740M [00:02&lt;00:00, 261MB/s]"
          }
        },
        "bc1c6a983c6e425ba30689044da46afc": {
          "model_module": "@jupyter-widgets/base",
          "model_name": "LayoutModel",
          "model_module_version": "1.2.0",
          "state": {
            "_model_module": "@jupyter-widgets/base",
            "_model_module_version": "1.2.0",
            "_model_name": "LayoutModel",
            "_view_count": null,
            "_view_module": "@jupyter-widgets/base",
            "_view_module_version": "1.2.0",
            "_view_name": "LayoutView",
            "align_content": null,
            "align_items": null,
            "align_self": null,
            "border": null,
            "bottom": null,
            "display": null,
            "flex": null,
            "flex_flow": null,
            "grid_area": null,
            "grid_auto_columns": null,
            "grid_auto_flow": null,
            "grid_auto_rows": null,
            "grid_column": null,
            "grid_gap": null,
            "grid_row": null,
            "grid_template_areas": null,
            "grid_template_columns": null,
            "grid_template_rows": null,
            "height": null,
            "justify_content": null,
            "justify_items": null,
            "left": null,
            "margin": null,
            "max_height": null,
            "max_width": null,
            "min_height": null,
            "min_width": null,
            "object_fit": null,
            "object_position": null,
            "order": null,
            "overflow": null,
            "overflow_x": null,
            "overflow_y": null,
            "padding": null,
            "right": null,
            "top": null,
            "visibility": null,
            "width": null
          }
        },
        "28209ac9e0f54e14891b09e6f46324b2": {
          "model_module": "@jupyter-widgets/base",
          "model_name": "LayoutModel",
          "model_module_version": "1.2.0",
          "state": {
            "_model_module": "@jupyter-widgets/base",
            "_model_module_version": "1.2.0",
            "_model_name": "LayoutModel",
            "_view_count": null,
            "_view_module": "@jupyter-widgets/base",
            "_view_module_version": "1.2.0",
            "_view_name": "LayoutView",
            "align_content": null,
            "align_items": null,
            "align_self": null,
            "border": null,
            "bottom": null,
            "display": null,
            "flex": null,
            "flex_flow": null,
            "grid_area": null,
            "grid_auto_columns": null,
            "grid_auto_flow": null,
            "grid_auto_rows": null,
            "grid_column": null,
            "grid_gap": null,
            "grid_row": null,
            "grid_template_areas": null,
            "grid_template_columns": null,
            "grid_template_rows": null,
            "height": null,
            "justify_content": null,
            "justify_items": null,
            "left": null,
            "margin": null,
            "max_height": null,
            "max_width": null,
            "min_height": null,
            "min_width": null,
            "object_fit": null,
            "object_position": null,
            "order": null,
            "overflow": null,
            "overflow_x": null,
            "overflow_y": null,
            "padding": null,
            "right": null,
            "top": null,
            "visibility": null,
            "width": null
          }
        },
        "c11d3fcee835485cb262e5df71f3e26c": {
          "model_module": "@jupyter-widgets/controls",
          "model_name": "DescriptionStyleModel",
          "model_module_version": "1.5.0",
          "state": {
            "_model_module": "@jupyter-widgets/controls",
            "_model_module_version": "1.5.0",
            "_model_name": "DescriptionStyleModel",
            "_view_count": null,
            "_view_module": "@jupyter-widgets/base",
            "_view_module_version": "1.2.0",
            "_view_name": "StyleView",
            "description_width": ""
          }
        },
        "ae2ebdaf26714034bf3668ea72e62ef4": {
          "model_module": "@jupyter-widgets/base",
          "model_name": "LayoutModel",
          "model_module_version": "1.2.0",
          "state": {
            "_model_module": "@jupyter-widgets/base",
            "_model_module_version": "1.2.0",
            "_model_name": "LayoutModel",
            "_view_count": null,
            "_view_module": "@jupyter-widgets/base",
            "_view_module_version": "1.2.0",
            "_view_name": "LayoutView",
            "align_content": null,
            "align_items": null,
            "align_self": null,
            "border": null,
            "bottom": null,
            "display": null,
            "flex": null,
            "flex_flow": null,
            "grid_area": null,
            "grid_auto_columns": null,
            "grid_auto_flow": null,
            "grid_auto_rows": null,
            "grid_column": null,
            "grid_gap": null,
            "grid_row": null,
            "grid_template_areas": null,
            "grid_template_columns": null,
            "grid_template_rows": null,
            "height": null,
            "justify_content": null,
            "justify_items": null,
            "left": null,
            "margin": null,
            "max_height": null,
            "max_width": null,
            "min_height": null,
            "min_width": null,
            "object_fit": null,
            "object_position": null,
            "order": null,
            "overflow": null,
            "overflow_x": null,
            "overflow_y": null,
            "padding": null,
            "right": null,
            "top": null,
            "visibility": null,
            "width": null
          }
        },
        "5a5a24ee0ce04d6fb528419c2a914ec2": {
          "model_module": "@jupyter-widgets/controls",
          "model_name": "ProgressStyleModel",
          "model_module_version": "1.5.0",
          "state": {
            "_model_module": "@jupyter-widgets/controls",
            "_model_module_version": "1.5.0",
            "_model_name": "ProgressStyleModel",
            "_view_count": null,
            "_view_module": "@jupyter-widgets/base",
            "_view_module_version": "1.2.0",
            "_view_name": "StyleView",
            "bar_color": null,
            "description_width": ""
          }
        },
        "4dfd6b27d56741898daf451de59a9dd5": {
          "model_module": "@jupyter-widgets/base",
          "model_name": "LayoutModel",
          "model_module_version": "1.2.0",
          "state": {
            "_model_module": "@jupyter-widgets/base",
            "_model_module_version": "1.2.0",
            "_model_name": "LayoutModel",
            "_view_count": null,
            "_view_module": "@jupyter-widgets/base",
            "_view_module_version": "1.2.0",
            "_view_name": "LayoutView",
            "align_content": null,
            "align_items": null,
            "align_self": null,
            "border": null,
            "bottom": null,
            "display": null,
            "flex": null,
            "flex_flow": null,
            "grid_area": null,
            "grid_auto_columns": null,
            "grid_auto_flow": null,
            "grid_auto_rows": null,
            "grid_column": null,
            "grid_gap": null,
            "grid_row": null,
            "grid_template_areas": null,
            "grid_template_columns": null,
            "grid_template_rows": null,
            "height": null,
            "justify_content": null,
            "justify_items": null,
            "left": null,
            "margin": null,
            "max_height": null,
            "max_width": null,
            "min_height": null,
            "min_width": null,
            "object_fit": null,
            "object_position": null,
            "order": null,
            "overflow": null,
            "overflow_x": null,
            "overflow_y": null,
            "padding": null,
            "right": null,
            "top": null,
            "visibility": null,
            "width": null
          }
        },
        "6261754164b240cca40109706b41a29c": {
          "model_module": "@jupyter-widgets/controls",
          "model_name": "DescriptionStyleModel",
          "model_module_version": "1.5.0",
          "state": {
            "_model_module": "@jupyter-widgets/controls",
            "_model_module_version": "1.5.0",
            "_model_name": "DescriptionStyleModel",
            "_view_count": null,
            "_view_module": "@jupyter-widgets/base",
            "_view_module_version": "1.2.0",
            "_view_name": "StyleView",
            "description_width": ""
          }
        }
      }
    }
  },
  "nbformat": 4,
  "nbformat_minor": 0
}